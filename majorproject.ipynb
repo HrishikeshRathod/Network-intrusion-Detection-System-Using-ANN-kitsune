{
  "nbformat": 4,
  "nbformat_minor": 0,
  "metadata": {
    "colab": {
      "name": "majorproject",
      "provenance": [],
      "collapsed_sections": []
    },
    "kernelspec": {
      "display_name": "Python 3",
      "name": "python3"
    }
  },
  "cells": [
    {
      "cell_type": "code",
      "metadata": {
        "colab": {
          "base_uri": "https://localhost:8080/"
        },
        "id": "yE458MToSfyO",
        "outputId": "012183e8-7610-4130-ab1b-dbdd29fce3af"
      },
      "source": [
        "import pandas as pd\n",
        "import numpy as np\n",
        "import sys\n",
        "import sklearn\n",
        "print(pd.__version__)\n",
        "print(np.__version__)\n",
        "print(sys.version)\n",
        "print(sklearn.__version__)\n",
        "!pip install scapy"
      ],
      "execution_count": null,
      "outputs": [
        {
          "output_type": "stream",
          "text": [
            "1.1.5\n",
            "1.19.5\n",
            "3.7.10 (default, Feb 20 2021, 21:17:23) \n",
            "[GCC 7.5.0]\n",
            "0.22.2.post1\n",
            "Collecting scapy\n",
            "\u001b[?25l  Downloading https://files.pythonhosted.org/packages/c6/8f/438d4d0bab4c8e22906a7401dd082b4c0f914daf2bbdc7e7e8390d81a5c3/scapy-2.4.4.tar.gz (1.0MB)\n",
            "\u001b[K     |████████████████████████████████| 1.0MB 5.7MB/s \n",
            "\u001b[?25hBuilding wheels for collected packages: scapy\n",
            "  Building wheel for scapy (setup.py) ... \u001b[?25l\u001b[?25hdone\n",
            "  Created wheel for scapy: filename=scapy-2.4.4-py2.py3-none-any.whl size=1189182 sha256=68d546483dc252c2ef07acaabdccefe56e555d30af2d8d230ceac06ff09475aa\n",
            "  Stored in directory: /root/.cache/pip/wheels/2c/e7/01/f097df99ac9cd0d4f744c255f918d471d7a4b0766bc84c38c3\n",
            "Successfully built scapy\n",
            "Installing collected packages: scapy\n",
            "Successfully installed scapy-2.4.4\n"
          ],
          "name": "stdout"
        }
      ]
    },
    {
      "cell_type": "code",
      "metadata": {
        "colab": {
          "base_uri": "https://localhost:8080/"
        },
        "id": "ToJiQzQrSobi",
        "outputId": "f2674095-9788-441f-8592-63e2511028b8"
      },
      "source": [
        "cols=\"\"\"duration,\n",
        "protocol_type,\n",
        "service,\n",
        "flag,\n",
        "src_bytes,\n",
        "dst_bytes,\n",
        "land,\n",
        "wrong_fragment,\n",
        "urgent,\n",
        "hot,\n",
        "num_failed_logins,\n",
        "logged_in,\n",
        "num_compromised,\n",
        "root_shell,\n",
        "su_attempted,\n",
        "num_root,\n",
        "num_file_creations,\n",
        "num_shells,\n",
        "num_access_files,\n",
        "num_outbound_cmds,\n",
        "is_host_login,\n",
        "is_guest_login,\n",
        "count,\n",
        "srv_count,\n",
        "serror_rate,\n",
        "srv_serror_rate,\n",
        "rerror_rate,\n",
        "srv_rerror_rate,\n",
        "same_srv_rate,\n",
        "diff_srv_rate,\n",
        "srv_diff_host_rate,\n",
        "dst_host_count,\n",
        "dst_host_srv_count,\n",
        "dst_host_same_srv_rate,\n",
        "dst_host_diff_srv_rate,\n",
        "dst_host_same_src_port_rate,\n",
        "dst_host_srv_diff_host_rate,\n",
        "dst_host_serror_rate,\n",
        "dst_host_srv_serror_rate,\n",
        "dst_host_rerror_rate,\n",
        "dst_host_srv_rerror_rate\"\"\"\n",
        "\n",
        "columns=[]\n",
        "for c in cols.split(','):\n",
        "    if(c.strip()):\n",
        "       columns.append(c.strip())\n",
        "\n",
        "columns.append('target')\n",
        "#print(columns)\n",
        "print(len(columns))\n"
      ],
      "execution_count": null,
      "outputs": [
        {
          "output_type": "stream",
          "text": [
            "42\n"
          ],
          "name": "stdout"
        }
      ]
    },
    {
      "cell_type": "code",
      "metadata": {
        "id": "nJhi9kZEtFh4"
      },
      "source": [
        "attacks_types = {\n",
        "    'normal': 'normal',\n",
        "'back': 'dos',\n",
        "'buffer_overflow': 'u2r',\n",
        "'ftp_write': 'r2l',\n",
        "'guess_passwd': 'r2l',\n",
        "'imap': 'r2l',\n",
        "'ipsweep': 'probe',\n",
        "'land': 'dos',\n",
        "'loadmodule': 'u2r',\n",
        "'multihop': 'r2l',\n",
        "'neptune': 'dos',\n",
        "'nmap': 'probe',\n",
        "'perl': 'u2r',\n",
        "'phf': 'r2l',\n",
        "'pod': 'dos',\n",
        "'portsweep': 'probe',\n",
        "'rootkit': 'u2r',\n",
        "'satan': 'probe',\n",
        "'smurf': 'dos',\n",
        "'spy': 'r2l',\n",
        "'teardrop': 'dos',\n",
        "'warezclient': 'r2l',\n",
        "'warezmaster': 'r2l',\n",
        "}"
      ],
      "execution_count": null,
      "outputs": []
    },
    {
      "cell_type": "code",
      "metadata": {
        "colab": {
          "base_uri": "https://localhost:8080/",
          "height": 419
        },
        "id": "Xi8IcZIEDWnT",
        "outputId": "3545cbee-d427-4fd9-923b-934c7e37ab8c"
      },
      "source": [
        "df = pd.read_csv('a.csv')\n",
        "\n",
        "#Adding Attack Type column\n",
        "#df['Attack Type'] = df.target.apply(lambda r:attacks_types[r[:-1]])\n",
        "\n",
        "df.head(-10)\n"
      ],
      "execution_count": null,
      "outputs": [
        {
          "output_type": "execute_result",
          "data": {
            "text/html": [
              "<div>\n",
              "<style scoped>\n",
              "    .dataframe tbody tr th:only-of-type {\n",
              "        vertical-align: middle;\n",
              "    }\n",
              "\n",
              "    .dataframe tbody tr th {\n",
              "        vertical-align: top;\n",
              "    }\n",
              "\n",
              "    .dataframe thead th {\n",
              "        text-align: right;\n",
              "    }\n",
              "</style>\n",
              "<table border=\"1\" class=\"dataframe\">\n",
              "  <thead>\n",
              "    <tr style=\"text-align: right;\">\n",
              "      <th></th>\n",
              "      <th>No.</th>\n",
              "      <th>Time</th>\n",
              "      <th>Source</th>\n",
              "      <th>Destination</th>\n",
              "      <th>Protocol</th>\n",
              "      <th>Length</th>\n",
              "      <th>Info</th>\n",
              "    </tr>\n",
              "  </thead>\n",
              "  <tbody>\n",
              "    <tr>\n",
              "      <th>0</th>\n",
              "      <td>1</td>\n",
              "      <td>0.000000</td>\n",
              "      <td>192.168.1.132</td>\n",
              "      <td>239.255.255.250</td>\n",
              "      <td>SSDP</td>\n",
              "      <td>352</td>\n",
              "      <td>NOTIFY * HTTP/1.1</td>\n",
              "    </tr>\n",
              "    <tr>\n",
              "      <th>1</th>\n",
              "      <td>2</td>\n",
              "      <td>0.050720</td>\n",
              "      <td>192.168.1.132</td>\n",
              "      <td>239.255.255.250</td>\n",
              "      <td>SSDP</td>\n",
              "      <td>352</td>\n",
              "      <td>NOTIFY * HTTP/1.1</td>\n",
              "    </tr>\n",
              "    <tr>\n",
              "      <th>2</th>\n",
              "      <td>3</td>\n",
              "      <td>0.100190</td>\n",
              "      <td>192.168.1.132</td>\n",
              "      <td>239.255.255.250</td>\n",
              "      <td>SSDP</td>\n",
              "      <td>361</td>\n",
              "      <td>NOTIFY * HTTP/1.1</td>\n",
              "    </tr>\n",
              "    <tr>\n",
              "      <th>3</th>\n",
              "      <td>4</td>\n",
              "      <td>0.150913</td>\n",
              "      <td>192.168.1.132</td>\n",
              "      <td>239.255.255.250</td>\n",
              "      <td>SSDP</td>\n",
              "      <td>361</td>\n",
              "      <td>NOTIFY * HTTP/1.1</td>\n",
              "    </tr>\n",
              "    <tr>\n",
              "      <th>4</th>\n",
              "      <td>5</td>\n",
              "      <td>0.201385</td>\n",
              "      <td>192.168.1.132</td>\n",
              "      <td>239.255.255.250</td>\n",
              "      <td>SSDP</td>\n",
              "      <td>355</td>\n",
              "      <td>NOTIFY * HTTP/1.1</td>\n",
              "    </tr>\n",
              "    <tr>\n",
              "      <th>...</th>\n",
              "      <td>...</td>\n",
              "      <td>...</td>\n",
              "      <td>...</td>\n",
              "      <td>...</td>\n",
              "      <td>...</td>\n",
              "      <td>...</td>\n",
              "      <td>...</td>\n",
              "    </tr>\n",
              "    <tr>\n",
              "      <th>21649</th>\n",
              "      <td>21650</td>\n",
              "      <td>78810.509070</td>\n",
              "      <td>192.168.1.132</td>\n",
              "      <td>239.255.255.250</td>\n",
              "      <td>SSDP</td>\n",
              "      <td>352</td>\n",
              "      <td>NOTIFY * HTTP/1.1</td>\n",
              "    </tr>\n",
              "    <tr>\n",
              "      <th>21650</th>\n",
              "      <td>21651</td>\n",
              "      <td>78810.559533</td>\n",
              "      <td>192.168.1.132</td>\n",
              "      <td>239.255.255.250</td>\n",
              "      <td>SSDP</td>\n",
              "      <td>352</td>\n",
              "      <td>NOTIFY * HTTP/1.1</td>\n",
              "    </tr>\n",
              "    <tr>\n",
              "      <th>21651</th>\n",
              "      <td>21652</td>\n",
              "      <td>78810.609254</td>\n",
              "      <td>192.168.1.132</td>\n",
              "      <td>239.255.255.250</td>\n",
              "      <td>SSDP</td>\n",
              "      <td>361</td>\n",
              "      <td>NOTIFY * HTTP/1.1</td>\n",
              "    </tr>\n",
              "    <tr>\n",
              "      <th>21652</th>\n",
              "      <td>21653</td>\n",
              "      <td>78810.659475</td>\n",
              "      <td>192.168.1.132</td>\n",
              "      <td>239.255.255.250</td>\n",
              "      <td>SSDP</td>\n",
              "      <td>361</td>\n",
              "      <td>NOTIFY * HTTP/1.1</td>\n",
              "    </tr>\n",
              "    <tr>\n",
              "      <th>21653</th>\n",
              "      <td>21654</td>\n",
              "      <td>78810.709198</td>\n",
              "      <td>192.168.1.132</td>\n",
              "      <td>239.255.255.250</td>\n",
              "      <td>SSDP</td>\n",
              "      <td>355</td>\n",
              "      <td>NOTIFY * HTTP/1.1</td>\n",
              "    </tr>\n",
              "  </tbody>\n",
              "</table>\n",
              "<p>21654 rows × 7 columns</p>\n",
              "</div>"
            ],
            "text/plain": [
              "         No.          Time         Source  ... Protocol Length                Info\n",
              "0          1      0.000000  192.168.1.132  ...     SSDP    352  NOTIFY * HTTP/1.1 \n",
              "1          2      0.050720  192.168.1.132  ...     SSDP    352  NOTIFY * HTTP/1.1 \n",
              "2          3      0.100190  192.168.1.132  ...     SSDP    361  NOTIFY * HTTP/1.1 \n",
              "3          4      0.150913  192.168.1.132  ...     SSDP    361  NOTIFY * HTTP/1.1 \n",
              "4          5      0.201385  192.168.1.132  ...     SSDP    355  NOTIFY * HTTP/1.1 \n",
              "...      ...           ...            ...  ...      ...    ...                 ...\n",
              "21649  21650  78810.509070  192.168.1.132  ...     SSDP    352  NOTIFY * HTTP/1.1 \n",
              "21650  21651  78810.559533  192.168.1.132  ...     SSDP    352  NOTIFY * HTTP/1.1 \n",
              "21651  21652  78810.609254  192.168.1.132  ...     SSDP    361  NOTIFY * HTTP/1.1 \n",
              "21652  21653  78810.659475  192.168.1.132  ...     SSDP    361  NOTIFY * HTTP/1.1 \n",
              "21653  21654  78810.709198  192.168.1.132  ...     SSDP    355  NOTIFY * HTTP/1.1 \n",
              "\n",
              "[21654 rows x 7 columns]"
            ]
          },
          "metadata": {
            "tags": []
          },
          "execution_count": 11
        }
      ]
    },
    {
      "cell_type": "code",
      "metadata": {
        "colab": {
          "base_uri": "https://localhost:8080/"
        },
        "id": "VqALhvxVnb4c",
        "outputId": "85f0f20b-0ef7-4377-bf70-083197dc2c98"
      },
      "source": [
        "!pip install tensorflow.io\n",
        "%tensorflow_version 2.x\n",
        "import tensorflow as tf\n",
        "import tensorflow_io as tfio \n",
        "import numpy as np"
      ],
      "execution_count": null,
      "outputs": [
        {
          "output_type": "stream",
          "text": [
            "Collecting tensorflow.io\n",
            "\u001b[?25l  Downloading https://files.pythonhosted.org/packages/73/41/881ec181816767bd91b8f2dbb319dff8eb5ff80039ed6e003c1ab8d547d7/tensorflow_io-0.17.0-cp37-cp37m-manylinux2010_x86_64.whl (25.3MB)\n",
            "\u001b[K     |████████████████████████████████| 25.3MB 158kB/s \n",
            "\u001b[?25hRequirement already satisfied: tensorflow<2.5.0,>=2.4.0 in /usr/local/lib/python3.7/dist-packages (from tensorflow.io) (2.4.1)\n",
            "Requirement already satisfied: astunparse~=1.6.3 in /usr/local/lib/python3.7/dist-packages (from tensorflow<2.5.0,>=2.4.0->tensorflow.io) (1.6.3)\n",
            "Requirement already satisfied: typing-extensions~=3.7.4 in /usr/local/lib/python3.7/dist-packages (from tensorflow<2.5.0,>=2.4.0->tensorflow.io) (3.7.4.3)\n",
            "Requirement already satisfied: termcolor~=1.1.0 in /usr/local/lib/python3.7/dist-packages (from tensorflow<2.5.0,>=2.4.0->tensorflow.io) (1.1.0)\n",
            "Requirement already satisfied: gast==0.3.3 in /usr/local/lib/python3.7/dist-packages (from tensorflow<2.5.0,>=2.4.0->tensorflow.io) (0.3.3)\n",
            "Requirement already satisfied: six~=1.15.0 in /usr/local/lib/python3.7/dist-packages (from tensorflow<2.5.0,>=2.4.0->tensorflow.io) (1.15.0)\n",
            "Requirement already satisfied: keras-preprocessing~=1.1.2 in /usr/local/lib/python3.7/dist-packages (from tensorflow<2.5.0,>=2.4.0->tensorflow.io) (1.1.2)\n",
            "Requirement already satisfied: flatbuffers~=1.12.0 in /usr/local/lib/python3.7/dist-packages (from tensorflow<2.5.0,>=2.4.0->tensorflow.io) (1.12)\n",
            "Requirement already satisfied: numpy~=1.19.2 in /usr/local/lib/python3.7/dist-packages (from tensorflow<2.5.0,>=2.4.0->tensorflow.io) (1.19.5)\n",
            "Requirement already satisfied: protobuf>=3.9.2 in /usr/local/lib/python3.7/dist-packages (from tensorflow<2.5.0,>=2.4.0->tensorflow.io) (3.12.4)\n",
            "Requirement already satisfied: tensorboard~=2.4 in /usr/local/lib/python3.7/dist-packages (from tensorflow<2.5.0,>=2.4.0->tensorflow.io) (2.4.1)\n",
            "Requirement already satisfied: grpcio~=1.32.0 in /usr/local/lib/python3.7/dist-packages (from tensorflow<2.5.0,>=2.4.0->tensorflow.io) (1.32.0)\n",
            "Requirement already satisfied: wrapt~=1.12.1 in /usr/local/lib/python3.7/dist-packages (from tensorflow<2.5.0,>=2.4.0->tensorflow.io) (1.12.1)\n",
            "Requirement already satisfied: h5py~=2.10.0 in /usr/local/lib/python3.7/dist-packages (from tensorflow<2.5.0,>=2.4.0->tensorflow.io) (2.10.0)\n",
            "Requirement already satisfied: absl-py~=0.10 in /usr/local/lib/python3.7/dist-packages (from tensorflow<2.5.0,>=2.4.0->tensorflow.io) (0.10.0)\n",
            "Requirement already satisfied: opt-einsum~=3.3.0 in /usr/local/lib/python3.7/dist-packages (from tensorflow<2.5.0,>=2.4.0->tensorflow.io) (3.3.0)\n",
            "Requirement already satisfied: tensorflow-estimator<2.5.0,>=2.4.0 in /usr/local/lib/python3.7/dist-packages (from tensorflow<2.5.0,>=2.4.0->tensorflow.io) (2.4.0)\n",
            "Requirement already satisfied: google-pasta~=0.2 in /usr/local/lib/python3.7/dist-packages (from tensorflow<2.5.0,>=2.4.0->tensorflow.io) (0.2.0)\n",
            "Requirement already satisfied: wheel~=0.35 in /usr/local/lib/python3.7/dist-packages (from tensorflow<2.5.0,>=2.4.0->tensorflow.io) (0.36.2)\n",
            "Requirement already satisfied: setuptools in /usr/local/lib/python3.7/dist-packages (from protobuf>=3.9.2->tensorflow<2.5.0,>=2.4.0->tensorflow.io) (54.1.2)\n",
            "Requirement already satisfied: google-auth-oauthlib<0.5,>=0.4.1 in /usr/local/lib/python3.7/dist-packages (from tensorboard~=2.4->tensorflow<2.5.0,>=2.4.0->tensorflow.io) (0.4.3)\n",
            "Requirement already satisfied: werkzeug>=0.11.15 in /usr/local/lib/python3.7/dist-packages (from tensorboard~=2.4->tensorflow<2.5.0,>=2.4.0->tensorflow.io) (1.0.1)\n",
            "Requirement already satisfied: tensorboard-plugin-wit>=1.6.0 in /usr/local/lib/python3.7/dist-packages (from tensorboard~=2.4->tensorflow<2.5.0,>=2.4.0->tensorflow.io) (1.8.0)\n",
            "Requirement already satisfied: markdown>=2.6.8 in /usr/local/lib/python3.7/dist-packages (from tensorboard~=2.4->tensorflow<2.5.0,>=2.4.0->tensorflow.io) (3.3.4)\n",
            "Requirement already satisfied: requests<3,>=2.21.0 in /usr/local/lib/python3.7/dist-packages (from tensorboard~=2.4->tensorflow<2.5.0,>=2.4.0->tensorflow.io) (2.23.0)\n",
            "Requirement already satisfied: google-auth<2,>=1.6.3 in /usr/local/lib/python3.7/dist-packages (from tensorboard~=2.4->tensorflow<2.5.0,>=2.4.0->tensorflow.io) (1.27.1)\n",
            "Requirement already satisfied: requests-oauthlib>=0.7.0 in /usr/local/lib/python3.7/dist-packages (from google-auth-oauthlib<0.5,>=0.4.1->tensorboard~=2.4->tensorflow<2.5.0,>=2.4.0->tensorflow.io) (1.3.0)\n",
            "Requirement already satisfied: importlib-metadata; python_version < \"3.8\" in /usr/local/lib/python3.7/dist-packages (from markdown>=2.6.8->tensorboard~=2.4->tensorflow<2.5.0,>=2.4.0->tensorflow.io) (3.7.2)\n",
            "Requirement already satisfied: idna<3,>=2.5 in /usr/local/lib/python3.7/dist-packages (from requests<3,>=2.21.0->tensorboard~=2.4->tensorflow<2.5.0,>=2.4.0->tensorflow.io) (2.10)\n",
            "Requirement already satisfied: certifi>=2017.4.17 in /usr/local/lib/python3.7/dist-packages (from requests<3,>=2.21.0->tensorboard~=2.4->tensorflow<2.5.0,>=2.4.0->tensorflow.io) (2020.12.5)\n",
            "Requirement already satisfied: urllib3!=1.25.0,!=1.25.1,<1.26,>=1.21.1 in /usr/local/lib/python3.7/dist-packages (from requests<3,>=2.21.0->tensorboard~=2.4->tensorflow<2.5.0,>=2.4.0->tensorflow.io) (1.24.3)\n",
            "Requirement already satisfied: chardet<4,>=3.0.2 in /usr/local/lib/python3.7/dist-packages (from requests<3,>=2.21.0->tensorboard~=2.4->tensorflow<2.5.0,>=2.4.0->tensorflow.io) (3.0.4)\n",
            "Requirement already satisfied: rsa<5,>=3.1.4; python_version >= \"3.6\" in /usr/local/lib/python3.7/dist-packages (from google-auth<2,>=1.6.3->tensorboard~=2.4->tensorflow<2.5.0,>=2.4.0->tensorflow.io) (4.7.2)\n",
            "Requirement already satisfied: pyasn1-modules>=0.2.1 in /usr/local/lib/python3.7/dist-packages (from google-auth<2,>=1.6.3->tensorboard~=2.4->tensorflow<2.5.0,>=2.4.0->tensorflow.io) (0.2.8)\n",
            "Requirement already satisfied: cachetools<5.0,>=2.0.0 in /usr/local/lib/python3.7/dist-packages (from google-auth<2,>=1.6.3->tensorboard~=2.4->tensorflow<2.5.0,>=2.4.0->tensorflow.io) (4.2.1)\n",
            "Requirement already satisfied: oauthlib>=3.0.0 in /usr/local/lib/python3.7/dist-packages (from requests-oauthlib>=0.7.0->google-auth-oauthlib<0.5,>=0.4.1->tensorboard~=2.4->tensorflow<2.5.0,>=2.4.0->tensorflow.io) (3.1.0)\n",
            "Requirement already satisfied: zipp>=0.5 in /usr/local/lib/python3.7/dist-packages (from importlib-metadata; python_version < \"3.8\"->markdown>=2.6.8->tensorboard~=2.4->tensorflow<2.5.0,>=2.4.0->tensorflow.io) (3.4.1)\n",
            "Requirement already satisfied: pyasn1>=0.1.3 in /usr/local/lib/python3.7/dist-packages (from rsa<5,>=3.1.4; python_version >= \"3.6\"->google-auth<2,>=1.6.3->tensorboard~=2.4->tensorflow<2.5.0,>=2.4.0->tensorflow.io) (0.4.8)\n",
            "Installing collected packages: tensorflow.io\n",
            "Successfully installed tensorflow.io\n"
          ],
          "name": "stdout"
        }
      ]
    },
    {
      "cell_type": "code",
      "metadata": {
        "colab": {
          "base_uri": "https://localhost:8080/",
          "height": 731
        },
        "id": "KWkhSkP9oByh",
        "outputId": "fca5c0fa-8e13-43c4-f7a6-322cd0185459"
      },
      "source": [
        "%tensorflow_version 2.x\n",
        "import tensorflow as tf\n",
        "import tensorflow_io as tfio \n",
        "import numpy as np\n",
        "\n",
        "# Create an IODataset from a pcap file  \n",
        "first_file = tfio.IODataset.from_pcap('/content/fuzz-2006-06-26-2594.pcap')\n",
        "second_file = tfio.IODataset.from_pcap(['/content/fuzz-2006-08-27-19853.pcap'])\n",
        "\n",
        "# Concatenate the Read Files\n",
        "feature = first_file.concatenate(second_file)\n",
        "\n",
        "# List for pcap \n",
        "packet_timestamp = []\n",
        "packet_data = []\n",
        "\n",
        "# some dummy labels\n",
        "labels = []\n",
        "\n",
        "# add 0 as label. You can use your actual labels here\n",
        "for v in feature:\n",
        "  (timestamp, data) = v\n",
        "  packet_timestamp.append(timestamp.numpy())\n",
        "  packet_data.append(data.numpy())\n",
        "  labels.append(0)\n",
        "\n",
        "## Do the preprocessing of packet_data here\n",
        "\n",
        "# Add labels to the training data\n",
        "# Preprocess the packet_data to convert string to meaningful value and use here\n",
        "train_ds = tf.data.Dataset.from_tensor_slices(((packet_timestamp,packet_data), labels))\n",
        "# Set the batch size\n",
        "train_ds = train_ds.shuffle(5000).batch(32)\n",
        "\n",
        "##### PROGRAM WILL RUN SUCCESSFULLY TILL HERE. TO USE IN THE MODEL DO THE PREPROCESSING OF PACKET DATA AS EXPLAINED ### \n",
        "\n",
        "# Have defined some simple model\n",
        "model = tf.keras.Sequential([\n",
        "  tf.keras.layers.Flatten(),\n",
        "  tf.keras.layers.Dense(100),\n",
        "  tf.keras.layers.Dense(10)\n",
        "])\n",
        "\n",
        "model.compile(optimizer='adam',\n",
        "              loss=tf.keras.losses.SparseCategoricalCrossentropy(from_logits=True), \n",
        "              metrics=['accuracy'])\n",
        "\n",
        "model.fit(train_ds, epochs=2)"
      ],
      "execution_count": null,
      "outputs": [
        {
          "output_type": "stream",
          "text": [
            "Epoch 1/2\n"
          ],
          "name": "stdout"
        },
        {
          "output_type": "error",
          "ename": "ValueError",
          "evalue": "ignored",
          "traceback": [
            "\u001b[0;31m---------------------------------------------------------------------------\u001b[0m",
            "\u001b[0;31mValueError\u001b[0m                                Traceback (most recent call last)",
            "\u001b[0;32m<ipython-input-45-a04272a5cfa1>\u001b[0m in \u001b[0;36m<module>\u001b[0;34m()\u001b[0m\n\u001b[1;32m     46\u001b[0m               metrics=['accuracy'])\n\u001b[1;32m     47\u001b[0m \u001b[0;34m\u001b[0m\u001b[0m\n\u001b[0;32m---> 48\u001b[0;31m \u001b[0mmodel\u001b[0m\u001b[0;34m.\u001b[0m\u001b[0mfit\u001b[0m\u001b[0;34m(\u001b[0m\u001b[0mtrain_ds\u001b[0m\u001b[0;34m,\u001b[0m \u001b[0mepochs\u001b[0m\u001b[0;34m=\u001b[0m\u001b[0;36m2\u001b[0m\u001b[0;34m)\u001b[0m\u001b[0;34m\u001b[0m\u001b[0;34m\u001b[0m\u001b[0m\n\u001b[0m",
            "\u001b[0;32m/usr/local/lib/python3.7/dist-packages/tensorflow/python/keras/engine/training.py\u001b[0m in \u001b[0;36mfit\u001b[0;34m(self, x, y, batch_size, epochs, verbose, callbacks, validation_split, validation_data, shuffle, class_weight, sample_weight, initial_epoch, steps_per_epoch, validation_steps, validation_batch_size, validation_freq, max_queue_size, workers, use_multiprocessing)\u001b[0m\n\u001b[1;32m   1098\u001b[0m                 _r=1):\n\u001b[1;32m   1099\u001b[0m               \u001b[0mcallbacks\u001b[0m\u001b[0;34m.\u001b[0m\u001b[0mon_train_batch_begin\u001b[0m\u001b[0;34m(\u001b[0m\u001b[0mstep\u001b[0m\u001b[0;34m)\u001b[0m\u001b[0;34m\u001b[0m\u001b[0;34m\u001b[0m\u001b[0m\n\u001b[0;32m-> 1100\u001b[0;31m               \u001b[0mtmp_logs\u001b[0m \u001b[0;34m=\u001b[0m \u001b[0mself\u001b[0m\u001b[0;34m.\u001b[0m\u001b[0mtrain_function\u001b[0m\u001b[0;34m(\u001b[0m\u001b[0miterator\u001b[0m\u001b[0;34m)\u001b[0m\u001b[0;34m\u001b[0m\u001b[0;34m\u001b[0m\u001b[0m\n\u001b[0m\u001b[1;32m   1101\u001b[0m               \u001b[0;32mif\u001b[0m \u001b[0mdata_handler\u001b[0m\u001b[0;34m.\u001b[0m\u001b[0mshould_sync\u001b[0m\u001b[0;34m:\u001b[0m\u001b[0;34m\u001b[0m\u001b[0;34m\u001b[0m\u001b[0m\n\u001b[1;32m   1102\u001b[0m                 \u001b[0mcontext\u001b[0m\u001b[0;34m.\u001b[0m\u001b[0masync_wait\u001b[0m\u001b[0;34m(\u001b[0m\u001b[0;34m)\u001b[0m\u001b[0;34m\u001b[0m\u001b[0;34m\u001b[0m\u001b[0m\n",
            "\u001b[0;32m/usr/local/lib/python3.7/dist-packages/tensorflow/python/eager/def_function.py\u001b[0m in \u001b[0;36m__call__\u001b[0;34m(self, *args, **kwds)\u001b[0m\n\u001b[1;32m    826\u001b[0m     \u001b[0mtracing_count\u001b[0m \u001b[0;34m=\u001b[0m \u001b[0mself\u001b[0m\u001b[0;34m.\u001b[0m\u001b[0mexperimental_get_tracing_count\u001b[0m\u001b[0;34m(\u001b[0m\u001b[0;34m)\u001b[0m\u001b[0;34m\u001b[0m\u001b[0;34m\u001b[0m\u001b[0m\n\u001b[1;32m    827\u001b[0m     \u001b[0;32mwith\u001b[0m \u001b[0mtrace\u001b[0m\u001b[0;34m.\u001b[0m\u001b[0mTrace\u001b[0m\u001b[0;34m(\u001b[0m\u001b[0mself\u001b[0m\u001b[0;34m.\u001b[0m\u001b[0m_name\u001b[0m\u001b[0;34m)\u001b[0m \u001b[0;32mas\u001b[0m \u001b[0mtm\u001b[0m\u001b[0;34m:\u001b[0m\u001b[0;34m\u001b[0m\u001b[0;34m\u001b[0m\u001b[0m\n\u001b[0;32m--> 828\u001b[0;31m       \u001b[0mresult\u001b[0m \u001b[0;34m=\u001b[0m \u001b[0mself\u001b[0m\u001b[0;34m.\u001b[0m\u001b[0m_call\u001b[0m\u001b[0;34m(\u001b[0m\u001b[0;34m*\u001b[0m\u001b[0margs\u001b[0m\u001b[0;34m,\u001b[0m \u001b[0;34m**\u001b[0m\u001b[0mkwds\u001b[0m\u001b[0;34m)\u001b[0m\u001b[0;34m\u001b[0m\u001b[0;34m\u001b[0m\u001b[0m\n\u001b[0m\u001b[1;32m    829\u001b[0m       \u001b[0mcompiler\u001b[0m \u001b[0;34m=\u001b[0m \u001b[0;34m\"xla\"\u001b[0m \u001b[0;32mif\u001b[0m \u001b[0mself\u001b[0m\u001b[0;34m.\u001b[0m\u001b[0m_experimental_compile\u001b[0m \u001b[0;32melse\u001b[0m \u001b[0;34m\"nonXla\"\u001b[0m\u001b[0;34m\u001b[0m\u001b[0;34m\u001b[0m\u001b[0m\n\u001b[1;32m    830\u001b[0m       \u001b[0mnew_tracing_count\u001b[0m \u001b[0;34m=\u001b[0m \u001b[0mself\u001b[0m\u001b[0;34m.\u001b[0m\u001b[0mexperimental_get_tracing_count\u001b[0m\u001b[0;34m(\u001b[0m\u001b[0;34m)\u001b[0m\u001b[0;34m\u001b[0m\u001b[0;34m\u001b[0m\u001b[0m\n",
            "\u001b[0;32m/usr/local/lib/python3.7/dist-packages/tensorflow/python/eager/def_function.py\u001b[0m in \u001b[0;36m_call\u001b[0;34m(self, *args, **kwds)\u001b[0m\n\u001b[1;32m    869\u001b[0m       \u001b[0;31m# This is the first call of __call__, so we have to initialize.\u001b[0m\u001b[0;34m\u001b[0m\u001b[0;34m\u001b[0m\u001b[0;34m\u001b[0m\u001b[0m\n\u001b[1;32m    870\u001b[0m       \u001b[0minitializers\u001b[0m \u001b[0;34m=\u001b[0m \u001b[0;34m[\u001b[0m\u001b[0;34m]\u001b[0m\u001b[0;34m\u001b[0m\u001b[0;34m\u001b[0m\u001b[0m\n\u001b[0;32m--> 871\u001b[0;31m       \u001b[0mself\u001b[0m\u001b[0;34m.\u001b[0m\u001b[0m_initialize\u001b[0m\u001b[0;34m(\u001b[0m\u001b[0margs\u001b[0m\u001b[0;34m,\u001b[0m \u001b[0mkwds\u001b[0m\u001b[0;34m,\u001b[0m \u001b[0madd_initializers_to\u001b[0m\u001b[0;34m=\u001b[0m\u001b[0minitializers\u001b[0m\u001b[0;34m)\u001b[0m\u001b[0;34m\u001b[0m\u001b[0;34m\u001b[0m\u001b[0m\n\u001b[0m\u001b[1;32m    872\u001b[0m     \u001b[0;32mfinally\u001b[0m\u001b[0;34m:\u001b[0m\u001b[0;34m\u001b[0m\u001b[0;34m\u001b[0m\u001b[0m\n\u001b[1;32m    873\u001b[0m       \u001b[0;31m# At this point we know that the initialization is complete (or less\u001b[0m\u001b[0;34m\u001b[0m\u001b[0;34m\u001b[0m\u001b[0;34m\u001b[0m\u001b[0m\n",
            "\u001b[0;32m/usr/local/lib/python3.7/dist-packages/tensorflow/python/eager/def_function.py\u001b[0m in \u001b[0;36m_initialize\u001b[0;34m(self, args, kwds, add_initializers_to)\u001b[0m\n\u001b[1;32m    724\u001b[0m     self._concrete_stateful_fn = (\n\u001b[1;32m    725\u001b[0m         self._stateful_fn._get_concrete_function_internal_garbage_collected(  # pylint: disable=protected-access\n\u001b[0;32m--> 726\u001b[0;31m             *args, **kwds))\n\u001b[0m\u001b[1;32m    727\u001b[0m \u001b[0;34m\u001b[0m\u001b[0m\n\u001b[1;32m    728\u001b[0m     \u001b[0;32mdef\u001b[0m \u001b[0minvalid_creator_scope\u001b[0m\u001b[0;34m(\u001b[0m\u001b[0;34m*\u001b[0m\u001b[0munused_args\u001b[0m\u001b[0;34m,\u001b[0m \u001b[0;34m**\u001b[0m\u001b[0munused_kwds\u001b[0m\u001b[0;34m)\u001b[0m\u001b[0;34m:\u001b[0m\u001b[0;34m\u001b[0m\u001b[0;34m\u001b[0m\u001b[0m\n",
            "\u001b[0;32m/usr/local/lib/python3.7/dist-packages/tensorflow/python/eager/function.py\u001b[0m in \u001b[0;36m_get_concrete_function_internal_garbage_collected\u001b[0;34m(self, *args, **kwargs)\u001b[0m\n\u001b[1;32m   2967\u001b[0m       \u001b[0margs\u001b[0m\u001b[0;34m,\u001b[0m \u001b[0mkwargs\u001b[0m \u001b[0;34m=\u001b[0m \u001b[0;32mNone\u001b[0m\u001b[0;34m,\u001b[0m \u001b[0;32mNone\u001b[0m\u001b[0;34m\u001b[0m\u001b[0;34m\u001b[0m\u001b[0m\n\u001b[1;32m   2968\u001b[0m     \u001b[0;32mwith\u001b[0m \u001b[0mself\u001b[0m\u001b[0;34m.\u001b[0m\u001b[0m_lock\u001b[0m\u001b[0;34m:\u001b[0m\u001b[0;34m\u001b[0m\u001b[0;34m\u001b[0m\u001b[0m\n\u001b[0;32m-> 2969\u001b[0;31m       \u001b[0mgraph_function\u001b[0m\u001b[0;34m,\u001b[0m \u001b[0m_\u001b[0m \u001b[0;34m=\u001b[0m \u001b[0mself\u001b[0m\u001b[0;34m.\u001b[0m\u001b[0m_maybe_define_function\u001b[0m\u001b[0;34m(\u001b[0m\u001b[0margs\u001b[0m\u001b[0;34m,\u001b[0m \u001b[0mkwargs\u001b[0m\u001b[0;34m)\u001b[0m\u001b[0;34m\u001b[0m\u001b[0;34m\u001b[0m\u001b[0m\n\u001b[0m\u001b[1;32m   2970\u001b[0m     \u001b[0;32mreturn\u001b[0m \u001b[0mgraph_function\u001b[0m\u001b[0;34m\u001b[0m\u001b[0;34m\u001b[0m\u001b[0m\n\u001b[1;32m   2971\u001b[0m \u001b[0;34m\u001b[0m\u001b[0m\n",
            "\u001b[0;32m/usr/local/lib/python3.7/dist-packages/tensorflow/python/eager/function.py\u001b[0m in \u001b[0;36m_maybe_define_function\u001b[0;34m(self, args, kwargs)\u001b[0m\n\u001b[1;32m   3359\u001b[0m \u001b[0;34m\u001b[0m\u001b[0m\n\u001b[1;32m   3360\u001b[0m           \u001b[0mself\u001b[0m\u001b[0;34m.\u001b[0m\u001b[0m_function_cache\u001b[0m\u001b[0;34m.\u001b[0m\u001b[0mmissed\u001b[0m\u001b[0;34m.\u001b[0m\u001b[0madd\u001b[0m\u001b[0;34m(\u001b[0m\u001b[0mcall_context_key\u001b[0m\u001b[0;34m)\u001b[0m\u001b[0;34m\u001b[0m\u001b[0;34m\u001b[0m\u001b[0m\n\u001b[0;32m-> 3361\u001b[0;31m           \u001b[0mgraph_function\u001b[0m \u001b[0;34m=\u001b[0m \u001b[0mself\u001b[0m\u001b[0;34m.\u001b[0m\u001b[0m_create_graph_function\u001b[0m\u001b[0;34m(\u001b[0m\u001b[0margs\u001b[0m\u001b[0;34m,\u001b[0m \u001b[0mkwargs\u001b[0m\u001b[0;34m)\u001b[0m\u001b[0;34m\u001b[0m\u001b[0;34m\u001b[0m\u001b[0m\n\u001b[0m\u001b[1;32m   3362\u001b[0m           \u001b[0mself\u001b[0m\u001b[0;34m.\u001b[0m\u001b[0m_function_cache\u001b[0m\u001b[0;34m.\u001b[0m\u001b[0mprimary\u001b[0m\u001b[0;34m[\u001b[0m\u001b[0mcache_key\u001b[0m\u001b[0;34m]\u001b[0m \u001b[0;34m=\u001b[0m \u001b[0mgraph_function\u001b[0m\u001b[0;34m\u001b[0m\u001b[0;34m\u001b[0m\u001b[0m\n\u001b[1;32m   3363\u001b[0m \u001b[0;34m\u001b[0m\u001b[0m\n",
            "\u001b[0;32m/usr/local/lib/python3.7/dist-packages/tensorflow/python/eager/function.py\u001b[0m in \u001b[0;36m_create_graph_function\u001b[0;34m(self, args, kwargs, override_flat_arg_shapes)\u001b[0m\n\u001b[1;32m   3204\u001b[0m             \u001b[0marg_names\u001b[0m\u001b[0;34m=\u001b[0m\u001b[0marg_names\u001b[0m\u001b[0;34m,\u001b[0m\u001b[0;34m\u001b[0m\u001b[0;34m\u001b[0m\u001b[0m\n\u001b[1;32m   3205\u001b[0m             \u001b[0moverride_flat_arg_shapes\u001b[0m\u001b[0;34m=\u001b[0m\u001b[0moverride_flat_arg_shapes\u001b[0m\u001b[0;34m,\u001b[0m\u001b[0;34m\u001b[0m\u001b[0;34m\u001b[0m\u001b[0m\n\u001b[0;32m-> 3206\u001b[0;31m             capture_by_value=self._capture_by_value),\n\u001b[0m\u001b[1;32m   3207\u001b[0m         \u001b[0mself\u001b[0m\u001b[0;34m.\u001b[0m\u001b[0m_function_attributes\u001b[0m\u001b[0;34m,\u001b[0m\u001b[0;34m\u001b[0m\u001b[0;34m\u001b[0m\u001b[0m\n\u001b[1;32m   3208\u001b[0m         \u001b[0mfunction_spec\u001b[0m\u001b[0;34m=\u001b[0m\u001b[0mself\u001b[0m\u001b[0;34m.\u001b[0m\u001b[0mfunction_spec\u001b[0m\u001b[0;34m,\u001b[0m\u001b[0;34m\u001b[0m\u001b[0;34m\u001b[0m\u001b[0m\n",
            "\u001b[0;32m/usr/local/lib/python3.7/dist-packages/tensorflow/python/framework/func_graph.py\u001b[0m in \u001b[0;36mfunc_graph_from_py_func\u001b[0;34m(name, python_func, args, kwargs, signature, func_graph, autograph, autograph_options, add_control_dependencies, arg_names, op_return_value, collections, capture_by_value, override_flat_arg_shapes)\u001b[0m\n\u001b[1;32m    988\u001b[0m         \u001b[0m_\u001b[0m\u001b[0;34m,\u001b[0m \u001b[0moriginal_func\u001b[0m \u001b[0;34m=\u001b[0m \u001b[0mtf_decorator\u001b[0m\u001b[0;34m.\u001b[0m\u001b[0munwrap\u001b[0m\u001b[0;34m(\u001b[0m\u001b[0mpython_func\u001b[0m\u001b[0;34m)\u001b[0m\u001b[0;34m\u001b[0m\u001b[0;34m\u001b[0m\u001b[0m\n\u001b[1;32m    989\u001b[0m \u001b[0;34m\u001b[0m\u001b[0m\n\u001b[0;32m--> 990\u001b[0;31m       \u001b[0mfunc_outputs\u001b[0m \u001b[0;34m=\u001b[0m \u001b[0mpython_func\u001b[0m\u001b[0;34m(\u001b[0m\u001b[0;34m*\u001b[0m\u001b[0mfunc_args\u001b[0m\u001b[0;34m,\u001b[0m \u001b[0;34m**\u001b[0m\u001b[0mfunc_kwargs\u001b[0m\u001b[0;34m)\u001b[0m\u001b[0;34m\u001b[0m\u001b[0;34m\u001b[0m\u001b[0m\n\u001b[0m\u001b[1;32m    991\u001b[0m \u001b[0;34m\u001b[0m\u001b[0m\n\u001b[1;32m    992\u001b[0m       \u001b[0;31m# invariant: `func_outputs` contains only Tensors, CompositeTensors,\u001b[0m\u001b[0;34m\u001b[0m\u001b[0;34m\u001b[0m\u001b[0;34m\u001b[0m\u001b[0m\n",
            "\u001b[0;32m/usr/local/lib/python3.7/dist-packages/tensorflow/python/eager/def_function.py\u001b[0m in \u001b[0;36mwrapped_fn\u001b[0;34m(*args, **kwds)\u001b[0m\n\u001b[1;32m    632\u001b[0m             \u001b[0mxla_context\u001b[0m\u001b[0;34m.\u001b[0m\u001b[0mExit\u001b[0m\u001b[0;34m(\u001b[0m\u001b[0;34m)\u001b[0m\u001b[0;34m\u001b[0m\u001b[0;34m\u001b[0m\u001b[0m\n\u001b[1;32m    633\u001b[0m         \u001b[0;32melse\u001b[0m\u001b[0;34m:\u001b[0m\u001b[0;34m\u001b[0m\u001b[0;34m\u001b[0m\u001b[0m\n\u001b[0;32m--> 634\u001b[0;31m           \u001b[0mout\u001b[0m \u001b[0;34m=\u001b[0m \u001b[0mweak_wrapped_fn\u001b[0m\u001b[0;34m(\u001b[0m\u001b[0;34m)\u001b[0m\u001b[0;34m.\u001b[0m\u001b[0m__wrapped__\u001b[0m\u001b[0;34m(\u001b[0m\u001b[0;34m*\u001b[0m\u001b[0margs\u001b[0m\u001b[0;34m,\u001b[0m \u001b[0;34m**\u001b[0m\u001b[0mkwds\u001b[0m\u001b[0;34m)\u001b[0m\u001b[0;34m\u001b[0m\u001b[0;34m\u001b[0m\u001b[0m\n\u001b[0m\u001b[1;32m    635\u001b[0m         \u001b[0;32mreturn\u001b[0m \u001b[0mout\u001b[0m\u001b[0;34m\u001b[0m\u001b[0;34m\u001b[0m\u001b[0m\n\u001b[1;32m    636\u001b[0m \u001b[0;34m\u001b[0m\u001b[0m\n",
            "\u001b[0;32m/usr/local/lib/python3.7/dist-packages/tensorflow/python/framework/func_graph.py\u001b[0m in \u001b[0;36mwrapper\u001b[0;34m(*args, **kwargs)\u001b[0m\n\u001b[1;32m    975\u001b[0m           \u001b[0;32mexcept\u001b[0m \u001b[0mException\u001b[0m \u001b[0;32mas\u001b[0m \u001b[0me\u001b[0m\u001b[0;34m:\u001b[0m  \u001b[0;31m# pylint:disable=broad-except\u001b[0m\u001b[0;34m\u001b[0m\u001b[0;34m\u001b[0m\u001b[0m\n\u001b[1;32m    976\u001b[0m             \u001b[0;32mif\u001b[0m \u001b[0mhasattr\u001b[0m\u001b[0;34m(\u001b[0m\u001b[0me\u001b[0m\u001b[0;34m,\u001b[0m \u001b[0;34m\"ag_error_metadata\"\u001b[0m\u001b[0;34m)\u001b[0m\u001b[0;34m:\u001b[0m\u001b[0;34m\u001b[0m\u001b[0;34m\u001b[0m\u001b[0m\n\u001b[0;32m--> 977\u001b[0;31m               \u001b[0;32mraise\u001b[0m \u001b[0me\u001b[0m\u001b[0;34m.\u001b[0m\u001b[0mag_error_metadata\u001b[0m\u001b[0;34m.\u001b[0m\u001b[0mto_exception\u001b[0m\u001b[0;34m(\u001b[0m\u001b[0me\u001b[0m\u001b[0;34m)\u001b[0m\u001b[0;34m\u001b[0m\u001b[0;34m\u001b[0m\u001b[0m\n\u001b[0m\u001b[1;32m    978\u001b[0m             \u001b[0;32melse\u001b[0m\u001b[0;34m:\u001b[0m\u001b[0;34m\u001b[0m\u001b[0;34m\u001b[0m\u001b[0m\n\u001b[1;32m    979\u001b[0m               \u001b[0;32mraise\u001b[0m\u001b[0;34m\u001b[0m\u001b[0;34m\u001b[0m\u001b[0m\n",
            "\u001b[0;31mValueError\u001b[0m: in user code:\n\n    /usr/local/lib/python3.7/dist-packages/tensorflow/python/keras/engine/training.py:805 train_function  *\n        return step_function(self, iterator)\n    /usr/local/lib/python3.7/dist-packages/tensorflow/python/keras/engine/training.py:795 step_function  **\n        outputs = model.distribute_strategy.run(run_step, args=(data,))\n    /usr/local/lib/python3.7/dist-packages/tensorflow/python/distribute/distribute_lib.py:1259 run\n        return self._extended.call_for_each_replica(fn, args=args, kwargs=kwargs)\n    /usr/local/lib/python3.7/dist-packages/tensorflow/python/distribute/distribute_lib.py:2730 call_for_each_replica\n        return self._call_for_each_replica(fn, args, kwargs)\n    /usr/local/lib/python3.7/dist-packages/tensorflow/python/distribute/distribute_lib.py:3417 _call_for_each_replica\n        return fn(*args, **kwargs)\n    /usr/local/lib/python3.7/dist-packages/tensorflow/python/keras/engine/training.py:788 run_step  **\n        outputs = model.train_step(data)\n    /usr/local/lib/python3.7/dist-packages/tensorflow/python/keras/engine/training.py:754 train_step\n        y_pred = self(x, training=True)\n    /usr/local/lib/python3.7/dist-packages/tensorflow/python/keras/engine/base_layer.py:998 __call__\n        input_spec.assert_input_compatibility(self.input_spec, inputs, self.name)\n    /usr/local/lib/python3.7/dist-packages/tensorflow/python/keras/engine/input_spec.py:207 assert_input_compatibility\n        ' input tensors. Inputs received: ' + str(inputs))\n\n    ValueError: Layer sequential_4 expects 1 input(s), but it received 2 input tensors. Inputs received: [<tf.Tensor 'ExpandDims:0' shape=(None, 1) dtype=float64>, <tf.Tensor 'ExpandDims_1:0' shape=(None, 1) dtype=string>]\n"
          ]
        }
      ]
    },
    {
      "cell_type": "code",
      "metadata": {
        "colab": {
          "base_uri": "https://localhost:8080/",
          "height": 561
        },
        "id": "YtFfo9HqFe0l",
        "outputId": "fe72fda7-5b54-48bf-88d2-10f244701d10"
      },
      "source": [
        "df['target'].value_counts()\n"
      ],
      "execution_count": null,
      "outputs": [
        {
          "output_type": "error",
          "ename": "KeyError",
          "evalue": "ignored",
          "traceback": [
            "\u001b[0;31m---------------------------------------------------------------------------\u001b[0m",
            "\u001b[0;31mKeyError\u001b[0m                                  Traceback (most recent call last)",
            "\u001b[0;32m/usr/local/lib/python3.7/dist-packages/pandas/core/indexes/base.py\u001b[0m in \u001b[0;36mget_loc\u001b[0;34m(self, key, method, tolerance)\u001b[0m\n\u001b[1;32m   2897\u001b[0m             \u001b[0;32mtry\u001b[0m\u001b[0;34m:\u001b[0m\u001b[0;34m\u001b[0m\u001b[0;34m\u001b[0m\u001b[0m\n\u001b[0;32m-> 2898\u001b[0;31m                 \u001b[0;32mreturn\u001b[0m \u001b[0mself\u001b[0m\u001b[0;34m.\u001b[0m\u001b[0m_engine\u001b[0m\u001b[0;34m.\u001b[0m\u001b[0mget_loc\u001b[0m\u001b[0;34m(\u001b[0m\u001b[0mcasted_key\u001b[0m\u001b[0;34m)\u001b[0m\u001b[0;34m\u001b[0m\u001b[0;34m\u001b[0m\u001b[0m\n\u001b[0m\u001b[1;32m   2899\u001b[0m             \u001b[0;32mexcept\u001b[0m \u001b[0mKeyError\u001b[0m \u001b[0;32mas\u001b[0m \u001b[0merr\u001b[0m\u001b[0;34m:\u001b[0m\u001b[0;34m\u001b[0m\u001b[0;34m\u001b[0m\u001b[0m\n",
            "\u001b[0;32mpandas/_libs/index.pyx\u001b[0m in \u001b[0;36mpandas._libs.index.IndexEngine.get_loc\u001b[0;34m()\u001b[0m\n",
            "\u001b[0;32mpandas/_libs/index.pyx\u001b[0m in \u001b[0;36mpandas._libs.index.IndexEngine.get_loc\u001b[0;34m()\u001b[0m\n",
            "\u001b[0;32mpandas/_libs/hashtable_class_helper.pxi\u001b[0m in \u001b[0;36mpandas._libs.hashtable.PyObjectHashTable.get_item\u001b[0;34m()\u001b[0m\n",
            "\u001b[0;32mpandas/_libs/hashtable_class_helper.pxi\u001b[0m in \u001b[0;36mpandas._libs.hashtable.PyObjectHashTable.get_item\u001b[0;34m()\u001b[0m\n",
            "\u001b[0;31mKeyError\u001b[0m: 'target'",
            "\nThe above exception was the direct cause of the following exception:\n",
            "\u001b[0;31mKeyError\u001b[0m                                  Traceback (most recent call last)",
            "\u001b[0;32m<ipython-input-12-656906254106>\u001b[0m in \u001b[0;36m<module>\u001b[0;34m()\u001b[0m\n\u001b[0;32m----> 1\u001b[0;31m \u001b[0mdf\u001b[0m\u001b[0;34m[\u001b[0m\u001b[0;34m'target'\u001b[0m\u001b[0;34m]\u001b[0m\u001b[0;34m.\u001b[0m\u001b[0mvalue_counts\u001b[0m\u001b[0;34m(\u001b[0m\u001b[0;34m)\u001b[0m\u001b[0;34m\u001b[0m\u001b[0;34m\u001b[0m\u001b[0m\n\u001b[0m",
            "\u001b[0;32m/usr/local/lib/python3.7/dist-packages/pandas/core/frame.py\u001b[0m in \u001b[0;36m__getitem__\u001b[0;34m(self, key)\u001b[0m\n\u001b[1;32m   2904\u001b[0m             \u001b[0;32mif\u001b[0m \u001b[0mself\u001b[0m\u001b[0;34m.\u001b[0m\u001b[0mcolumns\u001b[0m\u001b[0;34m.\u001b[0m\u001b[0mnlevels\u001b[0m \u001b[0;34m>\u001b[0m \u001b[0;36m1\u001b[0m\u001b[0;34m:\u001b[0m\u001b[0;34m\u001b[0m\u001b[0;34m\u001b[0m\u001b[0m\n\u001b[1;32m   2905\u001b[0m                 \u001b[0;32mreturn\u001b[0m \u001b[0mself\u001b[0m\u001b[0;34m.\u001b[0m\u001b[0m_getitem_multilevel\u001b[0m\u001b[0;34m(\u001b[0m\u001b[0mkey\u001b[0m\u001b[0;34m)\u001b[0m\u001b[0;34m\u001b[0m\u001b[0;34m\u001b[0m\u001b[0m\n\u001b[0;32m-> 2906\u001b[0;31m             \u001b[0mindexer\u001b[0m \u001b[0;34m=\u001b[0m \u001b[0mself\u001b[0m\u001b[0;34m.\u001b[0m\u001b[0mcolumns\u001b[0m\u001b[0;34m.\u001b[0m\u001b[0mget_loc\u001b[0m\u001b[0;34m(\u001b[0m\u001b[0mkey\u001b[0m\u001b[0;34m)\u001b[0m\u001b[0;34m\u001b[0m\u001b[0;34m\u001b[0m\u001b[0m\n\u001b[0m\u001b[1;32m   2907\u001b[0m             \u001b[0;32mif\u001b[0m \u001b[0mis_integer\u001b[0m\u001b[0;34m(\u001b[0m\u001b[0mindexer\u001b[0m\u001b[0;34m)\u001b[0m\u001b[0;34m:\u001b[0m\u001b[0;34m\u001b[0m\u001b[0;34m\u001b[0m\u001b[0m\n\u001b[1;32m   2908\u001b[0m                 \u001b[0mindexer\u001b[0m \u001b[0;34m=\u001b[0m \u001b[0;34m[\u001b[0m\u001b[0mindexer\u001b[0m\u001b[0;34m]\u001b[0m\u001b[0;34m\u001b[0m\u001b[0;34m\u001b[0m\u001b[0m\n",
            "\u001b[0;32m/usr/local/lib/python3.7/dist-packages/pandas/core/indexes/base.py\u001b[0m in \u001b[0;36mget_loc\u001b[0;34m(self, key, method, tolerance)\u001b[0m\n\u001b[1;32m   2898\u001b[0m                 \u001b[0;32mreturn\u001b[0m \u001b[0mself\u001b[0m\u001b[0;34m.\u001b[0m\u001b[0m_engine\u001b[0m\u001b[0;34m.\u001b[0m\u001b[0mget_loc\u001b[0m\u001b[0;34m(\u001b[0m\u001b[0mcasted_key\u001b[0m\u001b[0;34m)\u001b[0m\u001b[0;34m\u001b[0m\u001b[0;34m\u001b[0m\u001b[0m\n\u001b[1;32m   2899\u001b[0m             \u001b[0;32mexcept\u001b[0m \u001b[0mKeyError\u001b[0m \u001b[0;32mas\u001b[0m \u001b[0merr\u001b[0m\u001b[0;34m:\u001b[0m\u001b[0;34m\u001b[0m\u001b[0;34m\u001b[0m\u001b[0m\n\u001b[0;32m-> 2900\u001b[0;31m                 \u001b[0;32mraise\u001b[0m \u001b[0mKeyError\u001b[0m\u001b[0;34m(\u001b[0m\u001b[0mkey\u001b[0m\u001b[0;34m)\u001b[0m \u001b[0;32mfrom\u001b[0m \u001b[0merr\u001b[0m\u001b[0;34m\u001b[0m\u001b[0;34m\u001b[0m\u001b[0m\n\u001b[0m\u001b[1;32m   2901\u001b[0m \u001b[0;34m\u001b[0m\u001b[0m\n\u001b[1;32m   2902\u001b[0m         \u001b[0;32mif\u001b[0m \u001b[0mtolerance\u001b[0m \u001b[0;32mis\u001b[0m \u001b[0;32mnot\u001b[0m \u001b[0;32mNone\u001b[0m\u001b[0;34m:\u001b[0m\u001b[0;34m\u001b[0m\u001b[0;34m\u001b[0m\u001b[0m\n",
            "\u001b[0;31mKeyError\u001b[0m: 'target'"
          ]
        }
      ]
    },
    {
      "cell_type": "code",
      "metadata": {
        "colab": {
          "base_uri": "https://localhost:8080/",
          "height": 561
        },
        "id": "9Hxb1Zk8FiYq",
        "outputId": "83340f38-52c8-45ea-87c2-b1a1b592a5a4"
      },
      "source": [
        "df['Attack Type'].value_counts()\n"
      ],
      "execution_count": null,
      "outputs": [
        {
          "output_type": "error",
          "ename": "KeyError",
          "evalue": "ignored",
          "traceback": [
            "\u001b[0;31m---------------------------------------------------------------------------\u001b[0m",
            "\u001b[0;31mKeyError\u001b[0m                                  Traceback (most recent call last)",
            "\u001b[0;32m/usr/local/lib/python3.7/dist-packages/pandas/core/indexes/base.py\u001b[0m in \u001b[0;36mget_loc\u001b[0;34m(self, key, method, tolerance)\u001b[0m\n\u001b[1;32m   2897\u001b[0m             \u001b[0;32mtry\u001b[0m\u001b[0;34m:\u001b[0m\u001b[0;34m\u001b[0m\u001b[0;34m\u001b[0m\u001b[0m\n\u001b[0;32m-> 2898\u001b[0;31m                 \u001b[0;32mreturn\u001b[0m \u001b[0mself\u001b[0m\u001b[0;34m.\u001b[0m\u001b[0m_engine\u001b[0m\u001b[0;34m.\u001b[0m\u001b[0mget_loc\u001b[0m\u001b[0;34m(\u001b[0m\u001b[0mcasted_key\u001b[0m\u001b[0;34m)\u001b[0m\u001b[0;34m\u001b[0m\u001b[0;34m\u001b[0m\u001b[0m\n\u001b[0m\u001b[1;32m   2899\u001b[0m             \u001b[0;32mexcept\u001b[0m \u001b[0mKeyError\u001b[0m \u001b[0;32mas\u001b[0m \u001b[0merr\u001b[0m\u001b[0;34m:\u001b[0m\u001b[0;34m\u001b[0m\u001b[0;34m\u001b[0m\u001b[0m\n",
            "\u001b[0;32mpandas/_libs/index.pyx\u001b[0m in \u001b[0;36mpandas._libs.index.IndexEngine.get_loc\u001b[0;34m()\u001b[0m\n",
            "\u001b[0;32mpandas/_libs/index.pyx\u001b[0m in \u001b[0;36mpandas._libs.index.IndexEngine.get_loc\u001b[0;34m()\u001b[0m\n",
            "\u001b[0;32mpandas/_libs/hashtable_class_helper.pxi\u001b[0m in \u001b[0;36mpandas._libs.hashtable.PyObjectHashTable.get_item\u001b[0;34m()\u001b[0m\n",
            "\u001b[0;32mpandas/_libs/hashtable_class_helper.pxi\u001b[0m in \u001b[0;36mpandas._libs.hashtable.PyObjectHashTable.get_item\u001b[0;34m()\u001b[0m\n",
            "\u001b[0;31mKeyError\u001b[0m: 'Attack Type'",
            "\nThe above exception was the direct cause of the following exception:\n",
            "\u001b[0;31mKeyError\u001b[0m                                  Traceback (most recent call last)",
            "\u001b[0;32m<ipython-input-13-6b53da38ae45>\u001b[0m in \u001b[0;36m<module>\u001b[0;34m()\u001b[0m\n\u001b[0;32m----> 1\u001b[0;31m \u001b[0mdf\u001b[0m\u001b[0;34m[\u001b[0m\u001b[0;34m'Attack Type'\u001b[0m\u001b[0;34m]\u001b[0m\u001b[0;34m.\u001b[0m\u001b[0mvalue_counts\u001b[0m\u001b[0;34m(\u001b[0m\u001b[0;34m)\u001b[0m\u001b[0;34m\u001b[0m\u001b[0;34m\u001b[0m\u001b[0m\n\u001b[0m",
            "\u001b[0;32m/usr/local/lib/python3.7/dist-packages/pandas/core/frame.py\u001b[0m in \u001b[0;36m__getitem__\u001b[0;34m(self, key)\u001b[0m\n\u001b[1;32m   2904\u001b[0m             \u001b[0;32mif\u001b[0m \u001b[0mself\u001b[0m\u001b[0;34m.\u001b[0m\u001b[0mcolumns\u001b[0m\u001b[0;34m.\u001b[0m\u001b[0mnlevels\u001b[0m \u001b[0;34m>\u001b[0m \u001b[0;36m1\u001b[0m\u001b[0;34m:\u001b[0m\u001b[0;34m\u001b[0m\u001b[0;34m\u001b[0m\u001b[0m\n\u001b[1;32m   2905\u001b[0m                 \u001b[0;32mreturn\u001b[0m \u001b[0mself\u001b[0m\u001b[0;34m.\u001b[0m\u001b[0m_getitem_multilevel\u001b[0m\u001b[0;34m(\u001b[0m\u001b[0mkey\u001b[0m\u001b[0;34m)\u001b[0m\u001b[0;34m\u001b[0m\u001b[0;34m\u001b[0m\u001b[0m\n\u001b[0;32m-> 2906\u001b[0;31m             \u001b[0mindexer\u001b[0m \u001b[0;34m=\u001b[0m \u001b[0mself\u001b[0m\u001b[0;34m.\u001b[0m\u001b[0mcolumns\u001b[0m\u001b[0;34m.\u001b[0m\u001b[0mget_loc\u001b[0m\u001b[0;34m(\u001b[0m\u001b[0mkey\u001b[0m\u001b[0;34m)\u001b[0m\u001b[0;34m\u001b[0m\u001b[0;34m\u001b[0m\u001b[0m\n\u001b[0m\u001b[1;32m   2907\u001b[0m             \u001b[0;32mif\u001b[0m \u001b[0mis_integer\u001b[0m\u001b[0;34m(\u001b[0m\u001b[0mindexer\u001b[0m\u001b[0;34m)\u001b[0m\u001b[0;34m:\u001b[0m\u001b[0;34m\u001b[0m\u001b[0;34m\u001b[0m\u001b[0m\n\u001b[1;32m   2908\u001b[0m                 \u001b[0mindexer\u001b[0m \u001b[0;34m=\u001b[0m \u001b[0;34m[\u001b[0m\u001b[0mindexer\u001b[0m\u001b[0;34m]\u001b[0m\u001b[0;34m\u001b[0m\u001b[0;34m\u001b[0m\u001b[0m\n",
            "\u001b[0;32m/usr/local/lib/python3.7/dist-packages/pandas/core/indexes/base.py\u001b[0m in \u001b[0;36mget_loc\u001b[0;34m(self, key, method, tolerance)\u001b[0m\n\u001b[1;32m   2898\u001b[0m                 \u001b[0;32mreturn\u001b[0m \u001b[0mself\u001b[0m\u001b[0;34m.\u001b[0m\u001b[0m_engine\u001b[0m\u001b[0;34m.\u001b[0m\u001b[0mget_loc\u001b[0m\u001b[0;34m(\u001b[0m\u001b[0mcasted_key\u001b[0m\u001b[0;34m)\u001b[0m\u001b[0;34m\u001b[0m\u001b[0;34m\u001b[0m\u001b[0m\n\u001b[1;32m   2899\u001b[0m             \u001b[0;32mexcept\u001b[0m \u001b[0mKeyError\u001b[0m \u001b[0;32mas\u001b[0m \u001b[0merr\u001b[0m\u001b[0;34m:\u001b[0m\u001b[0;34m\u001b[0m\u001b[0;34m\u001b[0m\u001b[0m\n\u001b[0;32m-> 2900\u001b[0;31m                 \u001b[0;32mraise\u001b[0m \u001b[0mKeyError\u001b[0m\u001b[0;34m(\u001b[0m\u001b[0mkey\u001b[0m\u001b[0;34m)\u001b[0m \u001b[0;32mfrom\u001b[0m \u001b[0merr\u001b[0m\u001b[0;34m\u001b[0m\u001b[0;34m\u001b[0m\u001b[0m\n\u001b[0m\u001b[1;32m   2901\u001b[0m \u001b[0;34m\u001b[0m\u001b[0m\n\u001b[1;32m   2902\u001b[0m         \u001b[0;32mif\u001b[0m \u001b[0mtolerance\u001b[0m \u001b[0;32mis\u001b[0m \u001b[0;32mnot\u001b[0m \u001b[0;32mNone\u001b[0m\u001b[0;34m:\u001b[0m\u001b[0;34m\u001b[0m\u001b[0;34m\u001b[0m\u001b[0m\n",
            "\u001b[0;31mKeyError\u001b[0m: 'Attack Type'"
          ]
        }
      ]
    },
    {
      "cell_type": "code",
      "metadata": {
        "colab": {
          "base_uri": "https://localhost:8080/"
        },
        "id": "C0vaEyep_j6f",
        "outputId": "60340b37-f30a-4ca4-a6e2-43f6d0fe60f8"
      },
      "source": [
        "df.dtypes\n"
      ],
      "execution_count": null,
      "outputs": [
        {
          "output_type": "execute_result",
          "data": {
            "text/plain": [
              "No.              int64\n",
              "Time           float64\n",
              "Source          object\n",
              "Destination     object\n",
              "Protocol        object\n",
              "Length           int64\n",
              "Info            object\n",
              "dtype: object"
            ]
          },
          "metadata": {
            "tags": []
          },
          "execution_count": 14
        }
      ]
    },
    {
      "cell_type": "code",
      "metadata": {
        "id": "reXWlZceBq0K"
      },
      "source": [
        "def bar_graph(feature):\n",
        "    df[feature].value_counts().plot(kind=\"bar\")\n"
      ],
      "execution_count": null,
      "outputs": []
    },
    {
      "cell_type": "code",
      "metadata": {
        "colab": {
          "base_uri": "https://localhost:8080/",
          "height": 295
        },
        "id": "NsKAiTdtBsE4",
        "outputId": "3185fa49-6b0d-4e93-d546-4b631d8f2f8a"
      },
      "source": [
        "bar_graph('Protocol')\n"
      ],
      "execution_count": null,
      "outputs": [
        {
          "output_type": "display_data",
          "data": {
            "image/png": "[encoded data removed]",
            "text/plain": [
              "<Figure size 432x288 with 1 Axes>"
            ]
          },
          "metadata": {
            "tags": [],
            "needs_background": "light"
          }
        }
      ]
    },
    {
      "cell_type": "code",
      "metadata": {
        "colab": {
          "base_uri": "https://localhost:8080/",
          "height": 276
        },
        "id": "RirFGE8DBzZx",
        "outputId": "63fbaddd-ace1-4fa3-cc2c-01ee964cbc1f"
      },
      "source": [
        "import matplotlib.pyplot as plt\n",
        "\n",
        "plt.figure(figsize=(15,3))\n",
        "bar_graph('service')\n"
      ],
      "execution_count": null,
      "outputs": [
        {
          "output_type": "display_data",
          "data": {
            "image/png": "[encoded data removed]",
            "text/plain": [
              "<Figure size 1080x216 with 1 Axes>"
            ]
          },
          "metadata": {
            "tags": []
          }
        }
      ]
    },
    {
      "cell_type": "code",
      "metadata": {
        "colab": {
          "base_uri": "https://localhost:8080/",
          "height": 306
        },
        "id": "Dy4bxdj3B_lw",
        "outputId": "35d7787e-6f3e-48cb-e10c-cbf26261baf7"
      },
      "source": [
        "bar_graph('flag')\n"
      ],
      "execution_count": null,
      "outputs": [
        {
          "output_type": "display_data",
          "data": {
            "image/png": "[encoded data removed]",
            "text/plain": [
              "<Figure size 432x288 with 1 Axes>"
            ]
          },
          "metadata": {
            "tags": []
          }
        }
      ]
    },
    {
      "cell_type": "code",
      "metadata": {
        "colab": {
          "base_uri": "https://localhost:8080/",
          "height": 273
        },
        "id": "MM-UGJgnCC8w",
        "outputId": "54a9d807-0ea9-4aa6-a48c-8f05733b8e5a"
      },
      "source": [
        "bar_graph('logged_in')\n"
      ],
      "execution_count": null,
      "outputs": [
        {
          "output_type": "display_data",
          "data": {
            "image/png": "[encoded data removed]",
            "text/plain": [
              "<Figure size 432x288 with 1 Axes>"
            ]
          },
          "metadata": {
            "tags": []
          }
        }
      ]
    },
    {
      "cell_type": "code",
      "metadata": {
        "colab": {
          "base_uri": "https://localhost:8080/",
          "height": 347
        },
        "id": "rixQI237Fq7K",
        "outputId": "52c8eb11-26fa-4eed-f93d-350fe9696a15"
      },
      "source": [
        "bar_graph('target')\n"
      ],
      "execution_count": null,
      "outputs": [
        {
          "output_type": "display_data",
          "data": {
            "image/png": "[encoded data removed]",
            "text/plain": [
              "<Figure size 432x288 with 1 Axes>"
            ]
          },
          "metadata": {
            "tags": []
          }
        }
      ]
    },
    {
      "cell_type": "code",
      "metadata": {
        "colab": {
          "base_uri": "https://localhost:8080/",
          "height": 301
        },
        "id": "rAaabUxKFwzA",
        "outputId": "68470271-d871-4fc1-9790-f28b23058038"
      },
      "source": [
        "bar_graph('Attack Type')\n"
      ],
      "execution_count": null,
      "outputs": [
        {
          "output_type": "display_data",
          "data": {
            "image/png": "[encoded data removed]",
            "text/plain": [
              "<Figure size 432x288 with 1 Axes>"
            ]
          },
          "metadata": {
            "tags": []
          }
        }
      ]
    },
    {
      "cell_type": "code",
      "metadata": {
        "colab": {
          "base_uri": "https://localhost:8080/"
        },
        "id": "soPAlPKPCHeV",
        "outputId": "07226536-efd9-402d-ff6e-72b03f8ebd0c"
      },
      "source": [
        "df.columns\n"
      ],
      "execution_count": null,
      "outputs": [
        {
          "output_type": "execute_result",
          "data": {
            "text/plain": [
              "Index(['duration', 'protocol_type', 'service', 'flag', 'src_bytes',\n",
              "       'dst_bytes', 'land', 'wrong_fragment', 'urgent', 'hot',\n",
              "       'num_failed_logins', 'logged_in', 'num_compromised', 'root_shell',\n",
              "       'su_attempted', 'num_root', 'num_file_creations', 'num_shells',\n",
              "       'num_access_files', 'num_outbound_cmds', 'is_host_login',\n",
              "       'is_guest_login', 'count', 'srv_count', 'serror_rate',\n",
              "       'srv_serror_rate', 'rerror_rate', 'srv_rerror_rate', 'same_srv_rate',\n",
              "       'diff_srv_rate', 'srv_diff_host_rate', 'dst_host_count',\n",
              "       'dst_host_srv_count', 'dst_host_same_srv_rate',\n",
              "       'dst_host_diff_srv_rate', 'dst_host_same_src_port_rate',\n",
              "       'dst_host_srv_diff_host_rate', 'dst_host_serror_rate',\n",
              "       'dst_host_srv_serror_rate', 'dst_host_rerror_rate',\n",
              "       'dst_host_srv_rerror_rate', 'target', 'Attack Type'],\n",
              "      dtype='object')"
            ]
          },
          "metadata": {
            "tags": []
          },
          "execution_count": 17
        }
      ]
    },
    {
      "cell_type": "code",
      "metadata": {
        "colab": {
          "base_uri": "https://localhost:8080/",
          "height": 704
        },
        "id": "s23nGLosCNUw",
        "outputId": "d1b122dc-abd7-4a27-f81a-ef0ca7a54885"
      },
      "source": [
        "import os\n",
        "import pandas as pd\n",
        "import numpy as np\n",
        "import matplotlib.pyplot as plt\n",
        "import seaborn as sns\n",
        "import time\n",
        "\n",
        "\n",
        "df = df.dropna('columns')# drop columns with NaN\n",
        "\n",
        "df = df[[col for col in df if df[col].nunique() > 1]]# keep columns where there are more than 1 unique values\n",
        "\n",
        "corr = df.corr()\n",
        "\n",
        "plt.figure(figsize=(15,12))\n",
        "\n",
        "sns.heatmap(corr)\n",
        "\n",
        "plt.show()\n"
      ],
      "execution_count": null,
      "outputs": [
        {
          "output_type": "display_data",
          "data": {
            "image/png": "[encoded data removed]",
            "text/plain": [
              "<Figure size 1080x864 with 2 Axes>"
            ]
          },
          "metadata": {
            "tags": [],
            "needs_background": "light"
          }
        }
      ]
    },
    {
      "cell_type": "code",
      "metadata": {
        "colab": {
          "base_uri": "https://localhost:8080/"
        },
        "id": "cVkI1qqmCqsa",
        "outputId": "b8d01c29-bff5-4986-a7f9-c5e32118a2de"
      },
      "source": [
        "df['num_root'].corr(df['num_compromised'])\n"
      ],
      "execution_count": null,
      "outputs": [
        {
          "output_type": "execute_result",
          "data": {
            "text/plain": [
              "0.9975798933487886"
            ]
          },
          "metadata": {
            "tags": []
          },
          "execution_count": 19
        }
      ]
    },
    {
      "cell_type": "code",
      "metadata": {
        "colab": {
          "base_uri": "https://localhost:8080/"
        },
        "id": "W_HC8wl8Cvtt",
        "outputId": "d34daa41-fec8-4784-a1c4-e3bc4a6401d7"
      },
      "source": [
        "df['srv_serror_rate'].corr(df['serror_rate'])\n"
      ],
      "execution_count": null,
      "outputs": [
        {
          "output_type": "execute_result",
          "data": {
            "text/plain": [
              "0.9986924138661805"
            ]
          },
          "metadata": {
            "tags": []
          },
          "execution_count": 20
        }
      ]
    },
    {
      "cell_type": "code",
      "metadata": {
        "colab": {
          "base_uri": "https://localhost:8080/"
        },
        "id": "YcB5cCYVC2By",
        "outputId": "94d47bd3-41e7-4d9f-9e41-3d03090fff41"
      },
      "source": [
        "df['srv_count'].corr(df['count'])\n"
      ],
      "execution_count": null,
      "outputs": [
        {
          "output_type": "execute_result",
          "data": {
            "text/plain": [
              "0.9433902218807168"
            ]
          },
          "metadata": {
            "tags": []
          },
          "execution_count": 21
        }
      ]
    },
    {
      "cell_type": "code",
      "metadata": {
        "colab": {
          "base_uri": "https://localhost:8080/"
        },
        "id": "Zqnh2k2FC29u",
        "outputId": "6b7e4563-6998-4f61-8ea4-ac6985cdea6b"
      },
      "source": [
        "df['srv_rerror_rate'].corr(df['rerror_rate'])\n"
      ],
      "execution_count": null,
      "outputs": [
        {
          "output_type": "execute_result",
          "data": {
            "text/plain": [
              "0.9953719458067455"
            ]
          },
          "metadata": {
            "tags": []
          },
          "execution_count": 22
        }
      ]
    },
    {
      "cell_type": "code",
      "metadata": {
        "colab": {
          "base_uri": "https://localhost:8080/"
        },
        "id": "CPntcIQbC6Uk",
        "outputId": "d054b1d4-28fb-4d07-f9bf-6515d282b229"
      },
      "source": [
        "df['dst_host_same_srv_rate'].corr(df['dst_host_srv_count'])\n"
      ],
      "execution_count": null,
      "outputs": [
        {
          "output_type": "execute_result",
          "data": {
            "text/plain": [
              "0.9788464524219127"
            ]
          },
          "metadata": {
            "tags": []
          },
          "execution_count": 23
        }
      ]
    },
    {
      "cell_type": "code",
      "metadata": {
        "colab": {
          "base_uri": "https://localhost:8080/"
        },
        "id": "_KgJOrJZC-DU",
        "outputId": "7a1ef9a9-37be-443c-95bc-1c6be8bbf834"
      },
      "source": [
        "df['dst_host_srv_serror_rate'].corr(df['dst_host_serror_rate'])\n"
      ],
      "execution_count": null,
      "outputs": [
        {
          "output_type": "execute_result",
          "data": {
            "text/plain": [
              "0.9982859559765033"
            ]
          },
          "metadata": {
            "tags": []
          },
          "execution_count": 24
        }
      ]
    },
    {
      "cell_type": "code",
      "metadata": {
        "colab": {
          "base_uri": "https://localhost:8080/"
        },
        "id": "qfchKN6uDAXg",
        "outputId": "7fb08218-eb7c-4e42-e07a-88f0fd750424"
      },
      "source": [
        "df['dst_host_srv_rerror_rate'].corr(df['dst_host_rerror_rate'])\n"
      ],
      "execution_count": null,
      "outputs": [
        {
          "output_type": "execute_result",
          "data": {
            "text/plain": [
              "0.9869790678087113"
            ]
          },
          "metadata": {
            "tags": []
          },
          "execution_count": 25
        }
      ]
    },
    {
      "cell_type": "code",
      "metadata": {
        "colab": {
          "base_uri": "https://localhost:8080/"
        },
        "id": "6RGM_-qZDCq9",
        "outputId": "aa2be00e-e34a-4fbb-94ad-d9a66c3c8b5f"
      },
      "source": [
        "df['dst_host_same_srv_rate'].corr(df['same_srv_rate'])\n"
      ],
      "execution_count": null,
      "outputs": [
        {
          "output_type": "execute_result",
          "data": {
            "text/plain": [
              "0.9316213679068658"
            ]
          },
          "metadata": {
            "tags": []
          },
          "execution_count": 26
        }
      ]
    },
    {
      "cell_type": "code",
      "metadata": {
        "id": "2vfNTCFPF3nD"
      },
      "source": [
        "#This variable is highly correlated with num_compromised and should be ignored for analysis.\n",
        "#(Correlation = 0.9938277978738366)\n",
        "df.drop('num_root',axis = 1,inplace = True)\n",
        "\n",
        "#This variable is highly correlated with serror_rate and should be ignored for analysis.\n",
        "#(Correlation = 0.9983615072725952)\n",
        "df.drop('srv_serror_rate',axis = 1,inplace = True)\n",
        "\n",
        "#This variable is highly correlated with rerror_rate and should be ignored for analysis.\n",
        "#(Correlation = 0.9947309539817937)\n",
        "df.drop('srv_rerror_rate',axis = 1, inplace=True)\n",
        "\n",
        "#This variable is highly correlated with srv_serror_rate and should be ignored for analysis.\n",
        "#(Correlation = 0.9993041091850098)\n",
        "df.drop('dst_host_srv_serror_rate',axis = 1, inplace=True)\n",
        "\n",
        "#This variable is highly correlated with rerror_rate and should be ignored for analysis.\n",
        "#(Correlation = 0.9869947924956001)\n",
        "df.drop('dst_host_serror_rate',axis = 1, inplace=True)\n",
        "\n",
        "#This variable is highly correlated with srv_rerror_rate and should be ignored for analysis.\n",
        "#(Correlation = 0.9821663427308375)\n",
        "df.drop('dst_host_rerror_rate',axis = 1, inplace=True)\n",
        "\n",
        "#This variable is highly correlated with rerror_rate and should be ignored for analysis.\n",
        "#(Correlation = 0.9851995540751249)\n",
        "df.drop('dst_host_srv_rerror_rate',axis = 1, inplace=True)\n",
        "\n",
        "#This variable is highly correlated with srv_rerror_rate and should be ignored for analysis.\n",
        "#(Correlation = 0.9865705438845669)\n",
        "df.drop('dst_host_same_srv_rate',axis = 1, inplace=True)\n"
      ],
      "execution_count": null,
      "outputs": []
    },
    {
      "cell_type": "code",
      "metadata": {
        "colab": {
          "base_uri": "https://localhost:8080/",
          "height": 241
        },
        "id": "UPLNOXQoF-sO",
        "outputId": "25eaa049-a607-4730-b2c4-681ec5e08ab2"
      },
      "source": [
        "df.head(-10)\n"
      ],
      "execution_count": null,
      "outputs": [
        {
          "output_type": "execute_result",
          "data": {
            "text/html": [
              "<div>\n",
              "<style scoped>\n",
              "    .dataframe tbody tr th:only-of-type {\n",
              "        vertical-align: middle;\n",
              "    }\n",
              "\n",
              "    .dataframe tbody tr th {\n",
              "        vertical-align: top;\n",
              "    }\n",
              "\n",
              "    .dataframe thead th {\n",
              "        text-align: right;\n",
              "    }\n",
              "</style>\n",
              "<table border=\"1\" class=\"dataframe\">\n",
              "  <thead>\n",
              "    <tr style=\"text-align: right;\">\n",
              "      <th></th>\n",
              "      <th>duration</th>\n",
              "      <th>protocol_type</th>\n",
              "      <th>service</th>\n",
              "      <th>flag</th>\n",
              "      <th>src_bytes</th>\n",
              "      <th>dst_bytes</th>\n",
              "      <th>land</th>\n",
              "      <th>wrong_fragment</th>\n",
              "      <th>urgent</th>\n",
              "      <th>hot</th>\n",
              "      <th>num_failed_logins</th>\n",
              "      <th>logged_in</th>\n",
              "      <th>num_compromised</th>\n",
              "      <th>root_shell</th>\n",
              "      <th>su_attempted</th>\n",
              "      <th>num_file_creations</th>\n",
              "      <th>num_shells</th>\n",
              "      <th>num_access_files</th>\n",
              "      <th>is_host_login</th>\n",
              "      <th>is_guest_login</th>\n",
              "      <th>count</th>\n",
              "      <th>srv_count</th>\n",
              "      <th>serror_rate</th>\n",
              "      <th>rerror_rate</th>\n",
              "      <th>same_srv_rate</th>\n",
              "      <th>diff_srv_rate</th>\n",
              "      <th>srv_diff_host_rate</th>\n",
              "      <th>dst_host_count</th>\n",
              "      <th>dst_host_srv_count</th>\n",
              "      <th>dst_host_diff_srv_rate</th>\n",
              "      <th>dst_host_same_src_port_rate</th>\n",
              "      <th>dst_host_srv_diff_host_rate</th>\n",
              "      <th>target</th>\n",
              "      <th>Attack Type</th>\n",
              "    </tr>\n",
              "  </thead>\n",
              "  <tbody>\n",
              "    <tr>\n",
              "      <th>0</th>\n",
              "      <td>0</td>\n",
              "      <td>tcp</td>\n",
              "      <td>http</td>\n",
              "      <td>SF</td>\n",
              "      <td>215</td>\n",
              "      <td>45076</td>\n",
              "      <td>0</td>\n",
              "      <td>0</td>\n",
              "      <td>0</td>\n",
              "      <td>0</td>\n",
              "      <td>0</td>\n",
              "      <td>1</td>\n",
              "      <td>0</td>\n",
              "      <td>0</td>\n",
              "      <td>0</td>\n",
              "      <td>0</td>\n",
              "      <td>0</td>\n",
              "      <td>0</td>\n",
              "      <td>0</td>\n",
              "      <td>0</td>\n",
              "      <td>1</td>\n",
              "      <td>1</td>\n",
              "      <td>0.0</td>\n",
              "      <td>0.0</td>\n",
              "      <td>1.0</td>\n",
              "      <td>0.0</td>\n",
              "      <td>0.0</td>\n",
              "      <td>0</td>\n",
              "      <td>0</td>\n",
              "      <td>0.0</td>\n",
              "      <td>0.00</td>\n",
              "      <td>0.0</td>\n",
              "      <td>normal.</td>\n",
              "      <td>normal</td>\n",
              "    </tr>\n",
              "    <tr>\n",
              "      <th>1</th>\n",
              "      <td>0</td>\n",
              "      <td>tcp</td>\n",
              "      <td>http</td>\n",
              "      <td>SF</td>\n",
              "      <td>162</td>\n",
              "      <td>4528</td>\n",
              "      <td>0</td>\n",
              "      <td>0</td>\n",
              "      <td>0</td>\n",
              "      <td>0</td>\n",
              "      <td>0</td>\n",
              "      <td>1</td>\n",
              "      <td>0</td>\n",
              "      <td>0</td>\n",
              "      <td>0</td>\n",
              "      <td>0</td>\n",
              "      <td>0</td>\n",
              "      <td>0</td>\n",
              "      <td>0</td>\n",
              "      <td>0</td>\n",
              "      <td>2</td>\n",
              "      <td>2</td>\n",
              "      <td>0.0</td>\n",
              "      <td>0.0</td>\n",
              "      <td>1.0</td>\n",
              "      <td>0.0</td>\n",
              "      <td>0.0</td>\n",
              "      <td>1</td>\n",
              "      <td>1</td>\n",
              "      <td>0.0</td>\n",
              "      <td>1.00</td>\n",
              "      <td>0.0</td>\n",
              "      <td>normal.</td>\n",
              "      <td>normal</td>\n",
              "    </tr>\n",
              "    <tr>\n",
              "      <th>2</th>\n",
              "      <td>0</td>\n",
              "      <td>tcp</td>\n",
              "      <td>http</td>\n",
              "      <td>SF</td>\n",
              "      <td>236</td>\n",
              "      <td>1228</td>\n",
              "      <td>0</td>\n",
              "      <td>0</td>\n",
              "      <td>0</td>\n",
              "      <td>0</td>\n",
              "      <td>0</td>\n",
              "      <td>1</td>\n",
              "      <td>0</td>\n",
              "      <td>0</td>\n",
              "      <td>0</td>\n",
              "      <td>0</td>\n",
              "      <td>0</td>\n",
              "      <td>0</td>\n",
              "      <td>0</td>\n",
              "      <td>0</td>\n",
              "      <td>1</td>\n",
              "      <td>1</td>\n",
              "      <td>0.0</td>\n",
              "      <td>0.0</td>\n",
              "      <td>1.0</td>\n",
              "      <td>0.0</td>\n",
              "      <td>0.0</td>\n",
              "      <td>2</td>\n",
              "      <td>2</td>\n",
              "      <td>0.0</td>\n",
              "      <td>0.50</td>\n",
              "      <td>0.0</td>\n",
              "      <td>normal.</td>\n",
              "      <td>normal</td>\n",
              "    </tr>\n",
              "    <tr>\n",
              "      <th>3</th>\n",
              "      <td>0</td>\n",
              "      <td>tcp</td>\n",
              "      <td>http</td>\n",
              "      <td>SF</td>\n",
              "      <td>233</td>\n",
              "      <td>2032</td>\n",
              "      <td>0</td>\n",
              "      <td>0</td>\n",
              "      <td>0</td>\n",
              "      <td>0</td>\n",
              "      <td>0</td>\n",
              "      <td>1</td>\n",
              "      <td>0</td>\n",
              "      <td>0</td>\n",
              "      <td>0</td>\n",
              "      <td>0</td>\n",
              "      <td>0</td>\n",
              "      <td>0</td>\n",
              "      <td>0</td>\n",
              "      <td>0</td>\n",
              "      <td>2</td>\n",
              "      <td>2</td>\n",
              "      <td>0.0</td>\n",
              "      <td>0.0</td>\n",
              "      <td>1.0</td>\n",
              "      <td>0.0</td>\n",
              "      <td>0.0</td>\n",
              "      <td>3</td>\n",
              "      <td>3</td>\n",
              "      <td>0.0</td>\n",
              "      <td>0.33</td>\n",
              "      <td>0.0</td>\n",
              "      <td>normal.</td>\n",
              "      <td>normal</td>\n",
              "    </tr>\n",
              "    <tr>\n",
              "      <th>4</th>\n",
              "      <td>0</td>\n",
              "      <td>tcp</td>\n",
              "      <td>http</td>\n",
              "      <td>SF</td>\n",
              "      <td>239</td>\n",
              "      <td>486</td>\n",
              "      <td>0</td>\n",
              "      <td>0</td>\n",
              "      <td>0</td>\n",
              "      <td>0</td>\n",
              "      <td>0</td>\n",
              "      <td>1</td>\n",
              "      <td>0</td>\n",
              "      <td>0</td>\n",
              "      <td>0</td>\n",
              "      <td>0</td>\n",
              "      <td>0</td>\n",
              "      <td>0</td>\n",
              "      <td>0</td>\n",
              "      <td>0</td>\n",
              "      <td>3</td>\n",
              "      <td>3</td>\n",
              "      <td>0.0</td>\n",
              "      <td>0.0</td>\n",
              "      <td>1.0</td>\n",
              "      <td>0.0</td>\n",
              "      <td>0.0</td>\n",
              "      <td>4</td>\n",
              "      <td>4</td>\n",
              "      <td>0.0</td>\n",
              "      <td>0.25</td>\n",
              "      <td>0.0</td>\n",
              "      <td>normal.</td>\n",
              "      <td>normal</td>\n",
              "    </tr>\n",
              "  </tbody>\n",
              "</table>\n",
              "</div>"
            ],
            "text/plain": [
              "   duration protocol_type  ...   target Attack Type\n",
              "0         0           tcp  ...  normal.      normal\n",
              "1         0           tcp  ...  normal.      normal\n",
              "2         0           tcp  ...  normal.      normal\n",
              "3         0           tcp  ...  normal.      normal\n",
              "4         0           tcp  ...  normal.      normal\n",
              "\n",
              "[5 rows x 34 columns]"
            ]
          },
          "metadata": {
            "tags": []
          },
          "execution_count": 28
        }
      ]
    },
    {
      "cell_type": "code",
      "metadata": {
        "colab": {
          "base_uri": "https://localhost:8080/"
        },
        "id": "7mBwjWfgGHoN",
        "outputId": "8facbb8b-71b3-4c4b-b363-37f63cf5209b"
      },
      "source": [
        "df.shape\n"
      ],
      "execution_count": null,
      "outputs": [
        {
          "output_type": "execute_result",
          "data": {
            "text/plain": [
              "(4898431, 33)"
            ]
          },
          "metadata": {
            "tags": []
          },
          "execution_count": 33
        }
      ]
    },
    {
      "cell_type": "code",
      "metadata": {
        "colab": {
          "base_uri": "https://localhost:8080/"
        },
        "id": "bUEKuztdXkIr",
        "outputId": "0379b10c-82f8-4abf-ff44-cbeb3ac571cb"
      },
      "source": [
        "df.columns"
      ],
      "execution_count": null,
      "outputs": [
        {
          "output_type": "execute_result",
          "data": {
            "text/plain": [
              "Index(['duration', 'protocol_type', 'service', 'flag', 'src_bytes',\n",
              "       'dst_bytes', 'land', 'wrong_fragment', 'urgent', 'hot',\n",
              "       'num_failed_logins', 'logged_in', 'num_compromised', 'root_shell',\n",
              "       'su_attempted', 'num_file_creations', 'num_shells', 'num_access_files',\n",
              "       'is_guest_login', 'count', 'srv_count', 'serror_rate', 'rerror_rate',\n",
              "       'same_srv_rate', 'diff_srv_rate', 'srv_diff_host_rate',\n",
              "       'dst_host_count', 'dst_host_srv_count', 'dst_host_diff_srv_rate',\n",
              "       'dst_host_same_src_port_rate', 'dst_host_srv_diff_host_rate', 'target',\n",
              "       'Attack Type'],\n",
              "      dtype='object')"
            ]
          },
          "metadata": {
            "tags": []
          },
          "execution_count": 34
        }
      ]
    },
    {
      "cell_type": "code",
      "metadata": {
        "colab": {
          "base_uri": "https://localhost:8080/",
          "height": 241
        },
        "id": "cqUFF905WgcJ",
        "outputId": "68d14527-02e4-4f6d-f53e-afd6c94645d4"
      },
      "source": [
        "df.head()"
      ],
      "execution_count": null,
      "outputs": [
        {
          "output_type": "execute_result",
          "data": {
            "text/html": [
              "<div>\n",
              "<style scoped>\n",
              "    .dataframe tbody tr th:only-of-type {\n",
              "        vertical-align: middle;\n",
              "    }\n",
              "\n",
              "    .dataframe tbody tr th {\n",
              "        vertical-align: top;\n",
              "    }\n",
              "\n",
              "    .dataframe thead th {\n",
              "        text-align: right;\n",
              "    }\n",
              "</style>\n",
              "<table border=\"1\" class=\"dataframe\">\n",
              "  <thead>\n",
              "    <tr style=\"text-align: right;\">\n",
              "      <th></th>\n",
              "      <th>duration</th>\n",
              "      <th>protocol_type</th>\n",
              "      <th>service</th>\n",
              "      <th>flag</th>\n",
              "      <th>src_bytes</th>\n",
              "      <th>dst_bytes</th>\n",
              "      <th>land</th>\n",
              "      <th>wrong_fragment</th>\n",
              "      <th>urgent</th>\n",
              "      <th>hot</th>\n",
              "      <th>num_failed_logins</th>\n",
              "      <th>logged_in</th>\n",
              "      <th>num_compromised</th>\n",
              "      <th>root_shell</th>\n",
              "      <th>su_attempted</th>\n",
              "      <th>num_file_creations</th>\n",
              "      <th>num_shells</th>\n",
              "      <th>num_access_files</th>\n",
              "      <th>is_guest_login</th>\n",
              "      <th>count</th>\n",
              "      <th>srv_count</th>\n",
              "      <th>serror_rate</th>\n",
              "      <th>rerror_rate</th>\n",
              "      <th>same_srv_rate</th>\n",
              "      <th>diff_srv_rate</th>\n",
              "      <th>srv_diff_host_rate</th>\n",
              "      <th>dst_host_count</th>\n",
              "      <th>dst_host_srv_count</th>\n",
              "      <th>dst_host_diff_srv_rate</th>\n",
              "      <th>dst_host_same_src_port_rate</th>\n",
              "      <th>dst_host_srv_diff_host_rate</th>\n",
              "      <th>target</th>\n",
              "      <th>Attack Type</th>\n",
              "    </tr>\n",
              "  </thead>\n",
              "  <tbody>\n",
              "    <tr>\n",
              "      <th>0</th>\n",
              "      <td>0</td>\n",
              "      <td>tcp</td>\n",
              "      <td>http</td>\n",
              "      <td>SF</td>\n",
              "      <td>215</td>\n",
              "      <td>45076</td>\n",
              "      <td>0</td>\n",
              "      <td>0</td>\n",
              "      <td>0</td>\n",
              "      <td>0</td>\n",
              "      <td>0</td>\n",
              "      <td>1</td>\n",
              "      <td>0</td>\n",
              "      <td>0</td>\n",
              "      <td>0</td>\n",
              "      <td>0</td>\n",
              "      <td>0</td>\n",
              "      <td>0</td>\n",
              "      <td>0</td>\n",
              "      <td>1</td>\n",
              "      <td>1</td>\n",
              "      <td>0.0</td>\n",
              "      <td>0.0</td>\n",
              "      <td>1.0</td>\n",
              "      <td>0.0</td>\n",
              "      <td>0.0</td>\n",
              "      <td>0</td>\n",
              "      <td>0</td>\n",
              "      <td>0.0</td>\n",
              "      <td>0.00</td>\n",
              "      <td>0.0</td>\n",
              "      <td>normal.</td>\n",
              "      <td>normal</td>\n",
              "    </tr>\n",
              "    <tr>\n",
              "      <th>1</th>\n",
              "      <td>0</td>\n",
              "      <td>tcp</td>\n",
              "      <td>http</td>\n",
              "      <td>SF</td>\n",
              "      <td>162</td>\n",
              "      <td>4528</td>\n",
              "      <td>0</td>\n",
              "      <td>0</td>\n",
              "      <td>0</td>\n",
              "      <td>0</td>\n",
              "      <td>0</td>\n",
              "      <td>1</td>\n",
              "      <td>0</td>\n",
              "      <td>0</td>\n",
              "      <td>0</td>\n",
              "      <td>0</td>\n",
              "      <td>0</td>\n",
              "      <td>0</td>\n",
              "      <td>0</td>\n",
              "      <td>2</td>\n",
              "      <td>2</td>\n",
              "      <td>0.0</td>\n",
              "      <td>0.0</td>\n",
              "      <td>1.0</td>\n",
              "      <td>0.0</td>\n",
              "      <td>0.0</td>\n",
              "      <td>1</td>\n",
              "      <td>1</td>\n",
              "      <td>0.0</td>\n",
              "      <td>1.00</td>\n",
              "      <td>0.0</td>\n",
              "      <td>normal.</td>\n",
              "      <td>normal</td>\n",
              "    </tr>\n",
              "    <tr>\n",
              "      <th>2</th>\n",
              "      <td>0</td>\n",
              "      <td>tcp</td>\n",
              "      <td>http</td>\n",
              "      <td>SF</td>\n",
              "      <td>236</td>\n",
              "      <td>1228</td>\n",
              "      <td>0</td>\n",
              "      <td>0</td>\n",
              "      <td>0</td>\n",
              "      <td>0</td>\n",
              "      <td>0</td>\n",
              "      <td>1</td>\n",
              "      <td>0</td>\n",
              "      <td>0</td>\n",
              "      <td>0</td>\n",
              "      <td>0</td>\n",
              "      <td>0</td>\n",
              "      <td>0</td>\n",
              "      <td>0</td>\n",
              "      <td>1</td>\n",
              "      <td>1</td>\n",
              "      <td>0.0</td>\n",
              "      <td>0.0</td>\n",
              "      <td>1.0</td>\n",
              "      <td>0.0</td>\n",
              "      <td>0.0</td>\n",
              "      <td>2</td>\n",
              "      <td>2</td>\n",
              "      <td>0.0</td>\n",
              "      <td>0.50</td>\n",
              "      <td>0.0</td>\n",
              "      <td>normal.</td>\n",
              "      <td>normal</td>\n",
              "    </tr>\n",
              "    <tr>\n",
              "      <th>3</th>\n",
              "      <td>0</td>\n",
              "      <td>tcp</td>\n",
              "      <td>http</td>\n",
              "      <td>SF</td>\n",
              "      <td>233</td>\n",
              "      <td>2032</td>\n",
              "      <td>0</td>\n",
              "      <td>0</td>\n",
              "      <td>0</td>\n",
              "      <td>0</td>\n",
              "      <td>0</td>\n",
              "      <td>1</td>\n",
              "      <td>0</td>\n",
              "      <td>0</td>\n",
              "      <td>0</td>\n",
              "      <td>0</td>\n",
              "      <td>0</td>\n",
              "      <td>0</td>\n",
              "      <td>0</td>\n",
              "      <td>2</td>\n",
              "      <td>2</td>\n",
              "      <td>0.0</td>\n",
              "      <td>0.0</td>\n",
              "      <td>1.0</td>\n",
              "      <td>0.0</td>\n",
              "      <td>0.0</td>\n",
              "      <td>3</td>\n",
              "      <td>3</td>\n",
              "      <td>0.0</td>\n",
              "      <td>0.33</td>\n",
              "      <td>0.0</td>\n",
              "      <td>normal.</td>\n",
              "      <td>normal</td>\n",
              "    </tr>\n",
              "    <tr>\n",
              "      <th>4</th>\n",
              "      <td>0</td>\n",
              "      <td>tcp</td>\n",
              "      <td>http</td>\n",
              "      <td>SF</td>\n",
              "      <td>239</td>\n",
              "      <td>486</td>\n",
              "      <td>0</td>\n",
              "      <td>0</td>\n",
              "      <td>0</td>\n",
              "      <td>0</td>\n",
              "      <td>0</td>\n",
              "      <td>1</td>\n",
              "      <td>0</td>\n",
              "      <td>0</td>\n",
              "      <td>0</td>\n",
              "      <td>0</td>\n",
              "      <td>0</td>\n",
              "      <td>0</td>\n",
              "      <td>0</td>\n",
              "      <td>3</td>\n",
              "      <td>3</td>\n",
              "      <td>0.0</td>\n",
              "      <td>0.0</td>\n",
              "      <td>1.0</td>\n",
              "      <td>0.0</td>\n",
              "      <td>0.0</td>\n",
              "      <td>4</td>\n",
              "      <td>4</td>\n",
              "      <td>0.0</td>\n",
              "      <td>0.25</td>\n",
              "      <td>0.0</td>\n",
              "      <td>normal.</td>\n",
              "      <td>normal</td>\n",
              "    </tr>\n",
              "  </tbody>\n",
              "</table>\n",
              "</div>"
            ],
            "text/plain": [
              "   duration protocol_type  ...   target Attack Type\n",
              "0         0           tcp  ...  normal.      normal\n",
              "1         0           tcp  ...  normal.      normal\n",
              "2         0           tcp  ...  normal.      normal\n",
              "3         0           tcp  ...  normal.      normal\n",
              "4         0           tcp  ...  normal.      normal\n",
              "\n",
              "[5 rows x 33 columns]"
            ]
          },
          "metadata": {
            "tags": []
          },
          "execution_count": 36
        }
      ]
    },
    {
      "cell_type": "markdown",
      "metadata": {
        "id": "jvVtD7Q8HDza"
      },
      "source": [
        "['duration', 'protocol_type', 'service', 'flag', 'src_bytes',\n",
        "       'dst_bytes', 'land', 'wrong_fragment', 'urgent', 'hot',\n",
        "       'num_failed_logins', 'logged_in', 'num_compromised', 'root_shell',\n",
        "       'su_attempted', 'num_file_creations', 'num_shells', 'num_access_files',\n",
        "       'is_guest_login', 'count', 'srv_count', 'serror_rate', 'rerror_rate',\n",
        "       'same_srv_rate', 'diff_srv_rate', 'srv_diff_host_rate',\n",
        "       'dst_host_count', 'dst_host_srv_count', 'dst_host_diff_srv_rate',\n",
        "       'dst_host_same_src_port_rate', 'dst_host_srv_diff_host_rate', 'target',\n",
        "       'Attack Type'"
      ]
    },
    {
      "cell_type": "code",
      "metadata": {
        "colab": {
          "base_uri": "https://localhost:8080/"
        },
        "id": "j5trBl1ZGUpK",
        "outputId": "34380364-a213-43fb-afe3-36fdeabaec22"
      },
      "source": [
        "df_std = df.std()\n",
        "df_std = df_std.sort_values(ascending = True)\n",
        "df_std\n"
      ],
      "execution_count": null,
      "outputs": [
        {
          "output_type": "execute_result",
          "data": {
            "text/plain": [
              "land                                0.002391\n",
              "urgent                              0.007215\n",
              "num_failed_logins                   0.007299\n",
              "su_attempted                        0.008082\n",
              "root_shell                          0.008257\n",
              "num_shells                          0.008738\n",
              "is_guest_login                      0.028887\n",
              "num_access_files                    0.035510\n",
              "dst_host_srv_diff_host_rate         0.041260\n",
              "wrong_fragment                      0.042854\n",
              "diff_srv_rate                       0.082715\n",
              "dst_host_diff_srv_rate              0.108543\n",
              "num_file_creations                  0.124186\n",
              "srv_diff_host_rate                  0.140560\n",
              "rerror_rate                         0.232253\n",
              "logged_in                           0.350612\n",
              "serror_rate                         0.381876\n",
              "same_srv_rate                       0.389296\n",
              "hot                                 0.468978\n",
              "dst_host_same_src_port_rate         0.480988\n",
              "num_compromised                     3.856481\n",
              "dst_host_count                     64.020937\n",
              "dst_host_srv_count                105.912767\n",
              "count                             211.990782\n",
              "srv_count                         245.992710\n",
              "duration                          723.329811\n",
              "dst_bytes                      645012.333754\n",
              "src_bytes                      941431.074484\n",
              "dtype: float64"
            ]
          },
          "metadata": {
            "tags": []
          },
          "execution_count": 37
        }
      ]
    },
    {
      "cell_type": "code",
      "metadata": {
        "colab": {
          "base_uri": "https://localhost:8080/"
        },
        "id": "OqppVAWOGgwY",
        "outputId": "d6bdd197-020f-4efe-9488-7fbb585920b1"
      },
      "source": [
        "df['Protocol'].value_counts()\n"
      ],
      "execution_count": null,
      "outputs": [
        {
          "output_type": "execute_result",
          "data": {
            "text/plain": [
              "SSDP       9048\n",
              "TCP        5856\n",
              "ARP        4743\n",
              "TLSv1.2    1314\n",
              "DNS         382\n",
              "NTP         207\n",
              "HTTP        110\n",
              "DHCP          4\n",
              "Name: Protocol, dtype: int64"
            ]
          },
          "metadata": {
            "tags": []
          },
          "execution_count": 38
        }
      ]
    },
    {
      "cell_type": "code",
      "metadata": {
        "id": "IaBmQQTBGtou"
      },
      "source": [
        "#protocol_type feature mapping\n",
        "pmap = {'icmp':0,'tcp':1,'udp':2}\n",
        "df['protocol_type'] = df['protocol_type'].map(pmap)"
      ],
      "execution_count": null,
      "outputs": []
    },
    {
      "cell_type": "code",
      "metadata": {
        "colab": {
          "base_uri": "https://localhost:8080/"
        },
        "id": "4YkEEmJQGxbq",
        "outputId": "ef443896-d985-45df-a78f-d19e0e3eaf79"
      },
      "source": [
        "df['flag'].value_counts()\n"
      ],
      "execution_count": null,
      "outputs": [
        {
          "output_type": "execute_result",
          "data": {
            "text/plain": [
              "SF        3744328\n",
              "S0         869829\n",
              "REJ        268874\n",
              "RSTR         8094\n",
              "RSTO         5344\n",
              "SH           1040\n",
              "S1            532\n",
              "S2            161\n",
              "RSTOS0        122\n",
              "OTH            57\n",
              "S3             50\n",
              "Name: flag, dtype: int64"
            ]
          },
          "metadata": {
            "tags": []
          },
          "execution_count": 40
        }
      ]
    },
    {
      "cell_type": "code",
      "metadata": {
        "id": "NnX5pBSUVj6u"
      },
      "source": [
        "#flag feature mapping\n",
        "fmap = {'SF':0,'S0':1,'REJ':2,'RSTR':3,'RSTO':4,'SH':5 ,'S1':6 ,'S2':7,'RSTOS0':8,'S3':9 ,'OTH':10}\n",
        "df['flag'] = df['flag'].map(fmap)\n"
      ],
      "execution_count": null,
      "outputs": []
    },
    {
      "cell_type": "code",
      "metadata": {
        "colab": {
          "base_uri": "https://localhost:8080/",
          "height": 241
        },
        "id": "XlZpZXUOVlV1",
        "outputId": "bed8c0fb-03a9-4892-9eb3-7e2d7dfc1452"
      },
      "source": [
        "df.head()\n"
      ],
      "execution_count": null,
      "outputs": [
        {
          "output_type": "execute_result",
          "data": {
            "text/html": [
              "<div>\n",
              "<style scoped>\n",
              "    .dataframe tbody tr th:only-of-type {\n",
              "        vertical-align: middle;\n",
              "    }\n",
              "\n",
              "    .dataframe tbody tr th {\n",
              "        vertical-align: top;\n",
              "    }\n",
              "\n",
              "    .dataframe thead th {\n",
              "        text-align: right;\n",
              "    }\n",
              "</style>\n",
              "<table border=\"1\" class=\"dataframe\">\n",
              "  <thead>\n",
              "    <tr style=\"text-align: right;\">\n",
              "      <th></th>\n",
              "      <th>duration</th>\n",
              "      <th>protocol_type</th>\n",
              "      <th>service</th>\n",
              "      <th>flag</th>\n",
              "      <th>src_bytes</th>\n",
              "      <th>dst_bytes</th>\n",
              "      <th>land</th>\n",
              "      <th>wrong_fragment</th>\n",
              "      <th>urgent</th>\n",
              "      <th>hot</th>\n",
              "      <th>num_failed_logins</th>\n",
              "      <th>logged_in</th>\n",
              "      <th>num_compromised</th>\n",
              "      <th>root_shell</th>\n",
              "      <th>su_attempted</th>\n",
              "      <th>num_file_creations</th>\n",
              "      <th>num_shells</th>\n",
              "      <th>num_access_files</th>\n",
              "      <th>is_guest_login</th>\n",
              "      <th>count</th>\n",
              "      <th>srv_count</th>\n",
              "      <th>serror_rate</th>\n",
              "      <th>rerror_rate</th>\n",
              "      <th>same_srv_rate</th>\n",
              "      <th>diff_srv_rate</th>\n",
              "      <th>srv_diff_host_rate</th>\n",
              "      <th>dst_host_count</th>\n",
              "      <th>dst_host_srv_count</th>\n",
              "      <th>dst_host_diff_srv_rate</th>\n",
              "      <th>dst_host_same_src_port_rate</th>\n",
              "      <th>dst_host_srv_diff_host_rate</th>\n",
              "      <th>target</th>\n",
              "      <th>Attack Type</th>\n",
              "    </tr>\n",
              "  </thead>\n",
              "  <tbody>\n",
              "    <tr>\n",
              "      <th>0</th>\n",
              "      <td>0</td>\n",
              "      <td>1</td>\n",
              "      <td>http</td>\n",
              "      <td>0</td>\n",
              "      <td>215</td>\n",
              "      <td>45076</td>\n",
              "      <td>0</td>\n",
              "      <td>0</td>\n",
              "      <td>0</td>\n",
              "      <td>0</td>\n",
              "      <td>0</td>\n",
              "      <td>1</td>\n",
              "      <td>0</td>\n",
              "      <td>0</td>\n",
              "      <td>0</td>\n",
              "      <td>0</td>\n",
              "      <td>0</td>\n",
              "      <td>0</td>\n",
              "      <td>0</td>\n",
              "      <td>1</td>\n",
              "      <td>1</td>\n",
              "      <td>0.0</td>\n",
              "      <td>0.0</td>\n",
              "      <td>1.0</td>\n",
              "      <td>0.0</td>\n",
              "      <td>0.0</td>\n",
              "      <td>0</td>\n",
              "      <td>0</td>\n",
              "      <td>0.0</td>\n",
              "      <td>0.00</td>\n",
              "      <td>0.0</td>\n",
              "      <td>normal.</td>\n",
              "      <td>normal</td>\n",
              "    </tr>\n",
              "    <tr>\n",
              "      <th>1</th>\n",
              "      <td>0</td>\n",
              "      <td>1</td>\n",
              "      <td>http</td>\n",
              "      <td>0</td>\n",
              "      <td>162</td>\n",
              "      <td>4528</td>\n",
              "      <td>0</td>\n",
              "      <td>0</td>\n",
              "      <td>0</td>\n",
              "      <td>0</td>\n",
              "      <td>0</td>\n",
              "      <td>1</td>\n",
              "      <td>0</td>\n",
              "      <td>0</td>\n",
              "      <td>0</td>\n",
              "      <td>0</td>\n",
              "      <td>0</td>\n",
              "      <td>0</td>\n",
              "      <td>0</td>\n",
              "      <td>2</td>\n",
              "      <td>2</td>\n",
              "      <td>0.0</td>\n",
              "      <td>0.0</td>\n",
              "      <td>1.0</td>\n",
              "      <td>0.0</td>\n",
              "      <td>0.0</td>\n",
              "      <td>1</td>\n",
              "      <td>1</td>\n",
              "      <td>0.0</td>\n",
              "      <td>1.00</td>\n",
              "      <td>0.0</td>\n",
              "      <td>normal.</td>\n",
              "      <td>normal</td>\n",
              "    </tr>\n",
              "    <tr>\n",
              "      <th>2</th>\n",
              "      <td>0</td>\n",
              "      <td>1</td>\n",
              "      <td>http</td>\n",
              "      <td>0</td>\n",
              "      <td>236</td>\n",
              "      <td>1228</td>\n",
              "      <td>0</td>\n",
              "      <td>0</td>\n",
              "      <td>0</td>\n",
              "      <td>0</td>\n",
              "      <td>0</td>\n",
              "      <td>1</td>\n",
              "      <td>0</td>\n",
              "      <td>0</td>\n",
              "      <td>0</td>\n",
              "      <td>0</td>\n",
              "      <td>0</td>\n",
              "      <td>0</td>\n",
              "      <td>0</td>\n",
              "      <td>1</td>\n",
              "      <td>1</td>\n",
              "      <td>0.0</td>\n",
              "      <td>0.0</td>\n",
              "      <td>1.0</td>\n",
              "      <td>0.0</td>\n",
              "      <td>0.0</td>\n",
              "      <td>2</td>\n",
              "      <td>2</td>\n",
              "      <td>0.0</td>\n",
              "      <td>0.50</td>\n",
              "      <td>0.0</td>\n",
              "      <td>normal.</td>\n",
              "      <td>normal</td>\n",
              "    </tr>\n",
              "    <tr>\n",
              "      <th>3</th>\n",
              "      <td>0</td>\n",
              "      <td>1</td>\n",
              "      <td>http</td>\n",
              "      <td>0</td>\n",
              "      <td>233</td>\n",
              "      <td>2032</td>\n",
              "      <td>0</td>\n",
              "      <td>0</td>\n",
              "      <td>0</td>\n",
              "      <td>0</td>\n",
              "      <td>0</td>\n",
              "      <td>1</td>\n",
              "      <td>0</td>\n",
              "      <td>0</td>\n",
              "      <td>0</td>\n",
              "      <td>0</td>\n",
              "      <td>0</td>\n",
              "      <td>0</td>\n",
              "      <td>0</td>\n",
              "      <td>2</td>\n",
              "      <td>2</td>\n",
              "      <td>0.0</td>\n",
              "      <td>0.0</td>\n",
              "      <td>1.0</td>\n",
              "      <td>0.0</td>\n",
              "      <td>0.0</td>\n",
              "      <td>3</td>\n",
              "      <td>3</td>\n",
              "      <td>0.0</td>\n",
              "      <td>0.33</td>\n",
              "      <td>0.0</td>\n",
              "      <td>normal.</td>\n",
              "      <td>normal</td>\n",
              "    </tr>\n",
              "    <tr>\n",
              "      <th>4</th>\n",
              "      <td>0</td>\n",
              "      <td>1</td>\n",
              "      <td>http</td>\n",
              "      <td>0</td>\n",
              "      <td>239</td>\n",
              "      <td>486</td>\n",
              "      <td>0</td>\n",
              "      <td>0</td>\n",
              "      <td>0</td>\n",
              "      <td>0</td>\n",
              "      <td>0</td>\n",
              "      <td>1</td>\n",
              "      <td>0</td>\n",
              "      <td>0</td>\n",
              "      <td>0</td>\n",
              "      <td>0</td>\n",
              "      <td>0</td>\n",
              "      <td>0</td>\n",
              "      <td>0</td>\n",
              "      <td>3</td>\n",
              "      <td>3</td>\n",
              "      <td>0.0</td>\n",
              "      <td>0.0</td>\n",
              "      <td>1.0</td>\n",
              "      <td>0.0</td>\n",
              "      <td>0.0</td>\n",
              "      <td>4</td>\n",
              "      <td>4</td>\n",
              "      <td>0.0</td>\n",
              "      <td>0.25</td>\n",
              "      <td>0.0</td>\n",
              "      <td>normal.</td>\n",
              "      <td>normal</td>\n",
              "    </tr>\n",
              "  </tbody>\n",
              "</table>\n",
              "</div>"
            ],
            "text/plain": [
              "   duration  protocol_type  ...   target  Attack Type\n",
              "0         0              1  ...  normal.       normal\n",
              "1         0              1  ...  normal.       normal\n",
              "2         0              1  ...  normal.       normal\n",
              "3         0              1  ...  normal.       normal\n",
              "4         0              1  ...  normal.       normal\n",
              "\n",
              "[5 rows x 33 columns]"
            ]
          },
          "metadata": {
            "tags": []
          },
          "execution_count": 42
        }
      ]
    },
    {
      "cell_type": "code",
      "metadata": {
        "id": "WcCG2vRrG2iW"
      },
      "source": [
        "df.drop('service',axis = 1,inplace= True)\n"
      ],
      "execution_count": null,
      "outputs": []
    },
    {
      "cell_type": "code",
      "metadata": {
        "colab": {
          "base_uri": "https://localhost:8080/"
        },
        "id": "QXYJQ0CgG33u",
        "outputId": "55d370ec-f4ab-4319-9121-ce7bcf697616"
      },
      "source": [
        "df.shape"
      ],
      "execution_count": null,
      "outputs": [
        {
          "output_type": "execute_result",
          "data": {
            "text/plain": [
              "(21664, 7)"
            ]
          },
          "metadata": {
            "tags": []
          },
          "execution_count": 18
        }
      ]
    },
    {
      "cell_type": "code",
      "metadata": {
        "id": "WFDIySZgIX26"
      },
      "source": [
        "\n",
        "x = []"
      ],
      "execution_count": null,
      "outputs": []
    },
    {
      "cell_type": "code",
      "metadata": {
        "id": "EuQf0ubsVyXo"
      },
      "source": [
        "from sklearn.model_selection import train_test_split\n",
        "from sklearn.preprocessing import MinMaxScaler\n",
        "from sklearn import metrics\n"
      ],
      "execution_count": null,
      "outputs": []
    },
    {
      "cell_type": "code",
      "metadata": {
        "colab": {
          "base_uri": "https://localhost:8080/"
        },
        "id": "KFHW1rHkV2UA",
        "outputId": "b1c3eb59-8c26-4b8a-b9e6-2aa652bd731a"
      },
      "source": [
        "\n",
        "print(df.shape)\n",
        "\n",
        "# Target variable and train set\n",
        "\n",
        "\n",
        "\n",
        "# Split test and train data \n",
        "X_train, X_test, y_train, y_test = train_test_split(df.drop(['Protocol'],axis=1), df['Protocol'], test_size=.50, random_state=42)\n",
        "print(X_train.shape, X_test.shape)\n",
        "print(y_train.shape, y_test.shape)\n",
        "y_test.head()"
      ],
      "execution_count": null,
      "outputs": [
        {
          "output_type": "stream",
          "text": [
            "(21664, 7)\n",
            "(10832, 6) (10832, 6)\n",
            "(10832,) (10832,)\n"
          ],
          "name": "stdout"
        },
        {
          "output_type": "execute_result",
          "data": {
            "text/plain": [
              "2595     SSDP\n",
              "20809     TCP\n",
              "13188     TCP\n",
              "7303     SSDP\n",
              "17026    SSDP\n",
              "Name: Protocol, dtype: object"
            ]
          },
          "metadata": {
            "tags": []
          },
          "execution_count": 50
        }
      ]
    },
    {
      "cell_type": "code",
      "metadata": {
        "id": "sh8zg_3gWEQL"
      },
      "source": [
        "# Gaussian Naive Bayes\n",
        "from sklearn.naive_bayes import GaussianNB\n",
        "\n",
        "from sklearn.metrics import accuracy_score\n"
      ],
      "execution_count": null,
      "outputs": []
    },
    {
      "cell_type": "code",
      "metadata": {
        "id": "T--81DvJWJM9"
      },
      "source": [
        "clfg = GaussianNB()\n"
      ],
      "execution_count": null,
      "outputs": []
    },
    {
      "cell_type": "code",
      "metadata": {
        "id": "xCYzb3CWWPic"
      },
      "source": [
        "start_time = time.time()\n",
        "clfg.fit(X_train, y_train.values.ravel())\n",
        "end_time = time.time()\n"
      ],
      "execution_count": null,
      "outputs": []
    },
    {
      "cell_type": "code",
      "metadata": {
        "colab": {
          "base_uri": "https://localhost:8080/"
        },
        "id": "-303FdCCX-kF",
        "outputId": "47cf4145-c6e5-45dc-9f9f-4af528cfeafa"
      },
      "source": [
        "print(\"Training time: \",end_time-start_time)\n"
      ],
      "execution_count": null,
      "outputs": [
        {
          "output_type": "stream",
          "text": [
            "Training time:  7.547584056854248\n"
          ],
          "name": "stdout"
        }
      ]
    },
    {
      "cell_type": "code",
      "metadata": {
        "id": "xTYk_kJwYEkx"
      },
      "source": [
        "start_time = time.time()\n",
        "y_test_pred = clfg.predict(X_train)\n",
        "end_time = time.time()\n"
      ],
      "execution_count": null,
      "outputs": []
    },
    {
      "cell_type": "code",
      "metadata": {
        "colab": {
          "base_uri": "https://localhost:8080/"
        },
        "id": "gut47Ee2YG-w",
        "outputId": "c77d50ff-25b8-4159-c693-407c4778f9fb"
      },
      "source": [
        "print(\"Testing time: \",end_time-start_time)\n"
      ],
      "execution_count": null,
      "outputs": [
        {
          "output_type": "stream",
          "text": [
            "Testing time:  4.664933204650879\n"
          ],
          "name": "stdout"
        }
      ]
    },
    {
      "cell_type": "code",
      "metadata": {
        "colab": {
          "base_uri": "https://localhost:8080/"
        },
        "id": "dYughf9YYIk7",
        "outputId": "a7014ab3-e6ae-49d6-98a1-19c9efbad2e5"
      },
      "source": [
        "print(\"Train score is:\", clfg.score(X_train, y_train))\n",
        "print(\"Test score is:\",clfg.score(X_test,y_test))\n"
      ],
      "execution_count": null,
      "outputs": [
        {
          "output_type": "stream",
          "text": [
            "Train score is: 0.9271786146520298\n",
            "Test score is: 0.9268665367962422\n"
          ],
          "name": "stdout"
        }
      ]
    },
    {
      "cell_type": "code",
      "metadata": {
        "id": "4ZrRT8f5YNJh"
      },
      "source": [
        "#Decision Tree \n",
        "from sklearn.tree import DecisionTreeClassifier\n"
      ],
      "execution_count": null,
      "outputs": []
    },
    {
      "cell_type": "code",
      "metadata": {
        "id": "7oA9Knq0YQ17"
      },
      "source": [
        "clfd = DecisionTreeClassifier(criterion=\"entropy\", max_depth = 4)\n"
      ],
      "execution_count": null,
      "outputs": []
    },
    {
      "cell_type": "code",
      "metadata": {
        "id": "YrP14znlYUmN"
      },
      "source": [
        "start_time = time.time()\n",
        "clfd.fit(X_train, y_train.values.ravel())\n",
        "end_time = time.time()\n"
      ],
      "execution_count": null,
      "outputs": []
    },
    {
      "cell_type": "code",
      "metadata": {
        "colab": {
          "base_uri": "https://localhost:8080/"
        },
        "id": "XROrzmuAYZH6",
        "outputId": "2a4c0efe-248c-4db0-f4b7-809f2af93549"
      },
      "source": [
        "print(\"Training time: \",end_time-start_time)\n"
      ],
      "execution_count": null,
      "outputs": [
        {
          "output_type": "stream",
          "text": [
            "Training time:  21.460975885391235\n"
          ],
          "name": "stdout"
        }
      ]
    },
    {
      "cell_type": "code",
      "metadata": {
        "id": "lClzgcjjYb7x"
      },
      "source": [
        "start_time = time.time()\n",
        "y_test_pred = clfd.predict(X_train)\n",
        "end_time = time.time()\n"
      ],
      "execution_count": null,
      "outputs": []
    },
    {
      "cell_type": "code",
      "metadata": {
        "colab": {
          "base_uri": "https://localhost:8080/"
        },
        "id": "qXcJ9fLJYe3h",
        "outputId": "9ba73865-9726-405e-d7dd-5ef0720764d8"
      },
      "source": [
        "print(\"Testing time: \",end_time-start_time)\n"
      ],
      "execution_count": null,
      "outputs": [
        {
          "output_type": "stream",
          "text": [
            "Testing time:  0.45993971824645996\n"
          ],
          "name": "stdout"
        }
      ]
    },
    {
      "cell_type": "code",
      "metadata": {
        "colab": {
          "base_uri": "https://localhost:8080/"
        },
        "id": "EB2KwbJ6Yhdl",
        "outputId": "aafeb555-a78b-47b0-dea6-e7dd1bcbe17e"
      },
      "source": [
        "print(\"Train score is:\", clfd.score(X_train, y_train))\n",
        "print(\"Test score is:\",clfd.score(X_test,y_test))\n"
      ],
      "execution_count": null,
      "outputs": [
        {
          "output_type": "stream",
          "text": [
            "Train score is: 0.996125167126353\n",
            "Test score is: 0.9961453352741724\n"
          ],
          "name": "stdout"
        }
      ]
    },
    {
      "cell_type": "code",
      "metadata": {
        "id": "4tT29EAvYklc"
      },
      "source": [
        "from sklearn.ensemble import RandomForestClassifier\n"
      ],
      "execution_count": null,
      "outputs": []
    },
    {
      "cell_type": "code",
      "metadata": {
        "colab": {
          "base_uri": "https://localhost:8080/"
        },
        "id": "nz5C_LXHYxDg",
        "outputId": "953ff1d4-7bac-410b-fb3c-47f5df8fb22a"
      },
      "source": [
        "clfr = RandomForestClassifier(n_estimators=30)\n",
        "start_time = time.time()\n",
        "clfr.fit(X_train, y_train.values.ravel())\n",
        "end_time = time.time()\n",
        "print(\"Training time: \",end_time-start_time)\n"
      ],
      "execution_count": null,
      "outputs": [
        {
          "output_type": "stream",
          "text": [
            "Training time:  205.34279036521912\n"
          ],
          "name": "stdout"
        }
      ]
    },
    {
      "cell_type": "code",
      "metadata": {
        "colab": {
          "base_uri": "https://localhost:8080/"
        },
        "id": "GBmSfsnsY4WF",
        "outputId": "949f3230-c8e6-4f7c-e42e-80400e09e18d"
      },
      "source": [
        "start_time = time.time()\n",
        "y_test_pred = clfd.predict(X_train)\n",
        "end_time = time.time()\n",
        "\n",
        "print(\"Testing time: \",end_time-start_time)\n"
      ],
      "execution_count": null,
      "outputs": [
        {
          "output_type": "stream",
          "text": [
            "Testing time:  0.46789979934692383\n"
          ],
          "name": "stdout"
        }
      ]
    },
    {
      "cell_type": "code",
      "metadata": {
        "colab": {
          "base_uri": "https://localhost:8080/"
        },
        "id": "6eAi8XfiY-mv",
        "outputId": "11f17284-4f02-4a4c-dd91-e666046cf716"
      },
      "source": [
        "print(\"Train score is:\", clfr.score(X_train, y_train))\n",
        "print(\"Test score is:\",clfr.score(X_test,y_test))\n"
      ],
      "execution_count": null,
      "outputs": [
        {
          "output_type": "stream",
          "text": [
            "Train score is: 0.9999594752872379\n",
            "Test score is: 0.9998589530480679\n"
          ],
          "name": "stdout"
        }
      ]
    },
    {
      "cell_type": "code",
      "metadata": {
        "id": "Cm8v0yd8ZCee"
      },
      "source": [
        "from sklearn.svm import SVC\n"
      ],
      "execution_count": null,
      "outputs": []
    },
    {
      "cell_type": "code",
      "metadata": {
        "colab": {
          "background_save": true
        },
        "id": "YBa9k9wZZFzU",
        "outputId": "cbece822-7ac8-4fcd-d184-42d71422a69b"
      },
      "source": [
        "clfs = SVC(gamma = 'scale')\n",
        "\n",
        "start_time = time.time()\n",
        "clfs.fit(X_train, y_train.values.ravel())\n",
        "end_time = time.time()\n",
        "\n",
        "print(\"Training time: \",end_time-start_time)\n"
      ],
      "execution_count": null,
      "outputs": [
        {
          "output_type": "error",
          "ename": "KeyboardInterrupt",
          "evalue": "ignored",
          "traceback": [
            "\u001b[0;31m---------------------------------------------------------------------------\u001b[0m",
            "\u001b[0;31mKeyboardInterrupt\u001b[0m                         Traceback (most recent call last)",
            "\u001b[0;32m<ipython-input-67-bdd388ff9914>\u001b[0m in \u001b[0;36m<module>\u001b[0;34m()\u001b[0m\n\u001b[1;32m      2\u001b[0m \u001b[0;34m\u001b[0m\u001b[0m\n\u001b[1;32m      3\u001b[0m \u001b[0mstart_time\u001b[0m \u001b[0;34m=\u001b[0m \u001b[0mtime\u001b[0m\u001b[0;34m.\u001b[0m\u001b[0mtime\u001b[0m\u001b[0;34m(\u001b[0m\u001b[0;34m)\u001b[0m\u001b[0;34m\u001b[0m\u001b[0;34m\u001b[0m\u001b[0m\n\u001b[0;32m----> 4\u001b[0;31m \u001b[0mclfs\u001b[0m\u001b[0;34m.\u001b[0m\u001b[0mfit\u001b[0m\u001b[0;34m(\u001b[0m\u001b[0mX_train\u001b[0m\u001b[0;34m,\u001b[0m \u001b[0my_train\u001b[0m\u001b[0;34m.\u001b[0m\u001b[0mvalues\u001b[0m\u001b[0;34m.\u001b[0m\u001b[0mravel\u001b[0m\u001b[0;34m(\u001b[0m\u001b[0;34m)\u001b[0m\u001b[0;34m)\u001b[0m\u001b[0;34m\u001b[0m\u001b[0;34m\u001b[0m\u001b[0m\n\u001b[0m\u001b[1;32m      5\u001b[0m \u001b[0mend_time\u001b[0m \u001b[0;34m=\u001b[0m \u001b[0mtime\u001b[0m\u001b[0;34m.\u001b[0m\u001b[0mtime\u001b[0m\u001b[0;34m(\u001b[0m\u001b[0;34m)\u001b[0m\u001b[0;34m\u001b[0m\u001b[0;34m\u001b[0m\u001b[0m\n\u001b[1;32m      6\u001b[0m \u001b[0;34m\u001b[0m\u001b[0m\n",
            "\u001b[0;32m/usr/local/lib/python3.6/dist-packages/sklearn/svm/_base.py\u001b[0m in \u001b[0;36mfit\u001b[0;34m(self, X, y, sample_weight)\u001b[0m\n\u001b[1;32m    197\u001b[0m \u001b[0;34m\u001b[0m\u001b[0m\n\u001b[1;32m    198\u001b[0m         \u001b[0mseed\u001b[0m \u001b[0;34m=\u001b[0m \u001b[0mrnd\u001b[0m\u001b[0;34m.\u001b[0m\u001b[0mrandint\u001b[0m\u001b[0;34m(\u001b[0m\u001b[0mnp\u001b[0m\u001b[0;34m.\u001b[0m\u001b[0miinfo\u001b[0m\u001b[0;34m(\u001b[0m\u001b[0;34m'i'\u001b[0m\u001b[0;34m)\u001b[0m\u001b[0;34m.\u001b[0m\u001b[0mmax\u001b[0m\u001b[0;34m)\u001b[0m\u001b[0;34m\u001b[0m\u001b[0;34m\u001b[0m\u001b[0m\n\u001b[0;32m--> 199\u001b[0;31m         \u001b[0mfit\u001b[0m\u001b[0;34m(\u001b[0m\u001b[0mX\u001b[0m\u001b[0;34m,\u001b[0m \u001b[0my\u001b[0m\u001b[0;34m,\u001b[0m \u001b[0msample_weight\u001b[0m\u001b[0;34m,\u001b[0m \u001b[0msolver_type\u001b[0m\u001b[0;34m,\u001b[0m \u001b[0mkernel\u001b[0m\u001b[0;34m,\u001b[0m \u001b[0mrandom_seed\u001b[0m\u001b[0;34m=\u001b[0m\u001b[0mseed\u001b[0m\u001b[0;34m)\u001b[0m\u001b[0;34m\u001b[0m\u001b[0;34m\u001b[0m\u001b[0m\n\u001b[0m\u001b[1;32m    200\u001b[0m         \u001b[0;31m# see comment on the other call to np.iinfo in this file\u001b[0m\u001b[0;34m\u001b[0m\u001b[0;34m\u001b[0m\u001b[0;34m\u001b[0m\u001b[0m\n\u001b[1;32m    201\u001b[0m \u001b[0;34m\u001b[0m\u001b[0m\n",
            "\u001b[0;32m/usr/local/lib/python3.6/dist-packages/sklearn/svm/_base.py\u001b[0m in \u001b[0;36m_dense_fit\u001b[0;34m(self, X, y, sample_weight, solver_type, kernel, random_seed)\u001b[0m\n\u001b[1;32m    256\u001b[0m                 \u001b[0mcache_size\u001b[0m\u001b[0;34m=\u001b[0m\u001b[0mself\u001b[0m\u001b[0;34m.\u001b[0m\u001b[0mcache_size\u001b[0m\u001b[0;34m,\u001b[0m \u001b[0mcoef0\u001b[0m\u001b[0;34m=\u001b[0m\u001b[0mself\u001b[0m\u001b[0;34m.\u001b[0m\u001b[0mcoef0\u001b[0m\u001b[0;34m,\u001b[0m\u001b[0;34m\u001b[0m\u001b[0;34m\u001b[0m\u001b[0m\n\u001b[1;32m    257\u001b[0m                 \u001b[0mgamma\u001b[0m\u001b[0;34m=\u001b[0m\u001b[0mself\u001b[0m\u001b[0;34m.\u001b[0m\u001b[0m_gamma\u001b[0m\u001b[0;34m,\u001b[0m \u001b[0mepsilon\u001b[0m\u001b[0;34m=\u001b[0m\u001b[0mself\u001b[0m\u001b[0;34m.\u001b[0m\u001b[0mepsilon\u001b[0m\u001b[0;34m,\u001b[0m\u001b[0;34m\u001b[0m\u001b[0;34m\u001b[0m\u001b[0m\n\u001b[0;32m--> 258\u001b[0;31m                 max_iter=self.max_iter, random_seed=random_seed)\n\u001b[0m\u001b[1;32m    259\u001b[0m \u001b[0;34m\u001b[0m\u001b[0m\n\u001b[1;32m    260\u001b[0m         \u001b[0mself\u001b[0m\u001b[0;34m.\u001b[0m\u001b[0m_warn_from_fit_status\u001b[0m\u001b[0;34m(\u001b[0m\u001b[0;34m)\u001b[0m\u001b[0;34m\u001b[0m\u001b[0;34m\u001b[0m\u001b[0m\n",
            "\u001b[0;31mKeyboardInterrupt\u001b[0m: "
          ]
        }
      ]
    },
    {
      "cell_type": "code",
      "metadata": {
        "id": "7NT88KlfZSgZ"
      },
      "source": [
        "start_time = time.time()\n",
        "y_test_pred = clfs.predict(X_train)\n",
        "end_time = time.time()\n",
        "\n",
        "print(\"Testing time: \",end_time-start_time)\n"
      ],
      "execution_count": null,
      "outputs": []
    },
    {
      "cell_type": "code",
      "metadata": {
        "id": "m4YcHLVpZXWV"
      },
      "source": [
        "print(\"Train score is:\", clfs.score(X_train, y_train))\n",
        "print(\"Test score is:\",clfs.score(X_test,y_test))"
      ],
      "execution_count": null,
      "outputs": []
    },
    {
      "cell_type": "code",
      "metadata": {
        "id": "xEpLYjFJZalo"
      },
      "source": [
        "names = ['NB','DT','RF','SVM']\n",
        "values = [92.712,99.613,99.997,99.875]\n",
        "f = plt.figure(figsize=(15,3),num=10)\n",
        "plt.subplot(131)\n",
        "plt.bar(names,values)\n"
      ],
      "execution_count": null,
      "outputs": []
    },
    {
      "cell_type": "code",
      "metadata": {
        "id": "8sXeWStDZ9iB"
      },
      "source": [
        "names = ['NB','DT','RF','SVM']\n",
        "values = [92.686,99.614,99.986,99.879]\n",
        "f = plt.figure(figsize=(15,3),num=10)\n",
        "plt.subplot(131)\n",
        "plt.bar(names,values)\n"
      ],
      "execution_count": null,
      "outputs": []
    },
    {
      "cell_type": "code",
      "metadata": {
        "id": "u4MiboB3aYKH"
      },
      "source": [
        "names = ['NB','DT','RF','SVM']\n",
        "values = [7.547,24.461,205.342,216.53651]\n",
        "f = plt.figure(figsize=(15,3),num=10)\n",
        "plt.subplot(131)\n",
        "plt.bar(names,values)\n"
      ],
      "execution_count": null,
      "outputs": []
    },
    {
      "cell_type": "code",
      "metadata": {
        "id": "dhlLmu35afZp"
      },
      "source": [
        "names = ['NB','DT','RF','SVM']\n",
        "values = [4.664,0.460,0.468,131.44433]\n",
        "f = plt.figure(figsize=(15,3),num=10)\n",
        "plt.subplot(131)\n",
        "plt.bar(names,values)\n"
      ],
      "execution_count": null,
      "outputs": []
    },
    {
      "cell_type": "code",
      "metadata": {
        "colab": {
          "base_uri": "https://localhost:8080/"
        },
        "id": "21mGts1ejFPd",
        "outputId": "ef98cc6f-7737-492a-b8c0-f16b80c1cfda"
      },
      "source": [
        "!pip install kitsune\n",
        "!pip install radiomics\n",
        "!pip install scapy"
      ],
      "execution_count": null,
      "outputs": [
        {
          "output_type": "stream",
          "text": [
            "Collecting kitsune\n",
            "\u001b[?25l  Downloading https://files.pythonhosted.org/packages/aa/3e/adf17a05b427b44a74d45fb48389209751d59219ed24929f7a6b0a3ada0b/kitsune-1.3.1-py2.py3-none-any.whl (3.0MB)\n",
            "\u001b[K     |████████████████████████████████| 3.0MB 7.4MB/s \n",
            "\u001b[?25hCollecting biopython>=1.68\n",
            "\u001b[?25l  Downloading https://files.pythonhosted.org/packages/3a/cd/0098eaff841850c01da928c7f509b72fd3e1f51d77b772e24de9e2312471/biopython-1.78-cp37-cp37m-manylinux1_x86_64.whl (2.3MB)\n",
            "\u001b[K     |████████████████████████████████| 2.3MB 44.9MB/s \n",
            "\u001b[?25hRequirement already satisfied: scipy>=0.18.1 in /usr/local/lib/python3.7/dist-packages (from kitsune) (1.4.1)\n",
            "Requirement already satisfied: tqdm>=4.32 in /usr/local/lib/python3.7/dist-packages (from kitsune) (4.41.1)\n",
            "Requirement already satisfied: numpy>=1.1.0 in /usr/local/lib/python3.7/dist-packages (from kitsune) (1.19.5)\n",
            "Installing collected packages: biopython, kitsune\n",
            "Successfully installed biopython-1.78 kitsune-1.3.1\n",
            "Collecting radiomics\n",
            "  Downloading https://files.pythonhosted.org/packages/2a/cf/50e7e691689e944a8f5084f0b9aded4e5ad3fa59a0cc8e293dc04f290288/radiomics-0.1.tar.gz\n",
            "Requirement already satisfied: numpy in /usr/local/lib/python3.7/dist-packages (from radiomics) (1.19.5)\n",
            "Requirement already satisfied: scipy in /usr/local/lib/python3.7/dist-packages (from radiomics) (1.4.1)\n",
            "Requirement already satisfied: scikit-image in /usr/local/lib/python3.7/dist-packages (from radiomics) (0.16.2)\n",
            "Requirement already satisfied: PyWavelets in /usr/local/lib/python3.7/dist-packages (from radiomics) (1.1.1)\n",
            "Requirement already satisfied: imageio>=2.3.0 in /usr/local/lib/python3.7/dist-packages (from scikit-image->radiomics) (2.4.1)\n",
            "Requirement already satisfied: networkx>=2.0 in /usr/local/lib/python3.7/dist-packages (from scikit-image->radiomics) (2.5)\n",
            "Requirement already satisfied: pillow>=4.3.0 in /usr/local/lib/python3.7/dist-packages (from scikit-image->radiomics) (7.1.2)\n",
            "Requirement already satisfied: matplotlib!=3.0.0,>=2.0.0 in /usr/local/lib/python3.7/dist-packages (from scikit-image->radiomics) (3.2.2)\n",
            "Requirement already satisfied: decorator>=4.3.0 in /usr/local/lib/python3.7/dist-packages (from networkx>=2.0->scikit-image->radiomics) (4.4.2)\n",
            "Requirement already satisfied: python-dateutil>=2.1 in /usr/local/lib/python3.7/dist-packages (from matplotlib!=3.0.0,>=2.0.0->scikit-image->radiomics) (2.8.1)\n",
            "Requirement already satisfied: kiwisolver>=1.0.1 in /usr/local/lib/python3.7/dist-packages (from matplotlib!=3.0.0,>=2.0.0->scikit-image->radiomics) (1.3.1)\n",
            "Requirement already satisfied: cycler>=0.10 in /usr/local/lib/python3.7/dist-packages (from matplotlib!=3.0.0,>=2.0.0->scikit-image->radiomics) (0.10.0)\n",
            "Requirement already satisfied: pyparsing!=2.0.4,!=2.1.2,!=2.1.6,>=2.0.1 in /usr/local/lib/python3.7/dist-packages (from matplotlib!=3.0.0,>=2.0.0->scikit-image->radiomics) (2.4.7)\n",
            "Requirement already satisfied: six>=1.5 in /usr/local/lib/python3.7/dist-packages (from python-dateutil>=2.1->matplotlib!=3.0.0,>=2.0.0->scikit-image->radiomics) (1.15.0)\n",
            "Building wheels for collected packages: radiomics\n",
            "  Building wheel for radiomics (setup.py) ... \u001b[?25l\u001b[?25hdone\n",
            "  Created wheel for radiomics: filename=radiomics-0.1-cp37-none-any.whl size=6111 sha256=b3c9c065725444bc097338ae4baf2d76c73aba80bf0321468c8a70d67027ee67\n",
            "  Stored in directory: /root/.cache/pip/wheels/6b/6b/f2/4218f4350573db89c5c953b748a287b0c16ca4ec5a20a98f4a\n",
            "Successfully built radiomics\n",
            "Installing collected packages: radiomics\n",
            "Successfully installed radiomics-0.1\n",
            "Collecting scapy\n",
            "\u001b[?25l  Downloading https://files.pythonhosted.org/packages/c6/8f/438d4d0bab4c8e22906a7401dd082b4c0f914daf2bbdc7e7e8390d81a5c3/scapy-2.4.4.tar.gz (1.0MB)\n",
            "\u001b[K     |████████████████████████████████| 1.0MB 7.3MB/s \n",
            "\u001b[?25hBuilding wheels for collected packages: scapy\n",
            "  Building wheel for scapy (setup.py) ... \u001b[?25l\u001b[?25hdone\n",
            "  Created wheel for scapy: filename=scapy-2.4.4-py2.py3-none-any.whl size=1189182 sha256=cdc7bc73f4689b8ad137c2516c0a4ac333c235985c8fcfdede7488c25b989d72\n",
            "  Stored in directory: /root/.cache/pip/wheels/2c/e7/01/f097df99ac9cd0d4f744c255f918d471d7a4b0766bc84c38c3\n",
            "Successfully built scapy\n",
            "Installing collected packages: scapy\n",
            "Successfully installed scapy-2.4.4\n"
          ],
          "name": "stdout"
        }
      ]
    },
    {
      "cell_type": "code",
      "metadata": {
        "id": "27bVJHe7rn6a"
      },
      "source": [
        "import numpy as np\n",
        "## Prep AfterImage cython package\n",
        "import os\n",
        "import subprocess\n",
        "import pyximport\n",
        "pyximport.install()\n",
        "import AfterImage as af\n",
        "#import AfterImage_NDSS as af\n",
        "\n",
        "\n",
        "\n",
        "class netStat:\n",
        "    #Datastructure for efficent network stat queries\n",
        "    # HostLimit: no more that this many Host identifiers will be tracked\n",
        "    # HostSimplexLimit: no more that this many outgoing channels from each host will be tracked (purged periodically)\n",
        "    # Lambdas: a list of 'window sizes' (decay factors) to track for each stream. nan resolved to default [5,3,1,.1,.01]\n",
        "    def __init__(self, Lambdas = np.nan, HostLimit=255,HostSimplexLimit=1000):\n",
        "        #Lambdas\n",
        "        if np.isnan(Lambdas):\n",
        "            self.Lambdas = [5,3,1,.1,.01]\n",
        "        else:\n",
        "            self.Lambdas = Lambdas\n",
        "\n",
        "        #HT Limits\n",
        "        self.HostLimit = HostLimit\n",
        "        self.SessionLimit = HostSimplexLimit*self.HostLimit*self.HostLimit #*2 since each dual creates 2 entries in memory\n",
        "        self.MAC_HostLimit = self.HostLimit*10\n",
        "\n",
        "        #HTs\n",
        "        self.HT_jit = af.incStatDB(limit=self.HostLimit*self.HostLimit)#H-H Jitter Stats\n",
        "        self.HT_MI = af.incStatDB(limit=self.MAC_HostLimit)#MAC-IP relationships\n",
        "        self.HT_H = af.incStatDB(limit=self.HostLimit) #Source Host BW Stats\n",
        "        self.HT_Hp = af.incStatDB(limit=self.SessionLimit)#Source Host BW Stats\n",
        "\n",
        "\n",
        "    def findDirection(self,IPtype,srcIP,dstIP,eth_src,eth_dst): #cpp: this is all given to you in the direction string of the instance (NO NEED FOR THIS FUNCTION)\n",
        "        if IPtype==0: #is IPv4\n",
        "            lstP = srcIP.rfind('.')\n",
        "            src_subnet = srcIP[0:lstP:]\n",
        "            lstP = dstIP.rfind('.')\n",
        "            dst_subnet = dstIP[0:lstP:]\n",
        "        elif IPtype==1: #is IPv6\n",
        "            src_subnet = srcIP[0:round(len(srcIP)/2):]\n",
        "            dst_subnet = dstIP[0:round(len(dstIP)/2):]\n",
        "        else: #no Network layer, use MACs\n",
        "            src_subnet = eth_src\n",
        "            dst_subnet = eth_dst\n",
        "\n",
        "        return src_subnet, dst_subnet\n",
        "\n",
        "    def updateGetStats(self, IPtype, srcMAC,dstMAC, srcIP, srcProtocol, dstIP, dstProtocol, datagramSize, timestamp):\n",
        "        # Host BW: Stats on the srcIP's general Sender Statistics\n",
        "        # Hstat = np.zeros((3*len(self.Lambdas,)))\n",
        "        # for i in range(len(self.Lambdas)):\n",
        "        #     Hstat[(i*3):((i+1)*3)] = self.HT_H.update_get_1D_Stats(srcIP, timestamp, datagramSize, self.Lambdas[i])\n",
        "\n",
        "        #MAC.IP: Stats on src MAC-IP relationships\n",
        "        MIstat =  np.zeros((3*len(self.Lambdas,)))\n",
        "        for i in range(len(self.Lambdas)):\n",
        "            MIstat[(i*3):((i+1)*3)] = self.HT_MI.update_get_1D_Stats(srcMAC+srcIP, timestamp, datagramSize, self.Lambdas[i])\n",
        "\n",
        "        # Host-Host BW: Stats on the dual traffic behavior between srcIP and dstIP\n",
        "        HHstat =  np.zeros((7*len(self.Lambdas,)))\n",
        "        for i in range(len(self.Lambdas)):\n",
        "            HHstat[(i*7):((i+1)*7)] = self.HT_H.update_get_1D2D_Stats(srcIP, dstIP,timestamp,datagramSize,self.Lambdas[i])\n",
        "\n",
        "        # Host-Host Jitter:\n",
        "        HHstat_jit =  np.zeros((3*len(self.Lambdas,)))\n",
        "        for i in range(len(self.Lambdas)):\n",
        "            HHstat_jit[(i*3):((i+1)*3)] = self.HT_jit.update_get_1D_Stats(srcIP+dstIP, timestamp, 0, self.Lambdas[i],isTypeDiff=True)\n",
        "\n",
        "        # Host-Host BW: Stats on the dual traffic behavior between srcIP and dstIP\n",
        "        HpHpstat =  np.zeros((7*len(self.Lambdas,)))\n",
        "        if srcProtocol == 'arp':\n",
        "            for i in range(len(self.Lambdas)):\n",
        "                HpHpstat[(i*7):((i+1)*7)] = self.HT_Hp.update_get_1D2D_Stats(srcMAC, dstMAC, timestamp, datagramSize, self.Lambdas[i])\n",
        "        else:  # some other protocol (e.g. TCP/UDP)\n",
        "            for i in range(len(self.Lambdas)):\n",
        "                HpHpstat[(i*7):((i+1)*7)] = self.HT_Hp.update_get_1D2D_Stats(srcIP + srcProtocol, dstIP + dstProtocol, timestamp, datagramSize, self.Lambdas[i])\n",
        "\n",
        "        return np.concatenate((MIstat, HHstat, HHstat_jit, HpHpstat))  # concatenation of stats into one stat vector\n",
        "\n",
        "    def getNetStatHeaders(self):\n",
        "        MIstat_headers = []\n",
        "        Hstat_headers = []\n",
        "        HHstat_headers = []\n",
        "        HHjitstat_headers = []\n",
        "        HpHpstat_headers = []\n",
        "\n",
        "        for i in range(len(self.Lambdas)):\n",
        "            MIstat_headers += [\"MI_dir_\"+h for h in self.HT_MI.getHeaders_1D(Lambda=self.Lambdas[i],ID=None)]\n",
        "            HHstat_headers += [\"HH_\"+h for h in self.HT_H.getHeaders_1D2D(Lambda=self.Lambdas[i],IDs=None,ver=2)]\n",
        "            HHjitstat_headers += [\"HH_jit_\"+h for h in self.HT_jit.getHeaders_1D(Lambda=self.Lambdas[i],ID=None)]\n",
        "            HpHpstat_headers += [\"HpHp_\" + h for h in self.HT_Hp.getHeaders_1D2D(Lambda=self.Lambdas[i], IDs=None, ver=2)]\n",
        "        return MIstat_headers + Hstat_headers + HHstat_headers + HHjitstat_headers + HpHpstat_headers"
      ],
      "execution_count": null,
      "outputs": []
    },
    {
      "cell_type": "code",
      "metadata": {
        "colab": {
          "base_uri": "https://localhost:8080/"
        },
        "id": "nFOpwE3Zqpwi",
        "outputId": "5af6f441-fbd1-4f2c-a846-b46dd1f0dd69"
      },
      "source": [
        "import os\n",
        "import subprocess\n",
        "\n",
        "use_extrapolation=False #experimental correlation code\n",
        "if use_extrapolation:\n",
        "    print(\"Importing AfterImage Cython Library\")\n",
        "    if not os.path.isfile(\"AfterImage.c\"): #has not yet been compiled, so try to do so...\n",
        "        cmd = \"python setup.py build_ext --inplace\"\n",
        "        subprocess.call(cmd,shell=True)\n",
        "#Import dependencies\n",
        "\n",
        "import csv\n",
        "import numpy as np\n",
        "print(\"Importing Scapy Library\")\n",
        "from scapy.all import *\n",
        "import os.path\n",
        "import platform\n",
        "import subprocess\n",
        "\n",
        "\n",
        "#Extracts Kitsune features from given pcap file one packet at a time using \"get_next_vector()\"\n",
        "# If wireshark is installed (tshark) it is used to parse (it's faster), otherwise, scapy is used (much slower).\n",
        "# If wireshark is used then a tsv file (parsed version of the pcap) will be made -which you can use as your input next time\n",
        "class FE:\n",
        "    def __init__(self,file_path,limit=np.inf):\n",
        "        self.path = file_path\n",
        "        self.limit = limit\n",
        "        self.parse_type = None #unknown\n",
        "        self.curPacketIndx = 0\n",
        "        self.tsvin = None #used for parsing TSV file\n",
        "        self.scapyin = None #used for parsing pcap with scapy\n",
        "\n",
        "        ### Prep pcap ##\n",
        "        self.__prep__()\n",
        "\n",
        "        ### Prep Feature extractor (AfterImage) ###\n",
        "        maxHost = 100000000000\n",
        "        maxSess = 100000000000\n",
        "        self.nstat = netStat(np.nan, maxHost, maxSess)\n",
        "\n",
        "    def _get_tshark_path(self):\n",
        "        if platform.system() == 'Windows':\n",
        "            return 'C:\\Program Files\\Wireshark\\\\tshark.exe'\n",
        "        else:\n",
        "            system_path = os.environ['PATH']\n",
        "            for path in system_path.split(os.pathsep):\n",
        "                filename = os.path.join(path, 'tshark')\n",
        "                if os.path.isfile(filename):\n",
        "                    return filename\n",
        "        return ''\n",
        "\n",
        "    def __prep__(self):\n",
        "        ### Find file: ###\n",
        "        if not os.path.isfile(self.path):  # file does not exist\n",
        "            print(\"File: \" + self.path + \" does not exist\")\n",
        "            raise Exception()\n",
        "\n",
        "        ### check file type ###\n",
        "        type = self.path.split('.')[-1]\n",
        "\n",
        "        self._tshark = self._get_tshark_path()\n",
        "        ##If file is TSV (pre-parsed by wireshark script)\n",
        "        if type == \"tsv\":\n",
        "            self.parse_type = \"tsv\"\n",
        "\n",
        "        ##If file is pcap\n",
        "        elif type == \"pcap\" or type == 'pcapng':\n",
        "            # Try parsing via tshark dll of wireshark (faster)\n",
        "            if os.path.isfile(self._tshark):\n",
        "                self.pcap2tsv_with_tshark()  # creates local tsv file\n",
        "                self.path += \".tsv\"\n",
        "                self.parse_type = \"tsv\"\n",
        "            else: # Otherwise, parse with scapy (slower)\n",
        "                print(\"tshark not found. Trying scapy...\")\n",
        "                self.parse_type = \"scapy\"\n",
        "        else:\n",
        "            print(\"File: \" + self.path + \" is not a tsv or pcap file\")\n",
        "            raise Exception()\n",
        "\n",
        "        ### open readers ##\n",
        "        if self.parse_type == \"tsv\":\n",
        "            maxInt = sys.maxsize\n",
        "            decrement = True\n",
        "            while decrement:\n",
        "                # decrease the maxInt value by factor 10\n",
        "                # as long as the OverflowError occurs.\n",
        "                decrement = False\n",
        "                try:\n",
        "                    csv.field_size_limit(maxInt)\n",
        "                except OverflowError:\n",
        "                    maxInt = int(maxInt / 10)\n",
        "                    decrement = True\n",
        "\n",
        "            print(\"counting lines in file...\")\n",
        "            num_lines = sum(1 for line in open(self.path))\n",
        "            print(\"There are \" + str(num_lines) + \" Packets.\")\n",
        "            self.limit = min(self.limit, num_lines-1)\n",
        "            self.tsvinf = open(self.path, 'rt', encoding=\"utf8\")\n",
        "            self.tsvin = csv.reader(self.tsvinf, delimiter='\\t')\n",
        "            row = self.tsvin.__next__() #move iterator past header\n",
        "\n",
        "        else: # scapy\n",
        "            print(\"Reading PCAP file via Scapy...\")\n",
        "            self.scapyin = rdpcap(self.path)\n",
        "            self.limit = len(self.scapyin)\n",
        "            print(\"Loaded \" + str(len(self.scapyin)) + \" Packets.\")\n",
        "\n",
        "    def get_next_vector(self):\n",
        "        if self.curPacketIndx == self.limit:\n",
        "            if self.parse_type == 'tsv':\n",
        "                self.tsvinf.close()\n",
        "            return []\n",
        "\n",
        "        ### Parse next packet ###\n",
        "        if self.parse_type == \"tsv\":\n",
        "            row = self.tsvin.__next__()\n",
        "            IPtype = np.nan\n",
        "            timestamp = row[0]\n",
        "            framelen = row[1]\n",
        "            srcIP = ''\n",
        "            dstIP = ''\n",
        "            if row[4] != '':  # IPv4\n",
        "                srcIP = row[4]\n",
        "                dstIP = row[5]\n",
        "                IPtype = 0\n",
        "            elif row[17] != '':  # ipv6\n",
        "                srcIP = row[17]\n",
        "                dstIP = row[18]\n",
        "                IPtype = 1\n",
        "            srcproto = row[6] + row[\n",
        "                8]  # UDP or TCP port: the concatenation of the two port strings will will results in an OR \"[tcp|udp]\"\n",
        "            dstproto = row[7] + row[9]  # UDP or TCP port\n",
        "            srcMAC = row[2]\n",
        "            dstMAC = row[3]\n",
        "            if srcproto == '':  # it's a L2/L1 level protocol\n",
        "                if row[12] != '':  # is ARP\n",
        "                    srcproto = 'arp'\n",
        "                    dstproto = 'arp'\n",
        "                    srcIP = row[14]  # src IP (ARP)\n",
        "                    dstIP = row[16]  # dst IP (ARP)\n",
        "                    IPtype = 0\n",
        "                elif row[10] != '':  # is ICMP\n",
        "                    srcproto = 'icmp'\n",
        "                    dstproto = 'icmp'\n",
        "                    IPtype = 0\n",
        "                elif srcIP + srcproto + dstIP + dstproto == '':  # some other protocol\n",
        "                    srcIP = row[2]  # src MAC\n",
        "                    dstIP = row[3]  # dst MAC\n",
        "\n",
        "        elif self.parse_type == \"scapy\":\n",
        "            packet = self.scapyin[self.curPacketIndx]\n",
        "            IPtype = np.nan\n",
        "            timestamp = packet.time\n",
        "            framelen = len(packet)\n",
        "            if packet.haslayer(IP):  # IPv4\n",
        "                srcIP = packet[IP].src\n",
        "                dstIP = packet[IP].dst\n",
        "                IPtype = 0\n",
        "            elif packet.haslayer(IPv6):  # ipv6\n",
        "                srcIP = packet[IPv6].src\n",
        "                dstIP = packet[IPv6].dst\n",
        "                IPtype = 1\n",
        "            else:\n",
        "                srcIP = ''\n",
        "                dstIP = ''\n",
        "\n",
        "            if packet.haslayer(TCP):\n",
        "                srcproto = str(packet[TCP].sport)\n",
        "                dstproto = str(packet[TCP].dport)\n",
        "            elif packet.haslayer(UDP):\n",
        "                srcproto = str(packet[UDP].sport)\n",
        "                dstproto = str(packet[UDP].dport)\n",
        "            else:\n",
        "                srcproto = ''\n",
        "                dstproto = ''\n",
        "\n",
        "            srcMAC = packet.src\n",
        "            dstMAC = packet.dst\n",
        "            if srcproto == '':  # it's a L2/L1 level protocol\n",
        "                if packet.haslayer(ARP):  # is ARP\n",
        "                    srcproto = 'arp'\n",
        "                    dstproto = 'arp'\n",
        "                    srcIP = packet[ARP].psrc  # src IP (ARP)\n",
        "                    dstIP = packet[ARP].pdst  # dst IP (ARP)\n",
        "                    IPtype = 0\n",
        "                elif packet.haslayer(ICMP):  # is ICMP\n",
        "                    srcproto = 'icmp'\n",
        "                    dstproto = 'icmp'\n",
        "                    IPtype = 0\n",
        "                elif srcIP + srcproto + dstIP + dstproto == '':  # some other protocol\n",
        "                    srcIP = packet.src  # src MAC\n",
        "                    dstIP = packet.dst  # dst MAC\n",
        "        else:\n",
        "            return []\n",
        "\n",
        "        self.curPacketIndx = self.curPacketIndx + 1\n",
        "\n",
        "\n",
        "        ### Extract Features\n",
        "        try:\n",
        "            return self.nstat.updateGetStats(IPtype, srcMAC, dstMAC, srcIP, srcproto, dstIP, dstproto,\n",
        "                                                 int(framelen),\n",
        "                                                 float(timestamp))\n",
        "        except Exception as e:\n",
        "            print(e)\n",
        "            return []\n",
        "\n",
        "\n",
        "    def pcap2tsv_with_tshark(self):\n",
        "        print('Parsing with tshark...')\n",
        "        fields = \"-e frame.time_epoch -e frame.len -e eth.src -e eth.dst -e ip.src -e ip.dst -e tcp.srcport -e tcp.dstport -e udp.srcport -e udp.dstport -e icmp.type -e icmp.code -e arp.opcode -e arp.src.hw_mac -e arp.src.proto_ipv4 -e arp.dst.hw_mac -e arp.dst.proto_ipv4 -e ipv6.src -e ipv6.dst\"\n",
        "        cmd =  '\"' + self._tshark + '\" -r '+ self.path +' -T fields '+ fields +' -E header=y -E occurrence=f > '+self.path+\".tsv\"\n",
        "        subprocess.call(cmd,shell=True)\n",
        "        print(\"tshark parsing complete. File saved as: \"+self.path +\".tsv\")\n",
        "\n",
        "    def get_num_features(self):\n",
        "        return len(self.nstat.getNetStatHeaders())"
      ],
      "execution_count": null,
      "outputs": [
        {
          "output_type": "stream",
          "text": [
            "Importing Scapy Library\n"
          ],
          "name": "stdout"
        }
      ]
    },
    {
      "cell_type": "code",
      "metadata": {
        "id": "KKXsUKw5m2gl"
      },
      "source": [
        "import numpy\n",
        "from scipy.stats import norm\n",
        "numpy.seterr(all='ignore')\n",
        "\n",
        "def pdf(x,mu,sigma): #normal distribution pdf\n",
        "    x = (x-mu)/sigma\n",
        "    return numpy.exp(-x**2/2)/(numpy.sqrt(2*numpy.pi)*sigma)\n",
        "\n",
        "def invLogCDF(x,mu,sigma): #normal distribution cdf\n",
        "    x = (x - mu) / sigma\n",
        "    return norm.logcdf(-x) #note: we mutiple by -1 after normalization to better get the 1-cdf\n",
        "\n",
        "def sigmoid(x):\n",
        "    return 1. / (1 + numpy.exp(-x))\n",
        "\n",
        "\n",
        "def dsigmoid(x):\n",
        "    return x * (1. - x)\n",
        "\n",
        "def tanh(x):\n",
        "    return numpy.tanh(x)\n",
        "\n",
        "def dtanh(x):\n",
        "    return 1. - x * x\n",
        "\n",
        "def softmax(x):\n",
        "    e = numpy.exp(x - numpy.max(x))  # prevent overflow\n",
        "    if e.ndim == 1:\n",
        "        return e / numpy.sum(e, axis=0)\n",
        "    else:  \n",
        "        return e / numpy.array([numpy.sum(e, axis=1)]).T  # ndim = 2\n",
        "\n",
        "\n",
        "def ReLU(x):\n",
        "    return x * (x > 0)\n",
        "\n",
        "def dReLU(x):\n",
        "    return 1. * (x > 0)\n",
        "\n",
        "class rollmean:\n",
        "    def __init__(self,k):\n",
        "        self.winsize = k\n",
        "        self.window = numpy.zeros(self.winsize)\n",
        "        self.pointer = 0\n",
        "\n",
        "    def apply(self,newval):\n",
        "        self.window[self.pointer]=newval\n",
        "        self.pointer = (self.pointer+1) % self.winsize\n",
        "        return numpy.mean(self.window)\n",
        "\n",
        "# probability density for the Gaussian dist\n",
        "# def gaussian(x, mean=0.0, scale=1.0):\n",
        "#     s = 2 * numpy.power(scale, 2)\n",
        "#     e = numpy.exp( - numpy.power((x - mean), 2) / s )\n",
        "\n",
        "#     return e / numpy.square(numpy.pi * s)"
      ],
      "execution_count": null,
      "outputs": []
    },
    {
      "cell_type": "code",
      "metadata": {
        "id": "q79ru7UIneFo"
      },
      "source": [
        "import sys\n",
        "import numpy\n",
        "import json\n",
        "\n",
        "class dA_params:\n",
        "    def __init__(self,n_visible = 5, n_hidden = 3, lr=0.001, corruption_level=0.0, gracePeriod = 10000, hiddenRatio=None):\n",
        "        self.n_visible = n_visible# num of units in visible (input) layer\n",
        "        self.n_hidden = n_hidden# num of units in hidden layer\n",
        "        self.lr = lr\n",
        "        self.corruption_level = corruption_level\n",
        "        self.gracePeriod = gracePeriod\n",
        "        self.hiddenRatio = hiddenRatio\n",
        "\n",
        "class dA:\n",
        "    def __init__(self, params):\n",
        "        self.params = params\n",
        "\n",
        "        if self.params.hiddenRatio is not None:\n",
        "            self.params.n_hidden = int(numpy.ceil(self.params.n_visible*self.params.hiddenRatio))\n",
        "\n",
        "        # for 0-1 normlaization\n",
        "        self.norm_max = numpy.ones((self.params.n_visible,)) * -numpy.Inf\n",
        "        self.norm_min = numpy.ones((self.params.n_visible,)) * numpy.Inf\n",
        "        self.n = 0\n",
        "\n",
        "        self.rng = numpy.random.RandomState(1234)\n",
        "\n",
        "        a = 1. / self.params.n_visible\n",
        "        self.W = numpy.array(self.rng.uniform(  # initialize W uniformly\n",
        "            low=-a,\n",
        "            high=a,\n",
        "            size=(self.params.n_visible, self.params.n_hidden)))\n",
        "\n",
        "        self.hbias = numpy.zeros(self.params.n_hidden)  # initialize h bias 0\n",
        "        self.vbias = numpy.zeros(self.params.n_visible)  # initialize v bias 0\n",
        "        self.W_prime = self.W.T\n",
        "\n",
        "\n",
        "    def get_corrupted_input(self, input, corruption_level):\n",
        "        assert corruption_level < 1\n",
        "\n",
        "        return self.rng.binomial(size=input.shape,\n",
        "                                 n=1,\n",
        "                                 p=1 - corruption_level) * input\n",
        "\n",
        "    # Encode\n",
        "    def get_hidden_values(self, input):\n",
        "        return sigmoid(numpy.dot(input, self.W) + self.hbias)\n",
        "\n",
        "    # Decode\n",
        "    def get_reconstructed_input(self, hidden):\n",
        "        return sigmoid(numpy.dot(hidden, self.W_prime) + self.vbias)\n",
        "\n",
        "    def train(self, x):\n",
        "        self.n = self.n + 1\n",
        "        # update norms\n",
        "        self.norm_max[x > self.norm_max] = x[x > self.norm_max]\n",
        "        self.norm_min[x < self.norm_min] = x[x < self.norm_min]\n",
        "\n",
        "        # 0-1 normalize\n",
        "        x = (x - self.norm_min) / (self.norm_max - self.norm_min + 0.0000000000000001)\n",
        "\n",
        "        if self.params.corruption_level > 0.0:\n",
        "            tilde_x = self.get_corrupted_input(x, self.params.corruption_level)\n",
        "        else:\n",
        "            tilde_x = x\n",
        "        y = self.get_hidden_values(tilde_x)\n",
        "        z = self.get_reconstructed_input(y)\n",
        "\n",
        "        L_h2 = x - z\n",
        "        L_h1 = numpy.dot(L_h2, self.W) * y * (1 - y)\n",
        "\n",
        "        L_vbias = L_h2\n",
        "        L_hbias = L_h1\n",
        "        L_W = numpy.outer(tilde_x.T, L_h1) + numpy.outer(L_h2.T, y)\n",
        "\n",
        "        self.W += self.params.lr * L_W\n",
        "        self.hbias += self.params.lr * L_hbias\n",
        "        self.vbias += self.params.lr * L_vbias\n",
        "        return numpy.sqrt(numpy.mean(L_h2**2)) #the RMSE reconstruction error during training\n",
        "\n",
        "\n",
        "    def reconstruct(self, x):\n",
        "        y = self.get_hidden_values(x)\n",
        "        z = self.get_reconstructed_input(y)\n",
        "        return z\n",
        "\n",
        "    def execute(self, x): #returns MSE of the reconstruction of x\n",
        "        if self.n < self.params.gracePeriod:\n",
        "            return 0.0\n",
        "        else:\n",
        "            # 0-1 normalize\n",
        "            x = (x - self.norm_min) / (self.norm_max - self.norm_min + 0.0000000000000001)\n",
        "            z = self.reconstruct(x)\n",
        "            rmse = numpy.sqrt(((x - z) ** 2).mean()) #MSE\n",
        "            return rmse\n",
        "\n",
        "\n",
        "    def inGrace(self):\n",
        "        return self.n < self.params.gracePeriod"
      ],
      "execution_count": null,
      "outputs": []
    },
    {
      "cell_type": "code",
      "metadata": {
        "id": "aZ44yhX3niUb"
      },
      "source": [
        "import numpy as np\n",
        "from scipy.cluster.hierarchy import linkage, fcluster, to_tree\n",
        "\n",
        "# A helper class for KitNET which performs a correlation-based incremental clustering of the dimensions in X\n",
        "# n: the number of dimensions in the dataset\n",
        "\n",
        "class corClust:\n",
        "    def __init__(self,n):\n",
        "        #parameter:\n",
        "        self.n = n\n",
        "        #varaibles\n",
        "        self.c = np.zeros(n) #linear num of features\n",
        "        self.c_r = np.zeros(n) #linear sum of feature residules\n",
        "        self.c_rs = np.zeros(n) #linear sum of feature residules\n",
        "        self.C = np.zeros((n,n)) #partial correlation matrix\n",
        "        self.N = 0 #number of updates performed\n",
        "\n",
        "    # x: a numpy vector of length n\n",
        "    def update(self,x):\n",
        "        self.N += 1\n",
        "        self.c += x\n",
        "        c_rt = x - self.c/self.N\n",
        "        self.c_r += c_rt\n",
        "        self.c_rs += c_rt**2\n",
        "        self.C += np.outer(c_rt,c_rt)\n",
        "\n",
        "    # creates the current correlation distance matrix between the features\n",
        "    def corrDist(self):\n",
        "        c_rs_sqrt = np.sqrt(self.c_rs)\n",
        "        C_rs_sqrt = np.outer(c_rs_sqrt,c_rs_sqrt)\n",
        "        C_rs_sqrt[C_rs_sqrt==0] = 1e-100 #this protects against dive by zero erros (occurs when a feature is a constant)\n",
        "        D = 1-self.C/C_rs_sqrt #the correlation distance matrix\n",
        "        D[D<0] = 0 #small negatives may appear due to the incremental fashion in which we update the mean. Therefore, we 'fix' them\n",
        "        return D\n",
        "\n",
        "    # clusters the features together, having no more than maxClust features per cluster\n",
        "    def cluster(self,maxClust):\n",
        "        D = self.corrDist()\n",
        "        Z = linkage(D[np.triu_indices(self.n, 1)])  # create a linkage matrix based on the distance matrix\n",
        "        if maxClust < 1:\n",
        "            maxClust = 1\n",
        "        if maxClust > self.n:\n",
        "            maxClust = self.n\n",
        "        map = self.__breakClust__(to_tree(Z),maxClust)\n",
        "        return map\n",
        "\n",
        "    # a recursive helper function which breaks down the dendrogram branches until all clusters have no more than maxClust elements\n",
        "    def __breakClust__(self,dendro,maxClust):\n",
        "        if dendro.count <= maxClust: #base case: we found a minimal cluster, so mark it\n",
        "            return [dendro.pre_order()] #return the origional ids of the features in this cluster\n",
        "        return self.__breakClust__(dendro.get_left(),maxClust) + self.__breakClust__(dendro.get_right(),maxClust)"
      ],
      "execution_count": null,
      "outputs": []
    },
    {
      "cell_type": "code",
      "metadata": {
        "id": "SsXjXm99np3R"
      },
      "source": [
        "import numpy as np\n",
        "import dA as AE\n",
        "import corClust as CC\n",
        "\n",
        "# This class represents a KitNET machine learner.\n",
        "# KitNET is a lightweight online anomaly detection algorithm based on an ensemble of autoencoders.\n",
        "\n",
        "class KitNET:\n",
        "    #n: the number of features in your input dataset (i.e., x \\in R^n)\n",
        "    #m: the maximum size of any autoencoder in the ensemble layer\n",
        "    #AD_grace_period: the number of instances the network will learn from before producing anomaly scores\n",
        "    #FM_grace_period: the number of instances which will be taken to learn the feature mapping. If 'None', then FM_grace_period=AM_grace_period\n",
        "    #learning_rate: the default stochastic gradient descent learning rate for all autoencoders in the KitNET instance.\n",
        "    #hidden_ratio: the default ratio of hidden to visible neurons. E.g., 0.75 will cause roughly a 25% compression in the hidden layer.\n",
        "    #feature_map: One may optionally provide a feature map instead of learning one. The map must be a list,\n",
        "    #           where the i-th entry contains a list of the feature indices to be assingned to the i-th autoencoder in the ensemble.\n",
        "    #           For example, [[2,5,3],[4,0,1],[6,7]]\n",
        "    def __init__(self,n,max_autoencoder_size=10,FM_grace_period=None,AD_grace_period=10000,learning_rate=0.1,hidden_ratio=0.75, feature_map = None):\n",
        "        # Parameters:\n",
        "        self.AD_grace_period = AD_grace_period\n",
        "        if FM_grace_period is None:\n",
        "            self.FM_grace_period = AD_grace_period\n",
        "        else:\n",
        "            self.FM_grace_period = FM_grace_period\n",
        "        if max_autoencoder_size <= 0:\n",
        "            self.m = 1\n",
        "        else:\n",
        "            self.m = max_autoencoder_size\n",
        "        self.lr = learning_rate\n",
        "        self.hr = hidden_ratio\n",
        "        self.n = n\n",
        "\n",
        "        # Variables\n",
        "        self.n_trained = 0 # the number of training instances so far\n",
        "        self.n_executed = 0 # the number of executed instances so far\n",
        "        self.v = feature_map\n",
        "        if self.v is None:\n",
        "            print(\"Feature-Mapper: train-mode, Anomaly-Detector: off-mode\")\n",
        "        else:\n",
        "            self.__createAD__()\n",
        "            print(\"Feature-Mapper: execute-mode, Anomaly-Detector: train-mode\")\n",
        "        self.FM = CC.corClust(self.n) #incremental feature cluatering for the feature mapping process\n",
        "        self.ensembleLayer = []\n",
        "        self.outputLayer = None\n",
        "\n",
        "    #If FM_grace_period+AM_grace_period has passed, then this function executes KitNET on x. Otherwise, this function learns from x.\n",
        "    #x: a numpy array of length n\n",
        "    #Note: KitNET automatically performs 0-1 normalization on all attributes.\n",
        "    def process(self,x):\n",
        "        if self.n_trained > self.FM_grace_period + self.AD_grace_period: #If both the FM and AD are in execute-mode\n",
        "            return self.execute(x)\n",
        "        else:\n",
        "            self.train(x)\n",
        "            return 0.0\n",
        "\n",
        "    #force train KitNET on x\n",
        "    #returns the anomaly score of x during training (do not use for alerting)\n",
        "    def train(self,x):\n",
        "        if self.n_trained <= self.FM_grace_period and self.v is None: #If the FM is in train-mode, and the user has not supplied a feature mapping\n",
        "            #update the incremetnal correlation matrix\n",
        "            self.FM.update(x)\n",
        "            if self.n_trained == self.FM_grace_period: #If the feature mapping should be instantiated\n",
        "                self.v = self.FM.cluster(self.m)\n",
        "                self.__createAD__()\n",
        "                print(\"The Feature-Mapper found a mapping: \"+str(self.n)+\" features to \"+str(len(self.v))+\" autoencoders.\")\n",
        "                print(\"Feature-Mapper: execute-mode, Anomaly-Detector: train-mode\")\n",
        "        else: #train\n",
        "            ## Ensemble Layer\n",
        "            S_l1 = np.zeros(len(self.ensembleLayer))\n",
        "            for a in range(len(self.ensembleLayer)):\n",
        "                # make sub instance for autoencoder 'a'\n",
        "                xi = x[self.v[a]]\n",
        "                S_l1[a] = self.ensembleLayer[a].train(xi)\n",
        "            ## OutputLayer\n",
        "            self.outputLayer.train(S_l1)\n",
        "            if self.n_trained == self.AD_grace_period+self.FM_grace_period:\n",
        "                print(\"Feature-Mapper: execute-mode, Anomaly-Detector: execute-mode\")\n",
        "        self.n_trained += 1\n",
        "\n",
        "    #force execute KitNET on x\n",
        "    def execute(self,x):\n",
        "        if self.v is None:\n",
        "            raise RuntimeError('KitNET Cannot execute x, because a feature mapping has not yet been learned or provided. Try running process(x) instead.')\n",
        "        else:\n",
        "            self.n_executed += 1\n",
        "            ## Ensemble Layer\n",
        "            S_l1 = np.zeros(len(self.ensembleLayer))\n",
        "            for a in range(len(self.ensembleLayer)):\n",
        "                # make sub inst\n",
        "                xi = x[self.v[a]]\n",
        "                S_l1[a] = self.ensembleLayer[a].execute(xi)\n",
        "            ## OutputLayer\n",
        "            return self.outputLayer.execute(S_l1)\n",
        "\n",
        "    def __createAD__(self):\n",
        "        # construct ensemble layer\n",
        "        for map in self.v:\n",
        "            params = AE.dA_params(n_visible=len(map), n_hidden=0, lr=self.lr, corruption_level=0, gracePeriod=0, hiddenRatio=self.hr)\n",
        "            self.ensembleLayer.append(AE.dA(params))\n",
        "\n",
        "        # construct output layer\n",
        "        params = AE.dA_params(len(self.v), n_hidden=0, lr=self.lr, corruption_level=0, gracePeriod=0, hiddenRatio=self.hr)\n",
        "        self.outputLayer = AE.dA(params)"
      ],
      "execution_count": null,
      "outputs": []
    },
    {
      "cell_type": "code",
      "metadata": {
        "id": "H8Bzx8yBkwkr"
      },
      "source": [
        "from radiomics import *\n",
        "\n",
        "\n",
        "class Kitsune:\n",
        "    def __init__(self,file_path,limit,max_autoencoder_size=10,FM_grace_period=None,AD_grace_period=10000,learning_rate=0.1,hidden_ratio=0.75,):\n",
        "        #init packet feature extractor (AfterImage)\n",
        "        self.FE = FE(file_path,limit)\n",
        "\n",
        "        #init Kitnet\n",
        "        self.AnomDetector = KitNET(self.FE.get_num_features(),max_autoencoder_size,FM_grace_period,AD_grace_period,learning_rate,hidden_ratio)\n",
        "\n",
        "    def proc_next_packet(self):\n",
        "        # create feature vector\n",
        "        x = self.FE.get_next_vector()\n",
        "        if len(x) == 0:\n",
        "            return -1 #Error or no packets left\n",
        "\n",
        "        # process KitNET\n",
        "        return self.AnomDetector.process(x)  # will train during the grace periods, then execute on all the rest."
      ],
      "execution_count": null,
      "outputs": []
    },
    {
      "cell_type": "code",
      "metadata": {
        "id": "IQcs_ULqiUvp",
        "colab": {
          "base_uri": "https://localhost:8080/"
        },
        "outputId": "4d6ddc67-7766-4785-b91a-93627f7be08c"
      },
      "source": [
        "\n",
        "import numpy as np\n",
        "import time\n",
        "import pandas as pd\n",
        "!pip install scapy\n",
        "from sklearn.metrics import confusion_matrix"
      ],
      "execution_count": null,
      "outputs": [
        {
          "output_type": "stream",
          "text": [
            "Requirement already satisfied: scapy in /usr/local/lib/python3.7/dist-packages (2.4.4)\n"
          ],
          "name": "stdout"
        }
      ]
    },
    {
      "cell_type": "code",
      "metadata": {
        "colab": {
          "base_uri": "https://localhost:8080/",
          "height": 1000
        },
        "id": "sp9loJJZoQpk",
        "outputId": "b7ed850b-5178-4648-a485-6a47a6dcdf2b"
      },
      "source": [
        "#import zipfile\n",
        "#with zipfile.ZipFile(\"mirai.zip\",\"r\") as zip_ref:\n",
        "#    zip_ref.extractall()\n",
        "\n",
        "\n",
        "# File location\n",
        "path = \"a.pcap\" #the pcap, pcapng, or tsv file to process.\n",
        "packet_limit = np.Inf #the number of packets to process\n",
        "f = rdpcap('a.pcap')\n",
        "#df  = pd.read_csv('a.pcap')\n",
        "# KitNET params:\n",
        "maxAE = 10 #maximum size for any autoencoder in the ensemble layer\n",
        "FMgrace = 1000 #the number of instances taken to learn the feature mapping (the ensemble's architecture)\n",
        "ADgrace = 5000 #the number of instances used to train the anomaly detector (ensemble itself)\n",
        "\n",
        "# Build Kitsune\n",
        "K = Kitsune(path,packet_limit,maxAE,FMgrace,ADgrace)\n",
        "\n",
        "print(\"Running Kitsune:\")\n",
        "RMSEs = []\n",
        "i = 0\n",
        "mal = 0\n",
        "start = time.time()\n",
        "# Here we process (train/execute) each individual packet.\n",
        "# In this way, each observation is discarded after performing process() method.\n",
        "while True:\n",
        "    i+=1\n",
        "    if i % 500 == 0:\n",
        "        print(i)\n",
        "    rmse = K.proc_next_packet()\n",
        "    if np.log(rmse) > 1:\n",
        "      mal +=1\n",
        "      if mal != 1:\n",
        "        print(\"The Packet no \"+ str(i) +\" has an anamoly.\\n\")\n",
        "        f[i].show()\n",
        "    if rmse == -1:\n",
        "        break\n",
        "    RMSEs.append(rmse)\n",
        "stop = time.time()\n",
        "print(\"Complete. Time elapsed: \"+ str(stop - start)+\" \\n\")\n",
        "\n",
        " \n",
        "  \n",
        "if mal == 0:\n",
        "    print(\"Your PCAP file has no intrusions detected. \\n\")\n",
        "else:\n",
        "    print(\"Your PCAP file has \"+ str(mal) +\" intrusions detected. \\n\")\n",
        "# Here we demonstrate how one can fit the RMSE scores to a log-normal distribution (useful for finding/setting a cutoff threshold \\phi)\n",
        "from scipy.stats import norm\n",
        "benignSample = np.log(RMSEs[FMgrace+ADgrace+1:100000])\n",
        "logProbs = norm.logsf(np.log(RMSEs), np.mean(benignSample), np.std(benignSample))\n",
        "\n",
        "# plot the RMSE anomaly scores\n",
        "print(\"Plotting results\")\n",
        "from matplotlib import pyplot as plt\n",
        "from matplotlib import cm\n",
        "plt.figure(figsize=(10,5))\n",
        "fig = plt.scatter(range(FMgrace+ADgrace+1,len(RMSEs)),RMSEs[FMgrace+ADgrace+1:],s=0.1,c=logProbs[FMgrace+ADgrace+1:],cmap='RdYlGn')\n",
        "plt.yscale(\"log\")\n",
        "plt.title(\"Anomaly Scores from Kitsune's Execution Phase\")\n",
        "plt.ylabel(\"RMSE (log scaled)\")\n",
        "plt.xlabel(\"Time elapsed [min]\")\n",
        "figbar=plt.colorbar()\n",
        "figbar.ax.set_ylabel('Log Probability\\n ', rotation=270)\n",
        "plt.show()\n",
        "\n"
      ],
      "execution_count": null,
      "outputs": [
        {
          "output_type": "stream",
          "text": [
            "tshark not found. Trying scapy...\n",
            "Reading PCAP file via Scapy...\n",
            "Loaded 21664 Packets.\n",
            "Feature-Mapper: train-mode, Anomaly-Detector: off-mode\n",
            "Running Kitsune:\n",
            "500\n",
            "1000\n",
            "The Feature-Mapper found a mapping: 100 features to 25 autoencoders.\n",
            "Feature-Mapper: execute-mode, Anomaly-Detector: train-mode\n",
            "1500\n",
            "2000\n",
            "2500\n",
            "3000\n",
            "3500\n",
            "4000\n",
            "4500\n",
            "5000\n",
            "5500\n",
            "6000\n",
            "Feature-Mapper: execute-mode, Anomaly-Detector: execute-mode\n",
            "6500\n",
            "7000\n",
            "7500\n",
            "8000\n",
            "8500\n",
            "9000\n",
            "9500\n",
            "10000\n",
            "10500\n",
            "11000\n",
            "11500\n",
            "The Packet no 11723 has an anamoly.\n",
            "\n",
            "###[ Ethernet ]### \n",
            "  dst       = 78:8a:20:43:93:d5\n",
            "  src       = 00:17:88:75:b3:82\n",
            "  type      = IPv4\n",
            "###[ IP ]### \n",
            "     version   = 4\n",
            "     ihl       = 5\n",
            "     tos       = 0x0\n",
            "     len       = 1500\n",
            "     id        = 3864\n",
            "     flags     = DF\n",
            "     frag      = 0\n",
            "     ttl       = 64\n",
            "     proto     = 6\n",
            "     chksum    = 0x9df8\n",
            "     src       = 192.168.1.132\n",
            "     dst       = 130.211.67.12\n",
            "     \\options   \\\n",
            "###[ TCP ]### \n",
            "        sport     = 60836\n",
            "        dport     = 80\n",
            "        seq       = 3860234653\n",
            "        ack       = 3256936759\n",
            "        dataofs   = 5\n",
            "        reserved  = 0\n",
            "        flags     = A\n",
            "        window    = 3650\n",
            "        chksum    = 0x31f9\n",
            "        urgptr    = 0\n",
            "        options   = []\n",
            "###[ Raw ]### \n",
            "           load      = '/bridges/ws/stats?sso=332e453e0d93c61eebd104e0be6a1adc09c58f52d770a78f1b09b17d81a0a21e4a23d9ee22972dde8f6b987b311a9c9c69150cea57533967fe10075c0bc660682748d5e16991eaf8de3884828a71c65126d3ea363f910ea81287a7e3f08f0ae90f394ed7e888a849ac7f3ac49e96686c27af6028ecba1b693f438864e52337a31816&i=e737b5cec4c5c1d42915e01a12499285&auth=670388d5f1e6eb7085d73f3b1f71b1ddb7ed3f58 HTTP/1.1\\r\\nHost: diagnostics.meethue.com:80\\r\\nConnection: close\\r\\nTransfer-encoding: chunked\\r\\nContent-Type: text/plain\\r\\n\\r\\n20\\r\\n775eac5807dbdcd4ef5c9211ef5a67ac\\r\\n20\\r\\n16d9a5bb846f42e86a60c321d38be943\\r\\n20\\r\\n098eed012a76ceb466fafb8543c4a9b3\\r\\n20\\r\\n08f6e100857177b87684d745083f2534\\r\\n20\\r\\nca30d524eabfc524de7ce99337b7a603\\r\\n20\\r\\n38d839a910611b4e52705eb3babb282a\\r\\n20\\r\\n6459f7861f90693df58be8db65f63021\\r\\n20\\r\\n8029c69f2974c0b4d7cd5c0f648a96ab\\r\\n20\\r\\n63b030a8865253e6c4bbc6d9243d4bca\\r\\n20\\r\\n1729e0192c9d1025e7f6d5a7d7e3168c\\r\\n20\\r\\nc5775527fca6e987f61b2a1e4c3ca5cf\\r\\n20\\r\\n0e647b921529d471afc18c12d33c6289\\r\\n20\\r\\n0a32b904431a9ecfed909ad80ea2aae9\\r\\n20\\r\\n9f4cd1050c5e3feadccd0a7a9b2cbaab\\r\\n20\\r\\ne87aee7acf1505e2e058d5be2b849b0d\\r\\n20\\r\\n72827301247fad756c0b7280610fe842\\r\\n20\\r\\na95a25f23bf38fa904fbccca76f45b2a\\r\\n20\\r\\n7683ab389639485b8bf26222d0af70fb\\r\\n20\\r\\n1b55d5003e688cbae55c83c13588a3f2\\r\\n20\\r\\n466298fe458c1b6513dac1cade0d126a\\r\\n20\\r\\n1f50e0d91abd1ff91ddd8655bbac263b\\r\\n20\\r\\n4e619cbd5249a34ae6e928489a2bd4c1\\r\\n20\\r\\n01464a935e0896ce2b74d5bdb59c6c52\\r\\n20\\r\\n361149d7ea4d65f05985aede52d96bb5\\r\\n20\\r\\nee9fb4ea507569598c4030f29ec05ac4\\r\\n20\\r\\n8a5665e55971990d94d6d33'\n",
            "\n",
            "The Packet no 11724 has an anamoly.\n",
            "\n",
            "###[ Ethernet ]### \n",
            "  dst       = 00:17:88:75:b3:82\n",
            "  src       = 78:8a:20:43:93:d5\n",
            "  type      = IPv4\n",
            "###[ IP ]### \n",
            "     version   = 4\n",
            "     ihl       = 5\n",
            "     tos       = 0x0\n",
            "     len       = 40\n",
            "     id        = 2293\n",
            "     flags     = DF\n",
            "     frag      = 0\n",
            "     ttl       = 50\n",
            "     proto     = 6\n",
            "     chksum    = 0xb7cf\n",
            "     src       = 130.211.67.12\n",
            "     dst       = 192.168.1.132\n",
            "     \\options   \\\n",
            "###[ TCP ]### \n",
            "        sport     = 80\n",
            "        dport     = 60836\n",
            "        seq       = 3256936759\n",
            "        ack       = 3860234653\n",
            "        dataofs   = 5\n",
            "        reserved  = 0\n",
            "        flags     = A\n",
            "        window    = 229\n",
            "        chksum    = 0x25e2\n",
            "        urgptr    = 0\n",
            "        options   = []\n",
            "###[ Padding ]### \n",
            "           load      = '\\x00\\x00\\x00\\x00\\x00\\x00'\n",
            "\n",
            "The Packet no 11725 has an anamoly.\n",
            "\n",
            "###[ Ethernet ]### \n",
            "  dst       = 78:8a:20:43:93:d5\n",
            "  src       = 00:17:88:75:b3:82\n",
            "  type      = IPv4\n",
            "###[ IP ]### \n",
            "     version   = 4\n",
            "     ihl       = 5\n",
            "     tos       = 0x0\n",
            "     len       = 170\n",
            "     id        = 3865\n",
            "     flags     = DF\n",
            "     frag      = 0\n",
            "     ttl       = 64\n",
            "     proto     = 6\n",
            "     chksum    = 0xa329\n",
            "     src       = 192.168.1.132\n",
            "     dst       = 130.211.67.12\n",
            "     \\options   \\\n",
            "###[ TCP ]### \n",
            "        sport     = 60836\n",
            "        dport     = 80\n",
            "        seq       = 3860236113\n",
            "        ack       = 3256936759\n",
            "        dataofs   = 5\n",
            "        reserved  = 0\n",
            "        flags     = PA\n",
            "        window    = 3650\n",
            "        chksum    = 0x1253\n",
            "        urgptr    = 0\n",
            "        options   = []\n",
            "###[ Raw ]### \n",
            "           load      = '145fafa18\\r\\n20\\r\\n192771ead7bc9a20a1f4c53c87c94e25\\r\\n20\\r\\ne2db3ef8cf239f1752d133163c47f0e7\\r\\n20\\r\\na600fdd5c7718624f77f3d162a59cb74\\r\\n0\\r\\n\\r\\n'\n",
            "\n",
            "The Packet no 11726 has an anamoly.\n",
            "\n",
            "###[ Ethernet ]### \n",
            "  dst       = 00:17:88:75:b3:82\n",
            "  src       = 78:8a:20:43:93:d5\n",
            "  type      = IPv4\n",
            "###[ IP ]### \n",
            "     version   = 4\n",
            "     ihl       = 5\n",
            "     tos       = 0x0\n",
            "     len       = 40\n",
            "     id        = 2294\n",
            "     flags     = DF\n",
            "     frag      = 0\n",
            "     ttl       = 50\n",
            "     proto     = 6\n",
            "     chksum    = 0xb7ce\n",
            "     src       = 130.211.67.12\n",
            "     dst       = 192.168.1.132\n",
            "     \\options   \\\n",
            "###[ TCP ]### \n",
            "        sport     = 80\n",
            "        dport     = 60836\n",
            "        seq       = 3256936759\n",
            "        ack       = 3860236113\n",
            "        dataofs   = 5\n",
            "        reserved  = 0\n",
            "        flags     = A\n",
            "        window    = 251\n",
            "        chksum    = 0x2018\n",
            "        urgptr    = 0\n",
            "        options   = []\n",
            "###[ Padding ]### \n",
            "           load      = '\\x00\\x00\\x00\\x00\\x00\\x00'\n",
            "\n",
            "The Packet no 11727 has an anamoly.\n",
            "\n",
            "###[ Ethernet ]### \n",
            "  dst       = 00:17:88:75:b3:82\n",
            "  src       = 78:8a:20:43:93:d5\n",
            "  type      = IPv4\n",
            "###[ IP ]### \n",
            "     version   = 4\n",
            "     ihl       = 5\n",
            "     tos       = 0x0\n",
            "     len       = 40\n",
            "     id        = 2295\n",
            "     flags     = DF\n",
            "     frag      = 0\n",
            "     ttl       = 50\n",
            "     proto     = 6\n",
            "     chksum    = 0xb7cd\n",
            "     src       = 130.211.67.12\n",
            "     dst       = 192.168.1.132\n",
            "     \\options   \\\n",
            "###[ TCP ]### \n",
            "        sport     = 80\n",
            "        dport     = 60836\n",
            "        seq       = 3256936759\n",
            "        ack       = 3860236243\n",
            "        dataofs   = 5\n",
            "        reserved  = 0\n",
            "        flags     = A\n",
            "        window    = 274\n",
            "        chksum    = 0x1f7f\n",
            "        urgptr    = 0\n",
            "        options   = []\n",
            "###[ Padding ]### \n",
            "           load      = '\\x00\\x00\\x00\\x00\\x00\\x00'\n",
            "\n",
            "The Packet no 11728 has an anamoly.\n",
            "\n",
            "###[ Ethernet ]### \n",
            "  dst       = 00:17:88:75:b3:82\n",
            "  src       = 78:8a:20:43:93:d5\n",
            "  type      = IPv4\n",
            "###[ IP ]### \n",
            "     version   = 4\n",
            "     ihl       = 5\n",
            "     tos       = 0x0\n",
            "     len       = 217\n",
            "     id        = 2296\n",
            "     flags     = DF\n",
            "     frag      = 0\n",
            "     ttl       = 50\n",
            "     proto     = 6\n",
            "     chksum    = 0xb71b\n",
            "     src       = 130.211.67.12\n",
            "     dst       = 192.168.1.132\n",
            "     \\options   \\\n",
            "###[ TCP ]### \n",
            "        sport     = 80\n",
            "        dport     = 60836\n",
            "        seq       = 3256936759\n",
            "        ack       = 3860236243\n",
            "        dataofs   = 5\n",
            "        reserved  = 0\n",
            "        flags     = PA\n",
            "        window    = 274\n",
            "        chksum    = 0x7622\n",
            "        urgptr    = 0\n",
            "        options   = []\n",
            "###[ Raw ]### \n",
            "           load      = 'HTTP/1.1 200 OK\\r\\nContent-Type: text/html; charset=utf-8\\r\\nContent-Length: 2\\r\\nETag: W/\"2-nOO9QiTIwXgNtWtBJezz8kv3SLc\"\\r\\nDate: Fri, 26 Oct 2018 00:02:07 GMT\\r\\nConnection: close\\r\\n\\r\\nOK'\n",
            "\n",
            "The Packet no 11729 has an anamoly.\n",
            "\n",
            "###[ Ethernet ]### \n",
            "  dst       = 78:8a:20:43:93:d5\n",
            "  src       = 00:17:88:75:b3:82\n",
            "  type      = IPv4\n",
            "###[ IP ]### \n",
            "     version   = 4\n",
            "     ihl       = 5\n",
            "     tos       = 0x0\n",
            "     len       = 40\n",
            "     id        = 3866\n",
            "     flags     = DF\n",
            "     frag      = 0\n",
            "     ttl       = 64\n",
            "     proto     = 6\n",
            "     chksum    = 0xa3aa\n",
            "     src       = 192.168.1.132\n",
            "     dst       = 130.211.67.12\n",
            "     \\options   \\\n",
            "###[ TCP ]### \n",
            "        sport     = 60836\n",
            "        dport     = 80\n",
            "        seq       = 3860236243\n",
            "        ack       = 3256936936\n",
            "        dataofs   = 5\n",
            "        reserved  = 0\n",
            "        flags     = A\n",
            "        window    = 3784\n",
            "        chksum    = 0x1118\n",
            "        urgptr    = 0\n",
            "        options   = []\n",
            "###[ Padding ]### \n",
            "           load      = '\\x00\\x00\\x00\\x00\\x00\\x00'\n",
            "\n",
            "12000\n",
            "12500\n",
            "13000\n",
            "13500\n",
            "14000\n",
            "14500\n",
            "15000\n",
            "15500\n",
            "16000\n",
            "16500\n",
            "17000\n",
            "17500\n",
            "18000\n",
            "18500\n",
            "19000\n",
            "19500\n",
            "The Packet no 19665 has an anamoly.\n",
            "\n",
            "###[ Ethernet ]### \n",
            "  dst       = 78:8a:20:43:93:d5\n",
            "  src       = 00:17:88:75:b3:82\n",
            "  type      = IPv4\n",
            "###[ IP ]### \n",
            "     version   = 4\n",
            "     ihl       = 5\n",
            "     tos       = 0x0\n",
            "     len       = 45\n",
            "     id        = 28193\n",
            "     flags     = DF\n",
            "     frag      = 0\n",
            "     ttl       = 64\n",
            "     proto     = 6\n",
            "     chksum    = 0x449e\n",
            "     src       = 192.168.1.132\n",
            "     dst       = 130.211.67.12\n",
            "     \\options   \\\n",
            "###[ TCP ]### \n",
            "        sport     = 60889\n",
            "        dport     = 80\n",
            "        seq       = 927657663\n",
            "        ack       = 3183762944\n",
            "        dataofs   = 5\n",
            "        reserved  = 0\n",
            "        flags     = PA\n",
            "        window    = 3650\n",
            "        chksum    = 0x25dd\n",
            "        urgptr    = 0\n",
            "        options   = []\n",
            "###[ Raw ]### \n",
            "           load      = 'POST '\n",
            "###[ Padding ]### \n",
            "              load      = '\\x00'\n",
            "\n",
            "The Packet no 19666 has an anamoly.\n",
            "\n",
            "###[ Ethernet ]### \n",
            "  dst       = 78:8a:20:43:93:d5\n",
            "  src       = 00:17:88:75:b3:82\n",
            "  type      = IPv4\n",
            "###[ IP ]### \n",
            "     version   = 4\n",
            "     ihl       = 5\n",
            "     tos       = 0x0\n",
            "     len       = 1500\n",
            "     id        = 28194\n",
            "     flags     = DF\n",
            "     frag      = 0\n",
            "     ttl       = 64\n",
            "     proto     = 6\n",
            "     chksum    = 0x3eee\n",
            "     src       = 192.168.1.132\n",
            "     dst       = 130.211.67.12\n",
            "     \\options   \\\n",
            "###[ TCP ]### \n",
            "        sport     = 60889\n",
            "        dport     = 80\n",
            "        seq       = 927657668\n",
            "        ack       = 3183762944\n",
            "        dataofs   = 5\n",
            "        reserved  = 0\n",
            "        flags     = A\n",
            "        window    = 3650\n",
            "        chksum    = 0x4397\n",
            "        urgptr    = 0\n",
            "        options   = []\n",
            "###[ Raw ]### \n",
            "           load      = '/bridges/ws/stats?sso=332e453e0d93c61eebd104e0be6a1adc09c58f52d770a78f1b09b17d81a0a21e4a23d9ee22972dde8f6b987b311a9c9c69150cea57533967fe10075c0bc660682748d5e16991eaf8de3884828a71c65126d3ea363f910ea81287a7e3f08f0ae90f394ed7e888a849ac7f3ac49e96686c27af6028ecba1b693f438864e52337a31816&i=25cfcb4695992ccca2382d84fd1bab02&auth=e943da9c80eda5886f11fe0839c56118f586dc82 HTTP/1.1\\r\\nHost: diagnostics.meethue.com:80\\r\\nConnection: close\\r\\nTransfer-encoding: chunked\\r\\nContent-Type: text/plain\\r\\n\\r\\n20\\r\\n15fc838a61a635f4e7b45ea8160c91e5\\r\\n20\\r\\ne59ab5a6654142948a6f90914291787d\\r\\n20\\r\\n27e04684bac89f2822d8ebc6d1ee8131\\r\\n20\\r\\nea4c38bb0392176663e7faf4dbe33056\\r\\n20\\r\\nd8de5e598dcfbc9b4307f2e256d1972b\\r\\n20\\r\\n72e29f40b9ec5e338b386cdc86193e72\\r\\n20\\r\\n6ed6b6a95190e0c88ac3af24e8147f03\\r\\n20\\r\\nd89b0c0a344d057443bbf6d45a28c775\\r\\n20\\r\\n65194dc8b5520b6e6f3acd8da904badb\\r\\n20\\r\\n9421ca4007fcc25307744671d3a5acd2\\r\\n20\\r\\n1d3415c321231f8a94fad3f3d95d1174\\r\\n20\\r\\n0a72645f4c5549f29dd43d67cc438991\\r\\n20\\r\\n7090ded6bd262847ca02519e0a5e67cb\\r\\n20\\r\\n113a5e8d06c4a2a586bebc95312bd170\\r\\n20\\r\\n8029ed25ef37b78e8aff3c545b0030b8\\r\\n20\\r\\n4ebcc544fe22177f25c9f64e5b187c9d\\r\\n20\\r\\n96dab6ede88be9569abcdf984b03febd\\r\\n20\\r\\n5f3208d0c866ae2156866da1ab726b1f\\r\\n20\\r\\n5937080923633e2cc2fdafa25fea4f21\\r\\n20\\r\\nadb50381e0921263feb22a6530a24bff\\r\\n20\\r\\nf5e6f0e58e9bb817a27d378cb2312650\\r\\n20\\r\\n93242215adabaf1f80384718615a019f\\r\\n20\\r\\n29b86d9e6f9b5a32df6d23c6912f6336\\r\\n20\\r\\n476bb3444e72acb0bdc9d08b5029233c\\r\\n20\\r\\n3f217c52a7ebdaad819235222a150b5c\\r\\n20\\r\\n4039abccf7ec571a2da8745'\n",
            "\n",
            "The Packet no 19667 has an anamoly.\n",
            "\n",
            "###[ Ethernet ]### \n",
            "  dst       = 00:17:88:75:b3:82\n",
            "  src       = 78:8a:20:43:93:d5\n",
            "  type      = IPv4\n",
            "###[ IP ]### \n",
            "     version   = 4\n",
            "     ihl       = 5\n",
            "     tos       = 0x0\n",
            "     len       = 40\n",
            "     id        = 59643\n",
            "     flags     = DF\n",
            "     frag      = 0\n",
            "     ttl       = 50\n",
            "     proto     = 6\n",
            "     chksum    = 0xd7c8\n",
            "     src       = 130.211.67.12\n",
            "     dst       = 192.168.1.132\n",
            "     \\options   \\\n",
            "###[ TCP ]### \n",
            "        sport     = 80\n",
            "        dport     = 60889\n",
            "        seq       = 3183762944\n",
            "        ack       = 927657668\n",
            "        dataofs   = 5\n",
            "        reserved  = 0\n",
            "        flags     = A\n",
            "        window    = 229\n",
            "        chksum    = 0xf6e5\n",
            "        urgptr    = 0\n",
            "        options   = []\n",
            "###[ Padding ]### \n",
            "           load      = '\\x00\\x00\\x00\\x00\\x00\\x00'\n",
            "\n",
            "The Packet no 19668 has an anamoly.\n",
            "\n",
            "###[ Ethernet ]### \n",
            "  dst       = 78:8a:20:43:93:d5\n",
            "  src       = 00:17:88:75:b3:82\n",
            "  type      = IPv4\n",
            "###[ IP ]### \n",
            "     version   = 4\n",
            "     ihl       = 5\n",
            "     tos       = 0x0\n",
            "     len       = 170\n",
            "     id        = 28195\n",
            "     flags     = DF\n",
            "     frag      = 0\n",
            "     ttl       = 64\n",
            "     proto     = 6\n",
            "     chksum    = 0x441f\n",
            "     src       = 192.168.1.132\n",
            "     dst       = 130.211.67.12\n",
            "     \\options   \\\n",
            "###[ TCP ]### \n",
            "        sport     = 60889\n",
            "        dport     = 80\n",
            "        seq       = 927659128\n",
            "        ack       = 3183762944\n",
            "        dataofs   = 5\n",
            "        reserved  = 0\n",
            "        flags     = PA\n",
            "        window    = 3650\n",
            "        chksum    = 0xe810\n",
            "        urgptr    = 0\n",
            "        options   = []\n",
            "###[ Raw ]### \n",
            "           load      = '4d95f3d56\\r\\n20\\r\\n47eab4b26491ac552fec164936689ce3\\r\\n20\\r\\nb70f45ae131abda9487eea9d6947d488\\r\\n20\\r\\nee1bb39c98a9680fa79997291e4e5cd9\\r\\n0\\r\\n\\r\\n'\n",
            "\n",
            "The Packet no 19670 has an anamoly.\n",
            "\n",
            "###[ Ethernet ]### \n",
            "  dst       = 00:17:88:75:b3:82\n",
            "  src       = 78:8a:20:43:93:d5\n",
            "  type      = IPv4\n",
            "###[ IP ]### \n",
            "     version   = 4\n",
            "     ihl       = 5\n",
            "     tos       = 0x0\n",
            "     len       = 40\n",
            "     id        = 59645\n",
            "     flags     = DF\n",
            "     frag      = 0\n",
            "     ttl       = 50\n",
            "     proto     = 6\n",
            "     chksum    = 0xd7c6\n",
            "     src       = 130.211.67.12\n",
            "     dst       = 192.168.1.132\n",
            "     \\options   \\\n",
            "###[ TCP ]### \n",
            "        sport     = 80\n",
            "        dport     = 60889\n",
            "        seq       = 3183762944\n",
            "        ack       = 927659258\n",
            "        dataofs   = 5\n",
            "        reserved  = 0\n",
            "        flags     = A\n",
            "        window    = 274\n",
            "        chksum    = 0xf082\n",
            "        urgptr    = 0\n",
            "        options   = []\n",
            "###[ Padding ]### \n",
            "           load      = '\\x00\\x00\\x00\\x00\\x00\\x00'\n",
            "\n",
            "The Packet no 19671 has an anamoly.\n",
            "\n",
            "###[ Ethernet ]### \n",
            "  dst       = 00:17:88:75:b3:82\n",
            "  src       = 78:8a:20:43:93:d5\n",
            "  type      = IPv4\n",
            "###[ IP ]### \n",
            "     version   = 4\n",
            "     ihl       = 5\n",
            "     tos       = 0x0\n",
            "     len       = 217\n",
            "     id        = 59646\n",
            "     flags     = DF\n",
            "     frag      = 0\n",
            "     ttl       = 50\n",
            "     proto     = 6\n",
            "     chksum    = 0xd714\n",
            "     src       = 130.211.67.12\n",
            "     dst       = 192.168.1.132\n",
            "     \\options   \\\n",
            "###[ TCP ]### \n",
            "        sport     = 80\n",
            "        dport     = 60889\n",
            "        seq       = 3183762944\n",
            "        ack       = 927659258\n",
            "        dataofs   = 5\n",
            "        reserved  = 0\n",
            "        flags     = PA\n",
            "        window    = 274\n",
            "        chksum    = 0x471e\n",
            "        urgptr    = 0\n",
            "        options   = []\n",
            "###[ Raw ]### \n",
            "           load      = 'HTTP/1.1 200 OK\\r\\nContent-Type: text/html; charset=utf-8\\r\\nContent-Length: 2\\r\\nETag: W/\"2-nOO9QiTIwXgNtWtBJezz8kv3SLc\"\\r\\nDate: Fri, 26 Oct 2018 08:02:07 GMT\\r\\nConnection: close\\r\\n\\r\\nOK'\n",
            "\n",
            "20000\n",
            "20500\n",
            "The Packet no 20954 has an anamoly.\n",
            "\n",
            "###[ Ethernet ]### \n",
            "  dst       = 78:8a:20:43:93:d5\n",
            "  src       = 00:17:88:75:b3:82\n",
            "  type      = IPv4\n",
            "###[ IP ]### \n",
            "     version   = 4\n",
            "     ihl       = 5\n",
            "     tos       = 0x0\n",
            "     len       = 3023\n",
            "     id        = 10993\n",
            "     flags     = DF\n",
            "     frag      = 0\n",
            "     ttl       = 64\n",
            "     proto     = 6\n",
            "     chksum    = 0x7c2c\n",
            "     src       = 192.168.1.132\n",
            "     dst       = 130.211.67.12\n",
            "     \\options   \\\n",
            "###[ TCP ]### \n",
            "        sport     = 60900\n",
            "        dport     = 80\n",
            "        seq       = 2718088850\n",
            "        ack       = 2197686782\n",
            "        dataofs   = 5\n",
            "        reserved  = 0\n",
            "        flags     = PA\n",
            "        window    = 3650\n",
            "        chksum    = 0x93cd\n",
            "        urgptr    = 0\n",
            "        options   = []\n",
            "###[ Raw ]### \n",
            "           load      = 'da410e347afd4c77178de2e9aa34fb1188e79913500828e4058a731b5de237800f0aa13fbca25457ba1c560d95e937b37cfe7726ce0074a6efd377339efa0faed301b10f155f916d66212e76b8f123271e97876e94f6d7c78b4f09fc67776f350acb537d13e0c21a8123288904f9f661a700ea00e510363a3eb1c14f655405e06b9fb4b1a0c29d7d7360db2ad2b14a01ef16dd49da031db5b66eb0a470821abcd9d7c248a4062e4f336ec2502635a902fb593de727d87edbd7835561fb6dae22d898653987747560b860768b0eebb4f4e64f0fdee613191b818f3106ed12f2d15607c40a34df40beab17ca6f52673221ffa1e3c176da3dad90bb367aa68305f641fa1ef92784faba7b809cf3d215ea0159795011bf67e9a2485f2ac641c964572fd49e36e9e8578668f80b78896f22f4fd10289dbe89d88b67ee49cad575eb4d790c72ee942b006673adacc57ad22455558637d61c781df3fd7820dd0659819cffa9130f2a373e4a3154475c8076c2a4fdfe853171b8c8f10f78912fe55ab6025d15a66f7604d5aa4bd6672abd5a729174a988947054f2a4c91ec0cff56785703fc14033180d51e5b38283cbc396e4252c6a90bb5c2c3a5f7c064a297ee6fc10fb75a94c48184ae00325bc7884be2ffac49fe5aea607b918a51d92aa6bdafa90a3bf5cf8c1612ed31ebbafdcf71694ce767677997495c6ea42d7b46111936073aee77e5eb54ad799535925d0b73342053781cf932dcd63fe7333f6ff2bcd98c375ee9e65f103359024687459f6bc9a604ae31b52794f6fc2f91abc3ba750339202f809513b9ddf86de606a7417f1dc30fcb753950982ba93120b98a932d14e33bf8f97475b46063a3e880992c9cf0f4cb6dbb8374c168b81ac57f9a0b2532512485e5ddac77a2fcef94d31a729902c347e795cd4bf836b2841215a9e1c8aacd2034aa98379a7ba2cfb543014bb03690ed2d13bf2fa5b7db267e9b7b7b42ebc9762678ec8c38aabafcaadd1e5b0a079c082ef78b670fd0b2e816adbd9b40c77539605b0b1ba1ed890c14999fd4d598a146437dd747e5f1b5ff10f5935d825c92ac31d8b33f7ebb0edc5c9f99e0c310ad1755165c8e95625036b067a1957b061bf50e78db3260d15cf7b9550529cadd466c99249861295dad6ac0a84cf520ce56b43a435540f35c8ac5ffd69eeaf402f9b74185490d7208baef89d048f14dff860ff3f295854365b6a84be5ba932c342d75dfb43cf2b88cb81a5d5ca57a046861cd66c6066cad9923cf161dc67af7d6710b514dba58303be7f2c809cbe4c0be189796ba7a81defde1a31e691faa90283a1bd00f459faee62e5fb5a3dbb7ba8065d977d0dc7219d64009a294fadd7328f157c5e2368d74688aaed4ebd4b0dfc164a4b953e3dac1304c15cbcd18b3d772bf9515f7f93f33a6da03deef15fbedc1d9011968953e9a5f5efdf45f99a0529d009ebeb05e3edfc3936953e92a28abc59969759e2648873546eafcd0c778bfd46c744f73e9a01e0bb616c6c1b6c1f4243ce0ce6ebbd9fa51b40d75b561aad32b0d554aad83d9e72ade6eb3bdc4ae6861f3879a08f019dadbc01f14babcf4fa56f54f27047b802f6f12aa523e16b3b8cd59697d1cce48e78a0f58f97ffee366bc32c0e814d335d815e4ad43cf0da5cc849eb22732077acddb996f9f951b5e09ca0af88f3a5c4ca986bf25bc8433da3ee6673365db6ed2f253d9ca7c5f0048bef4e01e0cf0e07ee74036ec93f460570a76427a1f054f115f3aaa8f2935f1489f216d77b39dc9de5a2b9fbe7629ec41f9d827bd55cfa59b478e41c00a4f68beeb75b3a83f3e5046e1d284bb5644febb4657df6b0c265cb3c019f99417e0c70a1527e35078db78b4b454e9888f94831dcd90acfd3ff3ef236d15db6dbeb8904c3db417ed19cba48499b829d090451641a001a389ec6e5209eee215c9b5971bc44609d1262692991af61fd90b9cb89aa913d647416d86ce0cdca2f2563b15e321d79d2230839713096a26c899e0f043031bcf9532c8b6ab0fc73dbc0879612479c1a10f601b431f1948991c0f04b261b54dcc8e7b92dc1d576a6c1e1ae49b23431b22ef87b4d465'\n",
            "\n",
            "The Packet no 20955 has an anamoly.\n",
            "\n",
            "###[ Ethernet ]### \n",
            "  dst       = 00:17:88:75:b3:82\n",
            "  src       = 78:8a:20:43:93:d5\n",
            "  type      = IPv4\n",
            "###[ IP ]### \n",
            "     version   = 4\n",
            "     ihl       = 5\n",
            "     tos       = 0x0\n",
            "     len       = 40\n",
            "     id        = 61811\n",
            "     flags     = DF\n",
            "     frag      = 0\n",
            "     ttl       = 50\n",
            "     proto     = 6\n",
            "     chksum    = 0xcf50\n",
            "     src       = 130.211.67.12\n",
            "     dst       = 192.168.1.132\n",
            "     \\options   \\\n",
            "###[ TCP ]### \n",
            "        sport     = 80\n",
            "        dport     = 60900\n",
            "        seq       = 2197686782\n",
            "        ack       = 2718084470\n",
            "        dataofs   = 5\n",
            "        reserved  = 0\n",
            "        flags     = A\n",
            "        window    = 251\n",
            "        chksum    = 0x5c23\n",
            "        urgptr    = 0\n",
            "        options   = []\n",
            "###[ Padding ]### \n",
            "           load      = '\\x00\\x00\\x00\\x00\\x00\\x00'\n",
            "\n",
            "The Packet no 20964 has an anamoly.\n",
            "\n",
            "###[ Ethernet ]### \n",
            "  dst       = 78:8a:20:43:93:d5\n",
            "  src       = 00:17:88:75:b3:82\n",
            "  type      = IPv4\n",
            "###[ IP ]### \n",
            "     version   = 4\n",
            "     ihl       = 5\n",
            "     tos       = 0x0\n",
            "     len       = 40\n",
            "     id        = 10997\n",
            "     flags     = DF\n",
            "     frag      = 0\n",
            "     ttl       = 64\n",
            "     proto     = 6\n",
            "     chksum    = 0x87cf\n",
            "     src       = 192.168.1.132\n",
            "     dst       = 130.211.67.12\n",
            "     \\options   \\\n",
            "###[ TCP ]### \n",
            "        sport     = 60900\n",
            "        dport     = 80\n",
            "        seq       = 2718091833\n",
            "        ack       = 2197686964\n",
            "        dataofs   = 5\n",
            "        reserved  = 0\n",
            "        flags     = FA\n",
            "        window    = 3784\n",
            "        chksum    = 0x30dc\n",
            "        urgptr    = 0\n",
            "        options   = []\n",
            "###[ Padding ]### \n",
            "           load      = '\\x00\\x00\\x00\\x00\\x00\\x00'\n",
            "\n",
            "21000\n",
            "21500\n",
            "Complete. Time elapsed: 48.99441838264465 \n",
            "\n",
            "Your PCAP file has 17 intrusions detected. \n",
            "\n",
            "Plotting results\n"
          ],
          "name": "stdout"
        },
        {
          "output_type": "display_data",
          "data": {
            "image/png": "[encoded data removed]",
            "text/plain": [
              "<Figure size 720x360 with 2 Axes>"
            ]
          },
          "metadata": {
            "tags": [],
            "needs_background": "light"
          }
        }
      ]
    }
  ]
}